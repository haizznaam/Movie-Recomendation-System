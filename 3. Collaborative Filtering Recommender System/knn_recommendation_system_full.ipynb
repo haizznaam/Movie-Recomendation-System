{
  "nbformat": 4,
  "nbformat_minor": 0,
  "metadata": {
    "colab": {
      "provenance": [],
      "machine_shape": "hm",
      "gpuType": "T4",
      "mount_file_id": "1QS6DaPfHiLKE5mGYYYyDH9MHI2Hpcc9p",
      "authorship_tag": "ABX9TyPPaXY162O/CQVOtCptHYQa",
      "include_colab_link": true
    },
    "kernelspec": {
      "name": "python3",
      "display_name": "Python 3"
    },
    "language_info": {
      "name": "python"
    },
    "accelerator": "GPU"
  },
  "cells": [
    {
      "cell_type": "markdown",
      "metadata": {
        "id": "view-in-github",
        "colab_type": "text"
      },
      "source": [
        "<a href=\"https://colab.research.google.com/github/haizznaam/Content-Based-and-Tensorflow-Movie-Recommender-System/blob/main/knn_recommendation_system_full.ipynb\" target=\"_parent\"><img src=\"https://colab.research.google.com/assets/colab-badge.svg\" alt=\"Open In Colab\"/></a>"
      ]
    },
    {
      "cell_type": "code",
      "execution_count": 3,
      "metadata": {
        "colab": {
          "base_uri": "https://localhost:8080/"
        },
        "id": "_s9fnVgEo3wl",
        "outputId": "ecaad5fb-1570-48c0-b7ce-e0deacb39178"
      },
      "outputs": [
        {
          "output_type": "stream",
          "name": "stdout",
          "text": [
            "We are currently in the folder of  /content/drive/MyDrive/Movie Recommendation System/The-Movie-Dataset\n"
          ]
        }
      ],
      "source": [
        "import os\n",
        "os.chdir('/content/drive/MyDrive/Movie Recommendation System/The-Movie-Dataset/')\n",
        "print(\"We are currently in the folder of \", os.getcwd())"
      ]
    },
    {
      "cell_type": "markdown",
      "source": [
        "# [KNN](#KNN)\n",
        "- ## [Data preperation](##KNN-Data-preperation)\n",
        "- ## [KNN Implamentation and Training](##KNN-Implamentation-and-Training)\n",
        "- ## [Implamenting Prediction and Evaluation](##Implamenting-Prediction-and-Evaluation)\n",
        "- ## [Testing different K values](##Testing-different-K-values)\n",
        "- ## [Adding new Users or Items or rating and adressing the cold start problem](##Adding-new-Users-or-Items-or-rating-and-adressing-the-cold-start-problem)"
      ],
      "metadata": {
        "id": "FRzlaEF2q1oT"
      }
    },
    {
      "cell_type": "markdown",
      "source": [
        "# KNN\n",
        "\n",
        "Understanding KNN:\n",
        "\n",
        "https://www.youtube.com/watch?v=jw5LhTWUoG4&t=127s\n",
        "\n",
        "https://www.youtube.com/watch?v=kccT0FVK6OY\n",
        "\n",
        "https://chat.openai.com/share/837847bb-ae5f-4cc3-a8a3-a664f352365f"
      ],
      "metadata": {
        "id": "fttlvnWurQXi"
      }
    },
    {
      "cell_type": "code",
      "source": [
        "import pandas as pd\n",
        "from sklearn.model_selection import train_test_split\n",
        "import numpy as np\n",
        "import matplotlib.pyplot as plt\n",
        "import os\n",
        "import pickle"
      ],
      "metadata": {
        "id": "LU-I4qMYpNj1"
      },
      "execution_count": 4,
      "outputs": []
    },
    {
      "cell_type": "markdown",
      "source": [
        "Prepearing the data for KNN is a bit different then for SVD. We are gonna look at two examples 1. Where we have all possible user entries in our KNN matrix and all of our possible item entries. So in other words we have all the users and movies that are ever going to be used on our algorithem.\n",
        "\n",
        "In the real world things area bit different since new users and moveis / items are added every day. the 2. metod we will look at is upgrading our algorithem to be able to handle  new users and items respectively.  "
      ],
      "metadata": {
        "id": "6OIpZ7Rpr0N4"
      }
    },
    {
      "cell_type": "markdown",
      "source": [
        "## KNN Data preperation"
      ],
      "metadata": {
        "id": "huprk3dRsKUz"
      }
    },
    {
      "cell_type": "markdown",
      "source": [
        "## 1. Static user and item entries no new users\n",
        "For this aproach we will gaurantee that each user and each item has an entry in our trainign dataset. Because for KNN we need entries to predict unlike SVD. That's because KNN works on other user's rating for similar entries unlike SVD that mathamaticaly models latent factors and can \"implicitly\" \"learn\" what similar data might be rated as.\n",
        "\n",
        "Đối với phương pháp này, chúng tôi sẽ đảm bảo rằng mỗi user và mỗi item đều có một entry trong tập dữ liệu huấn luyện của chúng tôi.\n",
        "\n",
        "Vì đối với KNN chúng ta cần các entries để dự đoán,  không giống như SVD. Đó là bởi vì KNN hoạt động dựa trên xếp hạng của người dùng khác cho các mục tương tự không giống như SVD mà toán học mô hình hóa các yếu tố tiềm ẩn và có thể \"ngầm\" \"tìm hiểu\" dữ liệu tương tự có thể được xếp hạng là gì."
      ],
      "metadata": {
        "id": "zFx6C5eksO6L"
      }
    },
    {
      "cell_type": "markdown",
      "source": [
        "The following is my first intuitive attempt at spliting and prepearing the data, but it is wrong we will get to that shortly:"
      ],
      "metadata": {
        "id": "V9eBVTWGuFrS"
      }
    },
    {
      "cell_type": "code",
      "source": [
        "# Load the dataset\n",
        "df = pd.read_csv('ratings_small.csv')\n",
        "\n",
        "# Display the first few rows of the dataframe\n",
        "df.head()\n"
      ],
      "metadata": {
        "colab": {
          "base_uri": "https://localhost:8080/",
          "height": 206
        },
        "id": "_Zh5sbxqrdpo",
        "outputId": "269e8896-aa9d-4653-91ea-74fd5135ce6d"
      },
      "execution_count": 5,
      "outputs": [
        {
          "output_type": "execute_result",
          "data": {
            "text/plain": [
              "   userId  movieId  rating   timestamp\n",
              "0       1       31     2.5  1260759144\n",
              "1       1     1029     3.0  1260759179\n",
              "2       1     1061     3.0  1260759182\n",
              "3       1     1129     2.0  1260759185\n",
              "4       1     1172     4.0  1260759205"
            ],
            "text/html": [
              "\n",
              "  <div id=\"df-4bb732b2-0ba0-4f1c-b5ec-cfc5aaaab21e\" class=\"colab-df-container\">\n",
              "    <div>\n",
              "<style scoped>\n",
              "    .dataframe tbody tr th:only-of-type {\n",
              "        vertical-align: middle;\n",
              "    }\n",
              "\n",
              "    .dataframe tbody tr th {\n",
              "        vertical-align: top;\n",
              "    }\n",
              "\n",
              "    .dataframe thead th {\n",
              "        text-align: right;\n",
              "    }\n",
              "</style>\n",
              "<table border=\"1\" class=\"dataframe\">\n",
              "  <thead>\n",
              "    <tr style=\"text-align: right;\">\n",
              "      <th></th>\n",
              "      <th>userId</th>\n",
              "      <th>movieId</th>\n",
              "      <th>rating</th>\n",
              "      <th>timestamp</th>\n",
              "    </tr>\n",
              "  </thead>\n",
              "  <tbody>\n",
              "    <tr>\n",
              "      <th>0</th>\n",
              "      <td>1</td>\n",
              "      <td>31</td>\n",
              "      <td>2.5</td>\n",
              "      <td>1260759144</td>\n",
              "    </tr>\n",
              "    <tr>\n",
              "      <th>1</th>\n",
              "      <td>1</td>\n",
              "      <td>1029</td>\n",
              "      <td>3.0</td>\n",
              "      <td>1260759179</td>\n",
              "    </tr>\n",
              "    <tr>\n",
              "      <th>2</th>\n",
              "      <td>1</td>\n",
              "      <td>1061</td>\n",
              "      <td>3.0</td>\n",
              "      <td>1260759182</td>\n",
              "    </tr>\n",
              "    <tr>\n",
              "      <th>3</th>\n",
              "      <td>1</td>\n",
              "      <td>1129</td>\n",
              "      <td>2.0</td>\n",
              "      <td>1260759185</td>\n",
              "    </tr>\n",
              "    <tr>\n",
              "      <th>4</th>\n",
              "      <td>1</td>\n",
              "      <td>1172</td>\n",
              "      <td>4.0</td>\n",
              "      <td>1260759205</td>\n",
              "    </tr>\n",
              "  </tbody>\n",
              "</table>\n",
              "</div>\n",
              "    <div class=\"colab-df-buttons\">\n",
              "\n",
              "  <div class=\"colab-df-container\">\n",
              "    <button class=\"colab-df-convert\" onclick=\"convertToInteractive('df-4bb732b2-0ba0-4f1c-b5ec-cfc5aaaab21e')\"\n",
              "            title=\"Convert this dataframe to an interactive table.\"\n",
              "            style=\"display:none;\">\n",
              "\n",
              "  <svg xmlns=\"http://www.w3.org/2000/svg\" height=\"24px\" viewBox=\"0 -960 960 960\">\n",
              "    <path d=\"M120-120v-720h720v720H120Zm60-500h600v-160H180v160Zm220 220h160v-160H400v160Zm0 220h160v-160H400v160ZM180-400h160v-160H180v160Zm440 0h160v-160H620v160ZM180-180h160v-160H180v160Zm440 0h160v-160H620v160Z\"/>\n",
              "  </svg>\n",
              "    </button>\n",
              "\n",
              "  <style>\n",
              "    .colab-df-container {\n",
              "      display:flex;\n",
              "      gap: 12px;\n",
              "    }\n",
              "\n",
              "    .colab-df-convert {\n",
              "      background-color: #E8F0FE;\n",
              "      border: none;\n",
              "      border-radius: 50%;\n",
              "      cursor: pointer;\n",
              "      display: none;\n",
              "      fill: #1967D2;\n",
              "      height: 32px;\n",
              "      padding: 0 0 0 0;\n",
              "      width: 32px;\n",
              "    }\n",
              "\n",
              "    .colab-df-convert:hover {\n",
              "      background-color: #E2EBFA;\n",
              "      box-shadow: 0px 1px 2px rgba(60, 64, 67, 0.3), 0px 1px 3px 1px rgba(60, 64, 67, 0.15);\n",
              "      fill: #174EA6;\n",
              "    }\n",
              "\n",
              "    .colab-df-buttons div {\n",
              "      margin-bottom: 4px;\n",
              "    }\n",
              "\n",
              "    [theme=dark] .colab-df-convert {\n",
              "      background-color: #3B4455;\n",
              "      fill: #D2E3FC;\n",
              "    }\n",
              "\n",
              "    [theme=dark] .colab-df-convert:hover {\n",
              "      background-color: #434B5C;\n",
              "      box-shadow: 0px 1px 3px 1px rgba(0, 0, 0, 0.15);\n",
              "      filter: drop-shadow(0px 1px 2px rgba(0, 0, 0, 0.3));\n",
              "      fill: #FFFFFF;\n",
              "    }\n",
              "  </style>\n",
              "\n",
              "    <script>\n",
              "      const buttonEl =\n",
              "        document.querySelector('#df-4bb732b2-0ba0-4f1c-b5ec-cfc5aaaab21e button.colab-df-convert');\n",
              "      buttonEl.style.display =\n",
              "        google.colab.kernel.accessAllowed ? 'block' : 'none';\n",
              "\n",
              "      async function convertToInteractive(key) {\n",
              "        const element = document.querySelector('#df-4bb732b2-0ba0-4f1c-b5ec-cfc5aaaab21e');\n",
              "        const dataTable =\n",
              "          await google.colab.kernel.invokeFunction('convertToInteractive',\n",
              "                                                    [key], {});\n",
              "        if (!dataTable) return;\n",
              "\n",
              "        const docLinkHtml = 'Like what you see? Visit the ' +\n",
              "          '<a target=\"_blank\" href=https://colab.research.google.com/notebooks/data_table.ipynb>data table notebook</a>'\n",
              "          + ' to learn more about interactive tables.';\n",
              "        element.innerHTML = '';\n",
              "        dataTable['output_type'] = 'display_data';\n",
              "        await google.colab.output.renderOutput(dataTable, element);\n",
              "        const docLink = document.createElement('div');\n",
              "        docLink.innerHTML = docLinkHtml;\n",
              "        element.appendChild(docLink);\n",
              "      }\n",
              "    </script>\n",
              "  </div>\n",
              "\n",
              "\n",
              "<div id=\"df-a8c9d014-08b1-4026-a669-53a9691ee033\">\n",
              "  <button class=\"colab-df-quickchart\" onclick=\"quickchart('df-a8c9d014-08b1-4026-a669-53a9691ee033')\"\n",
              "            title=\"Suggest charts\"\n",
              "            style=\"display:none;\">\n",
              "\n",
              "<svg xmlns=\"http://www.w3.org/2000/svg\" height=\"24px\"viewBox=\"0 0 24 24\"\n",
              "     width=\"24px\">\n",
              "    <g>\n",
              "        <path d=\"M19 3H5c-1.1 0-2 .9-2 2v14c0 1.1.9 2 2 2h14c1.1 0 2-.9 2-2V5c0-1.1-.9-2-2-2zM9 17H7v-7h2v7zm4 0h-2V7h2v10zm4 0h-2v-4h2v4z\"/>\n",
              "    </g>\n",
              "</svg>\n",
              "  </button>\n",
              "\n",
              "<style>\n",
              "  .colab-df-quickchart {\n",
              "      --bg-color: #E8F0FE;\n",
              "      --fill-color: #1967D2;\n",
              "      --hover-bg-color: #E2EBFA;\n",
              "      --hover-fill-color: #174EA6;\n",
              "      --disabled-fill-color: #AAA;\n",
              "      --disabled-bg-color: #DDD;\n",
              "  }\n",
              "\n",
              "  [theme=dark] .colab-df-quickchart {\n",
              "      --bg-color: #3B4455;\n",
              "      --fill-color: #D2E3FC;\n",
              "      --hover-bg-color: #434B5C;\n",
              "      --hover-fill-color: #FFFFFF;\n",
              "      --disabled-bg-color: #3B4455;\n",
              "      --disabled-fill-color: #666;\n",
              "  }\n",
              "\n",
              "  .colab-df-quickchart {\n",
              "    background-color: var(--bg-color);\n",
              "    border: none;\n",
              "    border-radius: 50%;\n",
              "    cursor: pointer;\n",
              "    display: none;\n",
              "    fill: var(--fill-color);\n",
              "    height: 32px;\n",
              "    padding: 0;\n",
              "    width: 32px;\n",
              "  }\n",
              "\n",
              "  .colab-df-quickchart:hover {\n",
              "    background-color: var(--hover-bg-color);\n",
              "    box-shadow: 0 1px 2px rgba(60, 64, 67, 0.3), 0 1px 3px 1px rgba(60, 64, 67, 0.15);\n",
              "    fill: var(--button-hover-fill-color);\n",
              "  }\n",
              "\n",
              "  .colab-df-quickchart-complete:disabled,\n",
              "  .colab-df-quickchart-complete:disabled:hover {\n",
              "    background-color: var(--disabled-bg-color);\n",
              "    fill: var(--disabled-fill-color);\n",
              "    box-shadow: none;\n",
              "  }\n",
              "\n",
              "  .colab-df-spinner {\n",
              "    border: 2px solid var(--fill-color);\n",
              "    border-color: transparent;\n",
              "    border-bottom-color: var(--fill-color);\n",
              "    animation:\n",
              "      spin 1s steps(1) infinite;\n",
              "  }\n",
              "\n",
              "  @keyframes spin {\n",
              "    0% {\n",
              "      border-color: transparent;\n",
              "      border-bottom-color: var(--fill-color);\n",
              "      border-left-color: var(--fill-color);\n",
              "    }\n",
              "    20% {\n",
              "      border-color: transparent;\n",
              "      border-left-color: var(--fill-color);\n",
              "      border-top-color: var(--fill-color);\n",
              "    }\n",
              "    30% {\n",
              "      border-color: transparent;\n",
              "      border-left-color: var(--fill-color);\n",
              "      border-top-color: var(--fill-color);\n",
              "      border-right-color: var(--fill-color);\n",
              "    }\n",
              "    40% {\n",
              "      border-color: transparent;\n",
              "      border-right-color: var(--fill-color);\n",
              "      border-top-color: var(--fill-color);\n",
              "    }\n",
              "    60% {\n",
              "      border-color: transparent;\n",
              "      border-right-color: var(--fill-color);\n",
              "    }\n",
              "    80% {\n",
              "      border-color: transparent;\n",
              "      border-right-color: var(--fill-color);\n",
              "      border-bottom-color: var(--fill-color);\n",
              "    }\n",
              "    90% {\n",
              "      border-color: transparent;\n",
              "      border-bottom-color: var(--fill-color);\n",
              "    }\n",
              "  }\n",
              "</style>\n",
              "\n",
              "  <script>\n",
              "    async function quickchart(key) {\n",
              "      const quickchartButtonEl =\n",
              "        document.querySelector('#' + key + ' button');\n",
              "      quickchartButtonEl.disabled = true;  // To prevent multiple clicks.\n",
              "      quickchartButtonEl.classList.add('colab-df-spinner');\n",
              "      try {\n",
              "        const charts = await google.colab.kernel.invokeFunction(\n",
              "            'suggestCharts', [key], {});\n",
              "      } catch (error) {\n",
              "        console.error('Error during call to suggestCharts:', error);\n",
              "      }\n",
              "      quickchartButtonEl.classList.remove('colab-df-spinner');\n",
              "      quickchartButtonEl.classList.add('colab-df-quickchart-complete');\n",
              "    }\n",
              "    (() => {\n",
              "      let quickchartButtonEl =\n",
              "        document.querySelector('#df-a8c9d014-08b1-4026-a669-53a9691ee033 button');\n",
              "      quickchartButtonEl.style.display =\n",
              "        google.colab.kernel.accessAllowed ? 'block' : 'none';\n",
              "    })();\n",
              "  </script>\n",
              "</div>\n",
              "\n",
              "    </div>\n",
              "  </div>\n"
            ],
            "application/vnd.google.colaboratory.intrinsic+json": {
              "type": "dataframe",
              "variable_name": "df"
            }
          },
          "metadata": {},
          "execution_count": 5
        }
      ]
    },
    {
      "cell_type": "code",
      "source": [
        "df.columns = ['user_id', 'item_id', 'rating', 'timestamp']\n",
        "df.head()"
      ],
      "metadata": {
        "colab": {
          "base_uri": "https://localhost:8080/",
          "height": 206
        },
        "id": "VLB7QYSLuNr4",
        "outputId": "ae0faf5e-707c-4474-a3d2-ef6c9befac39"
      },
      "execution_count": 6,
      "outputs": [
        {
          "output_type": "execute_result",
          "data": {
            "text/plain": [
              "   user_id  item_id  rating   timestamp\n",
              "0        1       31     2.5  1260759144\n",
              "1        1     1029     3.0  1260759179\n",
              "2        1     1061     3.0  1260759182\n",
              "3        1     1129     2.0  1260759185\n",
              "4        1     1172     4.0  1260759205"
            ],
            "text/html": [
              "\n",
              "  <div id=\"df-3b095a05-ea49-49ae-b561-645897a148bd\" class=\"colab-df-container\">\n",
              "    <div>\n",
              "<style scoped>\n",
              "    .dataframe tbody tr th:only-of-type {\n",
              "        vertical-align: middle;\n",
              "    }\n",
              "\n",
              "    .dataframe tbody tr th {\n",
              "        vertical-align: top;\n",
              "    }\n",
              "\n",
              "    .dataframe thead th {\n",
              "        text-align: right;\n",
              "    }\n",
              "</style>\n",
              "<table border=\"1\" class=\"dataframe\">\n",
              "  <thead>\n",
              "    <tr style=\"text-align: right;\">\n",
              "      <th></th>\n",
              "      <th>user_id</th>\n",
              "      <th>item_id</th>\n",
              "      <th>rating</th>\n",
              "      <th>timestamp</th>\n",
              "    </tr>\n",
              "  </thead>\n",
              "  <tbody>\n",
              "    <tr>\n",
              "      <th>0</th>\n",
              "      <td>1</td>\n",
              "      <td>31</td>\n",
              "      <td>2.5</td>\n",
              "      <td>1260759144</td>\n",
              "    </tr>\n",
              "    <tr>\n",
              "      <th>1</th>\n",
              "      <td>1</td>\n",
              "      <td>1029</td>\n",
              "      <td>3.0</td>\n",
              "      <td>1260759179</td>\n",
              "    </tr>\n",
              "    <tr>\n",
              "      <th>2</th>\n",
              "      <td>1</td>\n",
              "      <td>1061</td>\n",
              "      <td>3.0</td>\n",
              "      <td>1260759182</td>\n",
              "    </tr>\n",
              "    <tr>\n",
              "      <th>3</th>\n",
              "      <td>1</td>\n",
              "      <td>1129</td>\n",
              "      <td>2.0</td>\n",
              "      <td>1260759185</td>\n",
              "    </tr>\n",
              "    <tr>\n",
              "      <th>4</th>\n",
              "      <td>1</td>\n",
              "      <td>1172</td>\n",
              "      <td>4.0</td>\n",
              "      <td>1260759205</td>\n",
              "    </tr>\n",
              "  </tbody>\n",
              "</table>\n",
              "</div>\n",
              "    <div class=\"colab-df-buttons\">\n",
              "\n",
              "  <div class=\"colab-df-container\">\n",
              "    <button class=\"colab-df-convert\" onclick=\"convertToInteractive('df-3b095a05-ea49-49ae-b561-645897a148bd')\"\n",
              "            title=\"Convert this dataframe to an interactive table.\"\n",
              "            style=\"display:none;\">\n",
              "\n",
              "  <svg xmlns=\"http://www.w3.org/2000/svg\" height=\"24px\" viewBox=\"0 -960 960 960\">\n",
              "    <path d=\"M120-120v-720h720v720H120Zm60-500h600v-160H180v160Zm220 220h160v-160H400v160Zm0 220h160v-160H400v160ZM180-400h160v-160H180v160Zm440 0h160v-160H620v160ZM180-180h160v-160H180v160Zm440 0h160v-160H620v160Z\"/>\n",
              "  </svg>\n",
              "    </button>\n",
              "\n",
              "  <style>\n",
              "    .colab-df-container {\n",
              "      display:flex;\n",
              "      gap: 12px;\n",
              "    }\n",
              "\n",
              "    .colab-df-convert {\n",
              "      background-color: #E8F0FE;\n",
              "      border: none;\n",
              "      border-radius: 50%;\n",
              "      cursor: pointer;\n",
              "      display: none;\n",
              "      fill: #1967D2;\n",
              "      height: 32px;\n",
              "      padding: 0 0 0 0;\n",
              "      width: 32px;\n",
              "    }\n",
              "\n",
              "    .colab-df-convert:hover {\n",
              "      background-color: #E2EBFA;\n",
              "      box-shadow: 0px 1px 2px rgba(60, 64, 67, 0.3), 0px 1px 3px 1px rgba(60, 64, 67, 0.15);\n",
              "      fill: #174EA6;\n",
              "    }\n",
              "\n",
              "    .colab-df-buttons div {\n",
              "      margin-bottom: 4px;\n",
              "    }\n",
              "\n",
              "    [theme=dark] .colab-df-convert {\n",
              "      background-color: #3B4455;\n",
              "      fill: #D2E3FC;\n",
              "    }\n",
              "\n",
              "    [theme=dark] .colab-df-convert:hover {\n",
              "      background-color: #434B5C;\n",
              "      box-shadow: 0px 1px 3px 1px rgba(0, 0, 0, 0.15);\n",
              "      filter: drop-shadow(0px 1px 2px rgba(0, 0, 0, 0.3));\n",
              "      fill: #FFFFFF;\n",
              "    }\n",
              "  </style>\n",
              "\n",
              "    <script>\n",
              "      const buttonEl =\n",
              "        document.querySelector('#df-3b095a05-ea49-49ae-b561-645897a148bd button.colab-df-convert');\n",
              "      buttonEl.style.display =\n",
              "        google.colab.kernel.accessAllowed ? 'block' : 'none';\n",
              "\n",
              "      async function convertToInteractive(key) {\n",
              "        const element = document.querySelector('#df-3b095a05-ea49-49ae-b561-645897a148bd');\n",
              "        const dataTable =\n",
              "          await google.colab.kernel.invokeFunction('convertToInteractive',\n",
              "                                                    [key], {});\n",
              "        if (!dataTable) return;\n",
              "\n",
              "        const docLinkHtml = 'Like what you see? Visit the ' +\n",
              "          '<a target=\"_blank\" href=https://colab.research.google.com/notebooks/data_table.ipynb>data table notebook</a>'\n",
              "          + ' to learn more about interactive tables.';\n",
              "        element.innerHTML = '';\n",
              "        dataTable['output_type'] = 'display_data';\n",
              "        await google.colab.output.renderOutput(dataTable, element);\n",
              "        const docLink = document.createElement('div');\n",
              "        docLink.innerHTML = docLinkHtml;\n",
              "        element.appendChild(docLink);\n",
              "      }\n",
              "    </script>\n",
              "  </div>\n",
              "\n",
              "\n",
              "<div id=\"df-3d853260-5306-474a-ac29-ee9f9284f375\">\n",
              "  <button class=\"colab-df-quickchart\" onclick=\"quickchart('df-3d853260-5306-474a-ac29-ee9f9284f375')\"\n",
              "            title=\"Suggest charts\"\n",
              "            style=\"display:none;\">\n",
              "\n",
              "<svg xmlns=\"http://www.w3.org/2000/svg\" height=\"24px\"viewBox=\"0 0 24 24\"\n",
              "     width=\"24px\">\n",
              "    <g>\n",
              "        <path d=\"M19 3H5c-1.1 0-2 .9-2 2v14c0 1.1.9 2 2 2h14c1.1 0 2-.9 2-2V5c0-1.1-.9-2-2-2zM9 17H7v-7h2v7zm4 0h-2V7h2v10zm4 0h-2v-4h2v4z\"/>\n",
              "    </g>\n",
              "</svg>\n",
              "  </button>\n",
              "\n",
              "<style>\n",
              "  .colab-df-quickchart {\n",
              "      --bg-color: #E8F0FE;\n",
              "      --fill-color: #1967D2;\n",
              "      --hover-bg-color: #E2EBFA;\n",
              "      --hover-fill-color: #174EA6;\n",
              "      --disabled-fill-color: #AAA;\n",
              "      --disabled-bg-color: #DDD;\n",
              "  }\n",
              "\n",
              "  [theme=dark] .colab-df-quickchart {\n",
              "      --bg-color: #3B4455;\n",
              "      --fill-color: #D2E3FC;\n",
              "      --hover-bg-color: #434B5C;\n",
              "      --hover-fill-color: #FFFFFF;\n",
              "      --disabled-bg-color: #3B4455;\n",
              "      --disabled-fill-color: #666;\n",
              "  }\n",
              "\n",
              "  .colab-df-quickchart {\n",
              "    background-color: var(--bg-color);\n",
              "    border: none;\n",
              "    border-radius: 50%;\n",
              "    cursor: pointer;\n",
              "    display: none;\n",
              "    fill: var(--fill-color);\n",
              "    height: 32px;\n",
              "    padding: 0;\n",
              "    width: 32px;\n",
              "  }\n",
              "\n",
              "  .colab-df-quickchart:hover {\n",
              "    background-color: var(--hover-bg-color);\n",
              "    box-shadow: 0 1px 2px rgba(60, 64, 67, 0.3), 0 1px 3px 1px rgba(60, 64, 67, 0.15);\n",
              "    fill: var(--button-hover-fill-color);\n",
              "  }\n",
              "\n",
              "  .colab-df-quickchart-complete:disabled,\n",
              "  .colab-df-quickchart-complete:disabled:hover {\n",
              "    background-color: var(--disabled-bg-color);\n",
              "    fill: var(--disabled-fill-color);\n",
              "    box-shadow: none;\n",
              "  }\n",
              "\n",
              "  .colab-df-spinner {\n",
              "    border: 2px solid var(--fill-color);\n",
              "    border-color: transparent;\n",
              "    border-bottom-color: var(--fill-color);\n",
              "    animation:\n",
              "      spin 1s steps(1) infinite;\n",
              "  }\n",
              "\n",
              "  @keyframes spin {\n",
              "    0% {\n",
              "      border-color: transparent;\n",
              "      border-bottom-color: var(--fill-color);\n",
              "      border-left-color: var(--fill-color);\n",
              "    }\n",
              "    20% {\n",
              "      border-color: transparent;\n",
              "      border-left-color: var(--fill-color);\n",
              "      border-top-color: var(--fill-color);\n",
              "    }\n",
              "    30% {\n",
              "      border-color: transparent;\n",
              "      border-left-color: var(--fill-color);\n",
              "      border-top-color: var(--fill-color);\n",
              "      border-right-color: var(--fill-color);\n",
              "    }\n",
              "    40% {\n",
              "      border-color: transparent;\n",
              "      border-right-color: var(--fill-color);\n",
              "      border-top-color: var(--fill-color);\n",
              "    }\n",
              "    60% {\n",
              "      border-color: transparent;\n",
              "      border-right-color: var(--fill-color);\n",
              "    }\n",
              "    80% {\n",
              "      border-color: transparent;\n",
              "      border-right-color: var(--fill-color);\n",
              "      border-bottom-color: var(--fill-color);\n",
              "    }\n",
              "    90% {\n",
              "      border-color: transparent;\n",
              "      border-bottom-color: var(--fill-color);\n",
              "    }\n",
              "  }\n",
              "</style>\n",
              "\n",
              "  <script>\n",
              "    async function quickchart(key) {\n",
              "      const quickchartButtonEl =\n",
              "        document.querySelector('#' + key + ' button');\n",
              "      quickchartButtonEl.disabled = true;  // To prevent multiple clicks.\n",
              "      quickchartButtonEl.classList.add('colab-df-spinner');\n",
              "      try {\n",
              "        const charts = await google.colab.kernel.invokeFunction(\n",
              "            'suggestCharts', [key], {});\n",
              "      } catch (error) {\n",
              "        console.error('Error during call to suggestCharts:', error);\n",
              "      }\n",
              "      quickchartButtonEl.classList.remove('colab-df-spinner');\n",
              "      quickchartButtonEl.classList.add('colab-df-quickchart-complete');\n",
              "    }\n",
              "    (() => {\n",
              "      let quickchartButtonEl =\n",
              "        document.querySelector('#df-3d853260-5306-474a-ac29-ee9f9284f375 button');\n",
              "      quickchartButtonEl.style.display =\n",
              "        google.colab.kernel.accessAllowed ? 'block' : 'none';\n",
              "    })();\n",
              "  </script>\n",
              "</div>\n",
              "\n",
              "    </div>\n",
              "  </div>\n"
            ],
            "application/vnd.google.colaboratory.intrinsic+json": {
              "type": "dataframe",
              "variable_name": "df"
            }
          },
          "metadata": {},
          "execution_count": 6
        }
      ]
    },
    {
      "cell_type": "code",
      "source": [
        "# Perform a train-test split\n",
        "train_data, test_data = train_test_split(df, test_size=0.2, random_state=42)\n",
        "\n",
        "# Check the size of the resulting splits\n",
        "print(f\"Train data size: {train_data.shape}\")\n",
        "print(f\"Test data size: {test_data.shape}\")"
      ],
      "metadata": {
        "colab": {
          "base_uri": "https://localhost:8080/"
        },
        "id": "9VpU-A7guUVy",
        "outputId": "598c4955-ed7a-4ff1-b839-1f61187a032b"
      },
      "execution_count": 7,
      "outputs": [
        {
          "output_type": "stream",
          "name": "stdout",
          "text": [
            "Train data size: (80003, 4)\n",
            "Test data size: (20001, 4)\n"
          ]
        }
      ]
    },
    {
      "cell_type": "code",
      "source": [
        "num_users = train_data['user_id'].nunique()\n",
        "num_items = train_data['item_id'].nunique()\n",
        "print(\"number of unique users:\", num_users)\n",
        "print(\"number of unique items:\", num_items)"
      ],
      "metadata": {
        "colab": {
          "base_uri": "https://localhost:8080/"
        },
        "id": "NXaBsbciudoN",
        "outputId": "69a0df14-806a-48e7-afb2-5bcb73676b00"
      },
      "execution_count": 8,
      "outputs": [
        {
          "output_type": "stream",
          "name": "stdout",
          "text": [
            "number of unique users: 671\n",
            "number of unique items: 8399\n"
          ]
        }
      ]
    },
    {
      "cell_type": "code",
      "source": [
        "# Find the minimum user_id in the train and test datasets\n",
        "min_user_id_train = train_data['user_id'].min()\n",
        "max_user_id_train = train_data['user_id'].max()\n",
        "\n",
        "print(f\"Minimum user_id in train dataset: {min_user_id_train}\")\n",
        "print(f\"Maximum user_id in train dataset: {max_user_id_train}\")\n",
        "\n",
        "print('=' * 40)\n",
        "# Find the maximum user_id in the train and test datasets\n",
        "min_user_id_test = test_data['user_id'].min()\n",
        "max_user_id_test = test_data['user_id'].max()\n",
        "\n",
        "print(f\"Minimum user_id in test dataset: {min_user_id_test}\")\n",
        "print(f\"Maximum user_id in test dataset: {max_user_id_test}\")"
      ],
      "metadata": {
        "colab": {
          "base_uri": "https://localhost:8080/"
        },
        "id": "jV-fk1FtuiUk",
        "outputId": "7e2514fc-0c16-4009-f350-f82780d6e164"
      },
      "execution_count": 9,
      "outputs": [
        {
          "output_type": "stream",
          "name": "stdout",
          "text": [
            "Minimum user_id in train dataset: 1\n",
            "Maximum user_id in train dataset: 671\n",
            "========================================\n",
            "Minimum user_id in test dataset: 1\n",
            "Maximum user_id in test dataset: 671\n"
          ]
        }
      ]
    },
    {
      "cell_type": "code",
      "source": [
        "# Find the minimum item_id in the train and test datasets\n",
        "min_item_id_train = train_data['item_id'].min()\n",
        "max_item_id_train = train_data['item_id'].max()\n",
        "\n",
        "print(f\"Minimum item_id in train dataset: {min_item_id_train}\")\n",
        "print(f\"Maximum item_id in train dataset: {max_item_id_train}\")\n",
        "\n",
        "print('=' * 40)\n",
        "# Find the maximum item_id in the train and test datasets\n",
        "min_item_id_test = test_data['item_id'].min()\n",
        "max_item_id_test = test_data['item_id'].max()\n",
        "\n",
        "print(f\"Minimum item_id in test dataset: {min_item_id_test}\")\n",
        "print(f\"Maximum item_id in test dataset: {max_item_id_test}\")"
      ],
      "metadata": {
        "colab": {
          "base_uri": "https://localhost:8080/"
        },
        "id": "NrnDA52Muxh9",
        "outputId": "f7de0669-30b9-4baa-96d3-ffff2ef28d5d"
      },
      "execution_count": 10,
      "outputs": [
        {
          "output_type": "stream",
          "name": "stdout",
          "text": [
            "Minimum item_id in train dataset: 1\n",
            "Maximum item_id in train dataset: 163949\n",
            "========================================\n",
            "Minimum item_id in test dataset: 1\n",
            "Maximum item_id in test dataset: 162672\n"
          ]
        }
      ]
    },
    {
      "cell_type": "code",
      "source": [
        "last_user = test_data['user_id'].max()\n",
        "last_item = test_data['item_id'].max()\n",
        "print(\"last user id:\", last_user)\n",
        "print(\"last item id:\", last_item)"
      ],
      "metadata": {
        "colab": {
          "base_uri": "https://localhost:8080/"
        },
        "id": "yYK4ZeQtu-aq",
        "outputId": "02499faf-027a-4980-9c0e-d35f0ac76792"
      },
      "execution_count": 11,
      "outputs": [
        {
          "output_type": "stream",
          "name": "stdout",
          "text": [
            "last user id: 671\n",
            "last item id: 162672\n"
          ]
        }
      ]
    },
    {
      "cell_type": "code",
      "source": [
        "train_data.head()"
      ],
      "metadata": {
        "colab": {
          "base_uri": "https://localhost:8080/",
          "height": 206
        },
        "id": "2bDNPY-Qv84K",
        "outputId": "d36d2ade-da6f-46f3-f5b8-b2fef0a88ae4"
      },
      "execution_count": 12,
      "outputs": [
        {
          "output_type": "execute_result",
          "data": {
            "text/plain": [
              "       user_id  item_id  rating   timestamp\n",
              "37865      273     5816     4.5  1466946328\n",
              "46342      339     2028     4.5  1446663181\n",
              "64614      461     3895     0.5  1093224965\n",
              "41974      300     3578     4.5  1086010878\n",
              "50236      369      292     3.0   847465462"
            ],
            "text/html": [
              "\n",
              "  <div id=\"df-2dbf6a17-d263-43b6-9ad8-4a4ace832841\" class=\"colab-df-container\">\n",
              "    <div>\n",
              "<style scoped>\n",
              "    .dataframe tbody tr th:only-of-type {\n",
              "        vertical-align: middle;\n",
              "    }\n",
              "\n",
              "    .dataframe tbody tr th {\n",
              "        vertical-align: top;\n",
              "    }\n",
              "\n",
              "    .dataframe thead th {\n",
              "        text-align: right;\n",
              "    }\n",
              "</style>\n",
              "<table border=\"1\" class=\"dataframe\">\n",
              "  <thead>\n",
              "    <tr style=\"text-align: right;\">\n",
              "      <th></th>\n",
              "      <th>user_id</th>\n",
              "      <th>item_id</th>\n",
              "      <th>rating</th>\n",
              "      <th>timestamp</th>\n",
              "    </tr>\n",
              "  </thead>\n",
              "  <tbody>\n",
              "    <tr>\n",
              "      <th>37865</th>\n",
              "      <td>273</td>\n",
              "      <td>5816</td>\n",
              "      <td>4.5</td>\n",
              "      <td>1466946328</td>\n",
              "    </tr>\n",
              "    <tr>\n",
              "      <th>46342</th>\n",
              "      <td>339</td>\n",
              "      <td>2028</td>\n",
              "      <td>4.5</td>\n",
              "      <td>1446663181</td>\n",
              "    </tr>\n",
              "    <tr>\n",
              "      <th>64614</th>\n",
              "      <td>461</td>\n",
              "      <td>3895</td>\n",
              "      <td>0.5</td>\n",
              "      <td>1093224965</td>\n",
              "    </tr>\n",
              "    <tr>\n",
              "      <th>41974</th>\n",
              "      <td>300</td>\n",
              "      <td>3578</td>\n",
              "      <td>4.5</td>\n",
              "      <td>1086010878</td>\n",
              "    </tr>\n",
              "    <tr>\n",
              "      <th>50236</th>\n",
              "      <td>369</td>\n",
              "      <td>292</td>\n",
              "      <td>3.0</td>\n",
              "      <td>847465462</td>\n",
              "    </tr>\n",
              "  </tbody>\n",
              "</table>\n",
              "</div>\n",
              "    <div class=\"colab-df-buttons\">\n",
              "\n",
              "  <div class=\"colab-df-container\">\n",
              "    <button class=\"colab-df-convert\" onclick=\"convertToInteractive('df-2dbf6a17-d263-43b6-9ad8-4a4ace832841')\"\n",
              "            title=\"Convert this dataframe to an interactive table.\"\n",
              "            style=\"display:none;\">\n",
              "\n",
              "  <svg xmlns=\"http://www.w3.org/2000/svg\" height=\"24px\" viewBox=\"0 -960 960 960\">\n",
              "    <path d=\"M120-120v-720h720v720H120Zm60-500h600v-160H180v160Zm220 220h160v-160H400v160Zm0 220h160v-160H400v160ZM180-400h160v-160H180v160Zm440 0h160v-160H620v160ZM180-180h160v-160H180v160Zm440 0h160v-160H620v160Z\"/>\n",
              "  </svg>\n",
              "    </button>\n",
              "\n",
              "  <style>\n",
              "    .colab-df-container {\n",
              "      display:flex;\n",
              "      gap: 12px;\n",
              "    }\n",
              "\n",
              "    .colab-df-convert {\n",
              "      background-color: #E8F0FE;\n",
              "      border: none;\n",
              "      border-radius: 50%;\n",
              "      cursor: pointer;\n",
              "      display: none;\n",
              "      fill: #1967D2;\n",
              "      height: 32px;\n",
              "      padding: 0 0 0 0;\n",
              "      width: 32px;\n",
              "    }\n",
              "\n",
              "    .colab-df-convert:hover {\n",
              "      background-color: #E2EBFA;\n",
              "      box-shadow: 0px 1px 2px rgba(60, 64, 67, 0.3), 0px 1px 3px 1px rgba(60, 64, 67, 0.15);\n",
              "      fill: #174EA6;\n",
              "    }\n",
              "\n",
              "    .colab-df-buttons div {\n",
              "      margin-bottom: 4px;\n",
              "    }\n",
              "\n",
              "    [theme=dark] .colab-df-convert {\n",
              "      background-color: #3B4455;\n",
              "      fill: #D2E3FC;\n",
              "    }\n",
              "\n",
              "    [theme=dark] .colab-df-convert:hover {\n",
              "      background-color: #434B5C;\n",
              "      box-shadow: 0px 1px 3px 1px rgba(0, 0, 0, 0.15);\n",
              "      filter: drop-shadow(0px 1px 2px rgba(0, 0, 0, 0.3));\n",
              "      fill: #FFFFFF;\n",
              "    }\n",
              "  </style>\n",
              "\n",
              "    <script>\n",
              "      const buttonEl =\n",
              "        document.querySelector('#df-2dbf6a17-d263-43b6-9ad8-4a4ace832841 button.colab-df-convert');\n",
              "      buttonEl.style.display =\n",
              "        google.colab.kernel.accessAllowed ? 'block' : 'none';\n",
              "\n",
              "      async function convertToInteractive(key) {\n",
              "        const element = document.querySelector('#df-2dbf6a17-d263-43b6-9ad8-4a4ace832841');\n",
              "        const dataTable =\n",
              "          await google.colab.kernel.invokeFunction('convertToInteractive',\n",
              "                                                    [key], {});\n",
              "        if (!dataTable) return;\n",
              "\n",
              "        const docLinkHtml = 'Like what you see? Visit the ' +\n",
              "          '<a target=\"_blank\" href=https://colab.research.google.com/notebooks/data_table.ipynb>data table notebook</a>'\n",
              "          + ' to learn more about interactive tables.';\n",
              "        element.innerHTML = '';\n",
              "        dataTable['output_type'] = 'display_data';\n",
              "        await google.colab.output.renderOutput(dataTable, element);\n",
              "        const docLink = document.createElement('div');\n",
              "        docLink.innerHTML = docLinkHtml;\n",
              "        element.appendChild(docLink);\n",
              "      }\n",
              "    </script>\n",
              "  </div>\n",
              "\n",
              "\n",
              "<div id=\"df-7603164d-2ebb-4e7b-8f24-f9d2774234c5\">\n",
              "  <button class=\"colab-df-quickchart\" onclick=\"quickchart('df-7603164d-2ebb-4e7b-8f24-f9d2774234c5')\"\n",
              "            title=\"Suggest charts\"\n",
              "            style=\"display:none;\">\n",
              "\n",
              "<svg xmlns=\"http://www.w3.org/2000/svg\" height=\"24px\"viewBox=\"0 0 24 24\"\n",
              "     width=\"24px\">\n",
              "    <g>\n",
              "        <path d=\"M19 3H5c-1.1 0-2 .9-2 2v14c0 1.1.9 2 2 2h14c1.1 0 2-.9 2-2V5c0-1.1-.9-2-2-2zM9 17H7v-7h2v7zm4 0h-2V7h2v10zm4 0h-2v-4h2v4z\"/>\n",
              "    </g>\n",
              "</svg>\n",
              "  </button>\n",
              "\n",
              "<style>\n",
              "  .colab-df-quickchart {\n",
              "      --bg-color: #E8F0FE;\n",
              "      --fill-color: #1967D2;\n",
              "      --hover-bg-color: #E2EBFA;\n",
              "      --hover-fill-color: #174EA6;\n",
              "      --disabled-fill-color: #AAA;\n",
              "      --disabled-bg-color: #DDD;\n",
              "  }\n",
              "\n",
              "  [theme=dark] .colab-df-quickchart {\n",
              "      --bg-color: #3B4455;\n",
              "      --fill-color: #D2E3FC;\n",
              "      --hover-bg-color: #434B5C;\n",
              "      --hover-fill-color: #FFFFFF;\n",
              "      --disabled-bg-color: #3B4455;\n",
              "      --disabled-fill-color: #666;\n",
              "  }\n",
              "\n",
              "  .colab-df-quickchart {\n",
              "    background-color: var(--bg-color);\n",
              "    border: none;\n",
              "    border-radius: 50%;\n",
              "    cursor: pointer;\n",
              "    display: none;\n",
              "    fill: var(--fill-color);\n",
              "    height: 32px;\n",
              "    padding: 0;\n",
              "    width: 32px;\n",
              "  }\n",
              "\n",
              "  .colab-df-quickchart:hover {\n",
              "    background-color: var(--hover-bg-color);\n",
              "    box-shadow: 0 1px 2px rgba(60, 64, 67, 0.3), 0 1px 3px 1px rgba(60, 64, 67, 0.15);\n",
              "    fill: var(--button-hover-fill-color);\n",
              "  }\n",
              "\n",
              "  .colab-df-quickchart-complete:disabled,\n",
              "  .colab-df-quickchart-complete:disabled:hover {\n",
              "    background-color: var(--disabled-bg-color);\n",
              "    fill: var(--disabled-fill-color);\n",
              "    box-shadow: none;\n",
              "  }\n",
              "\n",
              "  .colab-df-spinner {\n",
              "    border: 2px solid var(--fill-color);\n",
              "    border-color: transparent;\n",
              "    border-bottom-color: var(--fill-color);\n",
              "    animation:\n",
              "      spin 1s steps(1) infinite;\n",
              "  }\n",
              "\n",
              "  @keyframes spin {\n",
              "    0% {\n",
              "      border-color: transparent;\n",
              "      border-bottom-color: var(--fill-color);\n",
              "      border-left-color: var(--fill-color);\n",
              "    }\n",
              "    20% {\n",
              "      border-color: transparent;\n",
              "      border-left-color: var(--fill-color);\n",
              "      border-top-color: var(--fill-color);\n",
              "    }\n",
              "    30% {\n",
              "      border-color: transparent;\n",
              "      border-left-color: var(--fill-color);\n",
              "      border-top-color: var(--fill-color);\n",
              "      border-right-color: var(--fill-color);\n",
              "    }\n",
              "    40% {\n",
              "      border-color: transparent;\n",
              "      border-right-color: var(--fill-color);\n",
              "      border-top-color: var(--fill-color);\n",
              "    }\n",
              "    60% {\n",
              "      border-color: transparent;\n",
              "      border-right-color: var(--fill-color);\n",
              "    }\n",
              "    80% {\n",
              "      border-color: transparent;\n",
              "      border-right-color: var(--fill-color);\n",
              "      border-bottom-color: var(--fill-color);\n",
              "    }\n",
              "    90% {\n",
              "      border-color: transparent;\n",
              "      border-bottom-color: var(--fill-color);\n",
              "    }\n",
              "  }\n",
              "</style>\n",
              "\n",
              "  <script>\n",
              "    async function quickchart(key) {\n",
              "      const quickchartButtonEl =\n",
              "        document.querySelector('#' + key + ' button');\n",
              "      quickchartButtonEl.disabled = true;  // To prevent multiple clicks.\n",
              "      quickchartButtonEl.classList.add('colab-df-spinner');\n",
              "      try {\n",
              "        const charts = await google.colab.kernel.invokeFunction(\n",
              "            'suggestCharts', [key], {});\n",
              "      } catch (error) {\n",
              "        console.error('Error during call to suggestCharts:', error);\n",
              "      }\n",
              "      quickchartButtonEl.classList.remove('colab-df-spinner');\n",
              "      quickchartButtonEl.classList.add('colab-df-quickchart-complete');\n",
              "    }\n",
              "    (() => {\n",
              "      let quickchartButtonEl =\n",
              "        document.querySelector('#df-7603164d-2ebb-4e7b-8f24-f9d2774234c5 button');\n",
              "      quickchartButtonEl.style.display =\n",
              "        google.colab.kernel.accessAllowed ? 'block' : 'none';\n",
              "    })();\n",
              "  </script>\n",
              "</div>\n",
              "\n",
              "    </div>\n",
              "  </div>\n"
            ],
            "application/vnd.google.colaboratory.intrinsic+json": {
              "type": "dataframe",
              "variable_name": "train_data",
              "summary": "{\n  \"name\": \"train_data\",\n  \"rows\": 80003,\n  \"fields\": [\n    {\n      \"column\": \"user_id\",\n      \"properties\": {\n        \"dtype\": \"number\",\n        \"std\": 195,\n        \"min\": 1,\n        \"max\": 671,\n        \"num_unique_values\": 671,\n        \"samples\": [\n          563,\n          251,\n          389\n        ],\n        \"semantic_type\": \"\",\n        \"description\": \"\"\n      }\n    },\n    {\n      \"column\": \"item_id\",\n      \"properties\": {\n        \"dtype\": \"number\",\n        \"std\": 26253,\n        \"min\": 1,\n        \"max\": 163949,\n        \"num_unique_values\": 8399,\n        \"samples\": [\n          319,\n          1798,\n          4380\n        ],\n        \"semantic_type\": \"\",\n        \"description\": \"\"\n      }\n    },\n    {\n      \"column\": \"rating\",\n      \"properties\": {\n        \"dtype\": \"number\",\n        \"std\": 1.0575580561540527,\n        \"min\": 0.5,\n        \"max\": 5.0,\n        \"num_unique_values\": 10,\n        \"samples\": [\n          1.0,\n          0.5,\n          2.5\n        ],\n        \"semantic_type\": \"\",\n        \"description\": \"\"\n      }\n    },\n    {\n      \"column\": \"timestamp\",\n      \"properties\": {\n        \"dtype\": \"number\",\n        \"std\": 191632600,\n        \"min\": 789652009,\n        \"max\": 1476640644,\n        \"num_unique_values\": 64256,\n        \"samples\": [\n          1443625653,\n          848879222,\n          1031461883\n        ],\n        \"semantic_type\": \"\",\n        \"description\": \"\"\n      }\n    }\n  ]\n}"
            }
          },
          "metadata": {},
          "execution_count": 12
        }
      ]
    },
    {
      "cell_type": "code",
      "source": [
        "# Create a pivot table for the train data to form the user-item matrix\n",
        "train_data_matrix_0_fill = train_data.pivot_table(index='user_id', columns='item_id', values='rating', fill_value=0)\n",
        "\n",
        "# Display the shape and first few rows of the matrix\n",
        "display(train_data_matrix_0_fill.head())\n",
        "train_data_matrix_0_fill = train_data_matrix_0_fill.to_numpy()\n",
        "print(train_data_matrix_0_fill.shape)"
      ],
      "metadata": {
        "colab": {
          "base_uri": "https://localhost:8080/",
          "height": 284
        },
        "id": "zDhan5qHwCee",
        "outputId": "e930db6b-5483-41cd-d5a3-f7bee4aca89e"
      },
      "execution_count": 13,
      "outputs": [
        {
          "output_type": "display_data",
          "data": {
            "text/plain": [
              "item_id  1       2       3       4       5       6       7       8       \\\n",
              "user_id                                                                   \n",
              "1           0.0     0.0     0.0     0.0     0.0     0.0     0.0       0   \n",
              "2           0.0     0.0     0.0     0.0     0.0     0.0     0.0       0   \n",
              "3           0.0     0.0     0.0     0.0     0.0     0.0     0.0       0   \n",
              "4           0.0     0.0     0.0     0.0     0.0     0.0     0.0       0   \n",
              "5           0.0     0.0     0.0     0.0     0.0     0.0     0.0       0   \n",
              "\n",
              "item_id  9       10      ...  160656  160718  161084  161155  161594  161830  \\\n",
              "user_id                  ...                                                   \n",
              "1             0     0.0  ...     0.0       0     0.0     0.0       0       0   \n",
              "2             0     4.0  ...     0.0       0     0.0     0.0       0       0   \n",
              "3             0     0.0  ...     0.0       0     0.0     0.0       0       0   \n",
              "4             0     0.0  ...     0.0       0     0.0     0.0       0       0   \n",
              "5             0     0.0  ...     0.0       0     0.0     0.0       0       0   \n",
              "\n",
              "item_id  161918  161944  162542  163949  \n",
              "user_id                                  \n",
              "1           0.0       0       0       0  \n",
              "2           0.0       0       0       0  \n",
              "3           0.0       0       0       0  \n",
              "4           0.0       0       0       0  \n",
              "5           0.0       0       0       0  \n",
              "\n",
              "[5 rows x 8399 columns]"
            ],
            "text/html": [
              "\n",
              "  <div id=\"df-b6e16db8-beeb-4a6b-a538-3b5378a4d7e2\" class=\"colab-df-container\">\n",
              "    <div>\n",
              "<style scoped>\n",
              "    .dataframe tbody tr th:only-of-type {\n",
              "        vertical-align: middle;\n",
              "    }\n",
              "\n",
              "    .dataframe tbody tr th {\n",
              "        vertical-align: top;\n",
              "    }\n",
              "\n",
              "    .dataframe thead th {\n",
              "        text-align: right;\n",
              "    }\n",
              "</style>\n",
              "<table border=\"1\" class=\"dataframe\">\n",
              "  <thead>\n",
              "    <tr style=\"text-align: right;\">\n",
              "      <th>item_id</th>\n",
              "      <th>1</th>\n",
              "      <th>2</th>\n",
              "      <th>3</th>\n",
              "      <th>4</th>\n",
              "      <th>5</th>\n",
              "      <th>6</th>\n",
              "      <th>7</th>\n",
              "      <th>8</th>\n",
              "      <th>9</th>\n",
              "      <th>10</th>\n",
              "      <th>...</th>\n",
              "      <th>160656</th>\n",
              "      <th>160718</th>\n",
              "      <th>161084</th>\n",
              "      <th>161155</th>\n",
              "      <th>161594</th>\n",
              "      <th>161830</th>\n",
              "      <th>161918</th>\n",
              "      <th>161944</th>\n",
              "      <th>162542</th>\n",
              "      <th>163949</th>\n",
              "    </tr>\n",
              "    <tr>\n",
              "      <th>user_id</th>\n",
              "      <th></th>\n",
              "      <th></th>\n",
              "      <th></th>\n",
              "      <th></th>\n",
              "      <th></th>\n",
              "      <th></th>\n",
              "      <th></th>\n",
              "      <th></th>\n",
              "      <th></th>\n",
              "      <th></th>\n",
              "      <th></th>\n",
              "      <th></th>\n",
              "      <th></th>\n",
              "      <th></th>\n",
              "      <th></th>\n",
              "      <th></th>\n",
              "      <th></th>\n",
              "      <th></th>\n",
              "      <th></th>\n",
              "      <th></th>\n",
              "      <th></th>\n",
              "    </tr>\n",
              "  </thead>\n",
              "  <tbody>\n",
              "    <tr>\n",
              "      <th>1</th>\n",
              "      <td>0.0</td>\n",
              "      <td>0.0</td>\n",
              "      <td>0.0</td>\n",
              "      <td>0.0</td>\n",
              "      <td>0.0</td>\n",
              "      <td>0.0</td>\n",
              "      <td>0.0</td>\n",
              "      <td>0</td>\n",
              "      <td>0</td>\n",
              "      <td>0.0</td>\n",
              "      <td>...</td>\n",
              "      <td>0.0</td>\n",
              "      <td>0</td>\n",
              "      <td>0.0</td>\n",
              "      <td>0.0</td>\n",
              "      <td>0</td>\n",
              "      <td>0</td>\n",
              "      <td>0.0</td>\n",
              "      <td>0</td>\n",
              "      <td>0</td>\n",
              "      <td>0</td>\n",
              "    </tr>\n",
              "    <tr>\n",
              "      <th>2</th>\n",
              "      <td>0.0</td>\n",
              "      <td>0.0</td>\n",
              "      <td>0.0</td>\n",
              "      <td>0.0</td>\n",
              "      <td>0.0</td>\n",
              "      <td>0.0</td>\n",
              "      <td>0.0</td>\n",
              "      <td>0</td>\n",
              "      <td>0</td>\n",
              "      <td>4.0</td>\n",
              "      <td>...</td>\n",
              "      <td>0.0</td>\n",
              "      <td>0</td>\n",
              "      <td>0.0</td>\n",
              "      <td>0.0</td>\n",
              "      <td>0</td>\n",
              "      <td>0</td>\n",
              "      <td>0.0</td>\n",
              "      <td>0</td>\n",
              "      <td>0</td>\n",
              "      <td>0</td>\n",
              "    </tr>\n",
              "    <tr>\n",
              "      <th>3</th>\n",
              "      <td>0.0</td>\n",
              "      <td>0.0</td>\n",
              "      <td>0.0</td>\n",
              "      <td>0.0</td>\n",
              "      <td>0.0</td>\n",
              "      <td>0.0</td>\n",
              "      <td>0.0</td>\n",
              "      <td>0</td>\n",
              "      <td>0</td>\n",
              "      <td>0.0</td>\n",
              "      <td>...</td>\n",
              "      <td>0.0</td>\n",
              "      <td>0</td>\n",
              "      <td>0.0</td>\n",
              "      <td>0.0</td>\n",
              "      <td>0</td>\n",
              "      <td>0</td>\n",
              "      <td>0.0</td>\n",
              "      <td>0</td>\n",
              "      <td>0</td>\n",
              "      <td>0</td>\n",
              "    </tr>\n",
              "    <tr>\n",
              "      <th>4</th>\n",
              "      <td>0.0</td>\n",
              "      <td>0.0</td>\n",
              "      <td>0.0</td>\n",
              "      <td>0.0</td>\n",
              "      <td>0.0</td>\n",
              "      <td>0.0</td>\n",
              "      <td>0.0</td>\n",
              "      <td>0</td>\n",
              "      <td>0</td>\n",
              "      <td>0.0</td>\n",
              "      <td>...</td>\n",
              "      <td>0.0</td>\n",
              "      <td>0</td>\n",
              "      <td>0.0</td>\n",
              "      <td>0.0</td>\n",
              "      <td>0</td>\n",
              "      <td>0</td>\n",
              "      <td>0.0</td>\n",
              "      <td>0</td>\n",
              "      <td>0</td>\n",
              "      <td>0</td>\n",
              "    </tr>\n",
              "    <tr>\n",
              "      <th>5</th>\n",
              "      <td>0.0</td>\n",
              "      <td>0.0</td>\n",
              "      <td>0.0</td>\n",
              "      <td>0.0</td>\n",
              "      <td>0.0</td>\n",
              "      <td>0.0</td>\n",
              "      <td>0.0</td>\n",
              "      <td>0</td>\n",
              "      <td>0</td>\n",
              "      <td>0.0</td>\n",
              "      <td>...</td>\n",
              "      <td>0.0</td>\n",
              "      <td>0</td>\n",
              "      <td>0.0</td>\n",
              "      <td>0.0</td>\n",
              "      <td>0</td>\n",
              "      <td>0</td>\n",
              "      <td>0.0</td>\n",
              "      <td>0</td>\n",
              "      <td>0</td>\n",
              "      <td>0</td>\n",
              "    </tr>\n",
              "  </tbody>\n",
              "</table>\n",
              "<p>5 rows × 8399 columns</p>\n",
              "</div>\n",
              "    <div class=\"colab-df-buttons\">\n",
              "\n",
              "  <div class=\"colab-df-container\">\n",
              "    <button class=\"colab-df-convert\" onclick=\"convertToInteractive('df-b6e16db8-beeb-4a6b-a538-3b5378a4d7e2')\"\n",
              "            title=\"Convert this dataframe to an interactive table.\"\n",
              "            style=\"display:none;\">\n",
              "\n",
              "  <svg xmlns=\"http://www.w3.org/2000/svg\" height=\"24px\" viewBox=\"0 -960 960 960\">\n",
              "    <path d=\"M120-120v-720h720v720H120Zm60-500h600v-160H180v160Zm220 220h160v-160H400v160Zm0 220h160v-160H400v160ZM180-400h160v-160H180v160Zm440 0h160v-160H620v160ZM180-180h160v-160H180v160Zm440 0h160v-160H620v160Z\"/>\n",
              "  </svg>\n",
              "    </button>\n",
              "\n",
              "  <style>\n",
              "    .colab-df-container {\n",
              "      display:flex;\n",
              "      gap: 12px;\n",
              "    }\n",
              "\n",
              "    .colab-df-convert {\n",
              "      background-color: #E8F0FE;\n",
              "      border: none;\n",
              "      border-radius: 50%;\n",
              "      cursor: pointer;\n",
              "      display: none;\n",
              "      fill: #1967D2;\n",
              "      height: 32px;\n",
              "      padding: 0 0 0 0;\n",
              "      width: 32px;\n",
              "    }\n",
              "\n",
              "    .colab-df-convert:hover {\n",
              "      background-color: #E2EBFA;\n",
              "      box-shadow: 0px 1px 2px rgba(60, 64, 67, 0.3), 0px 1px 3px 1px rgba(60, 64, 67, 0.15);\n",
              "      fill: #174EA6;\n",
              "    }\n",
              "\n",
              "    .colab-df-buttons div {\n",
              "      margin-bottom: 4px;\n",
              "    }\n",
              "\n",
              "    [theme=dark] .colab-df-convert {\n",
              "      background-color: #3B4455;\n",
              "      fill: #D2E3FC;\n",
              "    }\n",
              "\n",
              "    [theme=dark] .colab-df-convert:hover {\n",
              "      background-color: #434B5C;\n",
              "      box-shadow: 0px 1px 3px 1px rgba(0, 0, 0, 0.15);\n",
              "      filter: drop-shadow(0px 1px 2px rgba(0, 0, 0, 0.3));\n",
              "      fill: #FFFFFF;\n",
              "    }\n",
              "  </style>\n",
              "\n",
              "    <script>\n",
              "      const buttonEl =\n",
              "        document.querySelector('#df-b6e16db8-beeb-4a6b-a538-3b5378a4d7e2 button.colab-df-convert');\n",
              "      buttonEl.style.display =\n",
              "        google.colab.kernel.accessAllowed ? 'block' : 'none';\n",
              "\n",
              "      async function convertToInteractive(key) {\n",
              "        const element = document.querySelector('#df-b6e16db8-beeb-4a6b-a538-3b5378a4d7e2');\n",
              "        const dataTable =\n",
              "          await google.colab.kernel.invokeFunction('convertToInteractive',\n",
              "                                                    [key], {});\n",
              "        if (!dataTable) return;\n",
              "\n",
              "        const docLinkHtml = 'Like what you see? Visit the ' +\n",
              "          '<a target=\"_blank\" href=https://colab.research.google.com/notebooks/data_table.ipynb>data table notebook</a>'\n",
              "          + ' to learn more about interactive tables.';\n",
              "        element.innerHTML = '';\n",
              "        dataTable['output_type'] = 'display_data';\n",
              "        await google.colab.output.renderOutput(dataTable, element);\n",
              "        const docLink = document.createElement('div');\n",
              "        docLink.innerHTML = docLinkHtml;\n",
              "        element.appendChild(docLink);\n",
              "      }\n",
              "    </script>\n",
              "  </div>\n",
              "\n",
              "\n",
              "<div id=\"df-740128e3-633f-4517-b1aa-97b5e71580eb\">\n",
              "  <button class=\"colab-df-quickchart\" onclick=\"quickchart('df-740128e3-633f-4517-b1aa-97b5e71580eb')\"\n",
              "            title=\"Suggest charts\"\n",
              "            style=\"display:none;\">\n",
              "\n",
              "<svg xmlns=\"http://www.w3.org/2000/svg\" height=\"24px\"viewBox=\"0 0 24 24\"\n",
              "     width=\"24px\">\n",
              "    <g>\n",
              "        <path d=\"M19 3H5c-1.1 0-2 .9-2 2v14c0 1.1.9 2 2 2h14c1.1 0 2-.9 2-2V5c0-1.1-.9-2-2-2zM9 17H7v-7h2v7zm4 0h-2V7h2v10zm4 0h-2v-4h2v4z\"/>\n",
              "    </g>\n",
              "</svg>\n",
              "  </button>\n",
              "\n",
              "<style>\n",
              "  .colab-df-quickchart {\n",
              "      --bg-color: #E8F0FE;\n",
              "      --fill-color: #1967D2;\n",
              "      --hover-bg-color: #E2EBFA;\n",
              "      --hover-fill-color: #174EA6;\n",
              "      --disabled-fill-color: #AAA;\n",
              "      --disabled-bg-color: #DDD;\n",
              "  }\n",
              "\n",
              "  [theme=dark] .colab-df-quickchart {\n",
              "      --bg-color: #3B4455;\n",
              "      --fill-color: #D2E3FC;\n",
              "      --hover-bg-color: #434B5C;\n",
              "      --hover-fill-color: #FFFFFF;\n",
              "      --disabled-bg-color: #3B4455;\n",
              "      --disabled-fill-color: #666;\n",
              "  }\n",
              "\n",
              "  .colab-df-quickchart {\n",
              "    background-color: var(--bg-color);\n",
              "    border: none;\n",
              "    border-radius: 50%;\n",
              "    cursor: pointer;\n",
              "    display: none;\n",
              "    fill: var(--fill-color);\n",
              "    height: 32px;\n",
              "    padding: 0;\n",
              "    width: 32px;\n",
              "  }\n",
              "\n",
              "  .colab-df-quickchart:hover {\n",
              "    background-color: var(--hover-bg-color);\n",
              "    box-shadow: 0 1px 2px rgba(60, 64, 67, 0.3), 0 1px 3px 1px rgba(60, 64, 67, 0.15);\n",
              "    fill: var(--button-hover-fill-color);\n",
              "  }\n",
              "\n",
              "  .colab-df-quickchart-complete:disabled,\n",
              "  .colab-df-quickchart-complete:disabled:hover {\n",
              "    background-color: var(--disabled-bg-color);\n",
              "    fill: var(--disabled-fill-color);\n",
              "    box-shadow: none;\n",
              "  }\n",
              "\n",
              "  .colab-df-spinner {\n",
              "    border: 2px solid var(--fill-color);\n",
              "    border-color: transparent;\n",
              "    border-bottom-color: var(--fill-color);\n",
              "    animation:\n",
              "      spin 1s steps(1) infinite;\n",
              "  }\n",
              "\n",
              "  @keyframes spin {\n",
              "    0% {\n",
              "      border-color: transparent;\n",
              "      border-bottom-color: var(--fill-color);\n",
              "      border-left-color: var(--fill-color);\n",
              "    }\n",
              "    20% {\n",
              "      border-color: transparent;\n",
              "      border-left-color: var(--fill-color);\n",
              "      border-top-color: var(--fill-color);\n",
              "    }\n",
              "    30% {\n",
              "      border-color: transparent;\n",
              "      border-left-color: var(--fill-color);\n",
              "      border-top-color: var(--fill-color);\n",
              "      border-right-color: var(--fill-color);\n",
              "    }\n",
              "    40% {\n",
              "      border-color: transparent;\n",
              "      border-right-color: var(--fill-color);\n",
              "      border-top-color: var(--fill-color);\n",
              "    }\n",
              "    60% {\n",
              "      border-color: transparent;\n",
              "      border-right-color: var(--fill-color);\n",
              "    }\n",
              "    80% {\n",
              "      border-color: transparent;\n",
              "      border-right-color: var(--fill-color);\n",
              "      border-bottom-color: var(--fill-color);\n",
              "    }\n",
              "    90% {\n",
              "      border-color: transparent;\n",
              "      border-bottom-color: var(--fill-color);\n",
              "    }\n",
              "  }\n",
              "</style>\n",
              "\n",
              "  <script>\n",
              "    async function quickchart(key) {\n",
              "      const quickchartButtonEl =\n",
              "        document.querySelector('#' + key + ' button');\n",
              "      quickchartButtonEl.disabled = true;  // To prevent multiple clicks.\n",
              "      quickchartButtonEl.classList.add('colab-df-spinner');\n",
              "      try {\n",
              "        const charts = await google.colab.kernel.invokeFunction(\n",
              "            'suggestCharts', [key], {});\n",
              "      } catch (error) {\n",
              "        console.error('Error during call to suggestCharts:', error);\n",
              "      }\n",
              "      quickchartButtonEl.classList.remove('colab-df-spinner');\n",
              "      quickchartButtonEl.classList.add('colab-df-quickchart-complete');\n",
              "    }\n",
              "    (() => {\n",
              "      let quickchartButtonEl =\n",
              "        document.querySelector('#df-740128e3-633f-4517-b1aa-97b5e71580eb button');\n",
              "      quickchartButtonEl.style.display =\n",
              "        google.colab.kernel.accessAllowed ? 'block' : 'none';\n",
              "    })();\n",
              "  </script>\n",
              "</div>\n",
              "\n",
              "    </div>\n",
              "  </div>\n"
            ],
            "application/vnd.google.colaboratory.intrinsic+json": {
              "type": "dataframe"
            }
          },
          "metadata": {}
        },
        {
          "output_type": "stream",
          "name": "stdout",
          "text": [
            "(671, 8399)\n"
          ]
        }
      ]
    },
    {
      "cell_type": "markdown",
      "source": [
        "The reason that the above code for prepearing data is wrong is because in the above code I didn't implicitly make sure that our train_data_matrix_0_fill has an entry for each possible user and each possible item in our dataset.\n",
        "As we can see:"
      ],
      "metadata": {
        "id": "oC0_c1dHwpTt"
      }
    },
    {
      "cell_type": "code",
      "source": [
        "num_users = df['user_id'].nunique()\n",
        "num_items = df['item_id'].nunique()\n",
        "print(\"number of full unique users:\", num_users)\n",
        "print(\"number of full unique items:\", num_items)"
      ],
      "metadata": {
        "colab": {
          "base_uri": "https://localhost:8080/"
        },
        "id": "IrzfDCZYw6IJ",
        "outputId": "0f682c66-5ffe-4c30-824f-3e3044179b38"
      },
      "execution_count": 14,
      "outputs": [
        {
          "output_type": "stream",
          "name": "stdout",
          "text": [
            "number of full unique users: 671\n",
            "number of full unique items: 9066\n"
          ]
        }
      ]
    },
    {
      "cell_type": "code",
      "source": [
        "num_users = train_data['user_id'].nunique()\n",
        "num_items = train_data['item_id'].nunique()\n",
        "print(\"number of train unique users:\", num_users)\n",
        "print(\"number of train unique items:\", num_items)"
      ],
      "metadata": {
        "colab": {
          "base_uri": "https://localhost:8080/"
        },
        "id": "jlJ9JMjKwMIF",
        "outputId": "98285371-68a1-40a6-b0ab-b1f3aa510924"
      },
      "execution_count": 15,
      "outputs": [
        {
          "output_type": "stream",
          "name": "stdout",
          "text": [
            "number of train unique users: 671\n",
            "number of train unique items: 8399\n"
          ]
        }
      ]
    },
    {
      "cell_type": "markdown",
      "source": [
        "As we can see from the above codse in our training data that we split we have 671 users which is ok but we only have 8399 items which is not okey because when we look at the entire dataset(the df dataset) without the split we can see that we have 9066 movies and 8399 != 9066..."
      ],
      "metadata": {
        "id": "zX4CoUsZxQiG"
      }
    },
    {
      "cell_type": "markdown",
      "source": [
        "Also if we look at the biggest values of user id's and item id's in our test data we quickly see the same problem:"
      ],
      "metadata": {
        "id": "RFX9BFEXxpaH"
      }
    },
    {
      "cell_type": "code",
      "source": [
        "last_user = train_data['user_id'].max()\n",
        "last_item = train_data['item_id'].max()\n",
        "print(\"last user id:\", last_user)\n",
        "print(\"last item id:\", last_item)\n",
        "\n",
        "print(\"!!!does not equal to:\")\n",
        "print(\"number of unique users:\", num_users)\n",
        "print(\"number of unique items:\", num_items)"
      ],
      "metadata": {
        "colab": {
          "base_uri": "https://localhost:8080/"
        },
        "id": "BrZWCw1CxTET",
        "outputId": "56fe4020-27ae-43eb-f5fb-a4d4882ea02c"
      },
      "execution_count": 16,
      "outputs": [
        {
          "output_type": "stream",
          "name": "stdout",
          "text": [
            "last user id: 671\n",
            "last item id: 163949\n",
            "!!!does not equal to:\n",
            "number of unique users: 671\n",
            "number of unique items: 8399\n"
          ]
        }
      ]
    },
    {
      "cell_type": "markdown",
      "source": [
        "We can again see that in our test data we have a item with the biggest index id of 163949 but we only have 8399 items in our training dataset because the random split didn't make sure all of our possible values are represneted in out training set and that is a problem for KNN unless we update all the values in our Knn matrix which we will explore in a future step. For now let's fix this problem by making sure each user, item id value is represented in our training data:"
      ],
      "metadata": {
        "id": "UaToUBBLx3Lv"
      }
    },
    {
      "cell_type": "markdown",
      "source": [
        "SO as we just astablished the previous data preperation and split was wrong and so we will rather do it like:"
      ],
      "metadata": {
        "id": "mo6cQns7yUEy"
      }
    },
    {
      "cell_type": "markdown",
      "source": [
        "Here is what we will do in the code:\n",
        "\n",
        "- take the df dataset and duplicate it into df_copy that isn't split yet.\n",
        "\n",
        "- Then firstly find the first apearence of each unique user id and take the entry in df_copy out of df_copy and add it to training_data.\n",
        "\n",
        "- Then find the first unique apearence of each item id in df (not df_copy) if it already exists inside of train_data and dosen't inside of df_copy (so it was taken out of df copy allready when we were looking for apearences of user id's ) then don't do anything.\n",
        "\n",
        "- If on the other hand it isn't inside of train_data and it is inside fo df_copy again take it out of df_copy and put it into train_data.\n",
        "\n",
        "- After that split the df_copy like we did with df before a 75 / 25 split into training_remaining and test_data. Then simply add the training_remeining onto training_data."
      ],
      "metadata": {
        "id": "OiZnM7BwyWGR"
      }
    },
    {
      "cell_type": "code",
      "source": [
        "import pandas as pd\n",
        "from sklearn.model_selection import train_test_split\n",
        "\n",
        "# Assuming df is already loaded\n",
        "df_copy = df.copy()\n",
        "\n",
        "# Collect indices for users\n",
        "user_indices = []\n",
        "for user_id in df['user_id'].unique():\n",
        "    user_index = df_copy[df_copy['user_id'] == user_id].index[0]\n",
        "    user_indices.append(user_index)\n",
        "\n",
        "# Collect indices for items not already covered by user selection\n",
        "item_indices = []\n",
        "for item_id in df['item_id'].unique():\n",
        "    if not df_copy.loc[df_copy['item_id'] == item_id].index.intersection(user_indices).any():\n",
        "        item_index = df_copy[df_copy['item_id'] == item_id].index[0]\n",
        "        item_indices.append(item_index)\n",
        "\n",
        "# Combine indices and drop duplicates in case of overlap\n",
        "combined_indices = list(set(user_indices + item_indices))\n",
        "\n",
        "# Extract rows for training data\n",
        "train_data_initial = df_copy.loc[combined_indices]\n",
        "\n",
        "# Drop these rows from df_copy\n",
        "df_copy = df_copy.drop(index=combined_indices)\n",
        "\n",
        "# Perform a 75/25 split on the remaining data\n",
        "training_remaining, test_data = train_test_split(df_copy, test_size=0.25, random_state=42)\n",
        "\n",
        "# Combine training_remaining with the initial extracted training data\n",
        "train_data = pd.concat([train_data_initial, training_remaining]).reset_index(drop=True)\n",
        "\n",
        "# Output the sizes of the final splits\n",
        "print(f\"Train data size: {train_data.shape}\")\n",
        "print(f\"Test data size: {test_data.shape}\")\n"
      ],
      "metadata": {
        "colab": {
          "base_uri": "https://localhost:8080/"
        },
        "id": "PWSWcUx6xujb",
        "outputId": "7bd2eb66-cf8d-490b-a140-dbd0fe3da990"
      },
      "execution_count": 17,
      "outputs": [
        {
          "output_type": "stream",
          "name": "stdout",
          "text": [
            "Train data size: (77411, 4)\n",
            "Test data size: (22593, 4)\n"
          ]
        }
      ]
    },
    {
      "cell_type": "code",
      "source": [
        "num_users = train_data['user_id'].nunique()\n",
        "num_items = train_data['item_id'].nunique()\n",
        "print(\"number of unique users:\", num_users)\n",
        "print(\"number of unique items:\", num_items)"
      ],
      "metadata": {
        "colab": {
          "base_uri": "https://localhost:8080/"
        },
        "id": "g4UA8cqDyzhs",
        "outputId": "50a20268-e638-4a5e-8751-a650848de93a"
      },
      "execution_count": 18,
      "outputs": [
        {
          "output_type": "stream",
          "name": "stdout",
          "text": [
            "number of unique users: 671\n",
            "number of unique items: 9066\n"
          ]
        }
      ]
    },
    {
      "cell_type": "code",
      "source": [
        "last_user = test_data['user_id'].max()\n",
        "last_item = test_data['item_id'].max()\n",
        "print(\"test last user id:\", last_user)\n",
        "print(\"test last item id:\", last_item)\n",
        "print('=' * 40)\n",
        "last_user = df['user_id'].max()\n",
        "last_item = df['item_id'].max()\n",
        "print(\"full last user id:\", last_user)\n",
        "print(\"full last item id:\", last_item)\n",
        "\n",
        "print('=' * 40)\n",
        "last_user = train_data['user_id'].max()\n",
        "last_item = train_data['item_id'].max()\n",
        "print(\"train last user id:\", last_user)\n",
        "print(\"train last item id:\", last_item)"
      ],
      "metadata": {
        "colab": {
          "base_uri": "https://localhost:8080/"
        },
        "id": "6ycEQgWM09q1",
        "outputId": "f30e988b-3e60-4a36-ad09-910da11ea43d"
      },
      "execution_count": 19,
      "outputs": [
        {
          "output_type": "stream",
          "name": "stdout",
          "text": [
            "test last user id: 671\n",
            "test last item id: 159093\n",
            "========================================\n",
            "full last user id: 671\n",
            "full last item id: 163949\n",
            "========================================\n",
            "train last user id: 671\n",
            "train last item id: 163949\n"
          ]
        }
      ]
    },
    {
      "cell_type": "markdown",
      "source": [
        "As we can see the values for df and train are now the same and that is important! The test sets last item id: 159093 is not the same but that is okey because we are not training on the test data so there is no problem in that regard."
      ],
      "metadata": {
        "id": "6IKdp9Ia1jjI"
      }
    },
    {
      "cell_type": "code",
      "source": [
        "# Create a pivot table for the train data to form the user-item matrix\n",
        "train_data_matrix_0_fill = train_data.pivot_table(index='user_id', columns='item_id', values='rating', fill_value=0)\n",
        "\n",
        "# Display the shape and first few rows of the matrix\n",
        "display(train_data_matrix_0_fill.head())\n",
        "train_data_matrix_0_fill = train_data_matrix_0_fill.to_numpy()\n",
        "print(train_data_matrix_0_fill.shape)"
      ],
      "metadata": {
        "colab": {
          "base_uri": "https://localhost:8080/",
          "height": 284
        },
        "id": "USjTDTn91Ig5",
        "outputId": "30838c9d-eedf-4839-dc88-acf89d2f0b68"
      },
      "execution_count": 20,
      "outputs": [
        {
          "output_type": "display_data",
          "data": {
            "text/plain": [
              "item_id  1       2       3       4       5       6       7       8       \\\n",
              "user_id                                                                   \n",
              "1           0.0     0.0     0.0     0.0     0.0     0.0     0.0       0   \n",
              "2           0.0     0.0     0.0     0.0     0.0     0.0     0.0       0   \n",
              "3           0.0     0.0     0.0     0.0     0.0     0.0     0.0       0   \n",
              "4           0.0     0.0     0.0     0.0     0.0     0.0     0.0       0   \n",
              "5           0.0     0.0     4.0     0.0     0.0     0.0     0.0       0   \n",
              "\n",
              "item_id  9       10      ...  161084  161155  161594  161830  161918  161944  \\\n",
              "user_id                  ...                                                   \n",
              "1             0     0.0  ...     0.0     0.0       0       0     0.0       0   \n",
              "2             0     4.0  ...     0.0     0.0       0       0     0.0       0   \n",
              "3             0     0.0  ...     0.0     0.0       0       0     0.0       0   \n",
              "4             0     4.0  ...     0.0     0.0       0       0     0.0       0   \n",
              "5             0     0.0  ...     0.0     0.0       0       0     0.0       0   \n",
              "\n",
              "item_id  162376  162542  162672  163949  \n",
              "user_id                                  \n",
              "1           0.0       0       0       0  \n",
              "2           0.0       0       0       0  \n",
              "3           0.0       0       0       0  \n",
              "4           0.0       0       0       0  \n",
              "5           0.0       0       0       0  \n",
              "\n",
              "[5 rows x 9066 columns]"
            ],
            "text/html": [
              "\n",
              "  <div id=\"df-dd059b4d-8d92-4309-82d6-9695274e7002\" class=\"colab-df-container\">\n",
              "    <div>\n",
              "<style scoped>\n",
              "    .dataframe tbody tr th:only-of-type {\n",
              "        vertical-align: middle;\n",
              "    }\n",
              "\n",
              "    .dataframe tbody tr th {\n",
              "        vertical-align: top;\n",
              "    }\n",
              "\n",
              "    .dataframe thead th {\n",
              "        text-align: right;\n",
              "    }\n",
              "</style>\n",
              "<table border=\"1\" class=\"dataframe\">\n",
              "  <thead>\n",
              "    <tr style=\"text-align: right;\">\n",
              "      <th>item_id</th>\n",
              "      <th>1</th>\n",
              "      <th>2</th>\n",
              "      <th>3</th>\n",
              "      <th>4</th>\n",
              "      <th>5</th>\n",
              "      <th>6</th>\n",
              "      <th>7</th>\n",
              "      <th>8</th>\n",
              "      <th>9</th>\n",
              "      <th>10</th>\n",
              "      <th>...</th>\n",
              "      <th>161084</th>\n",
              "      <th>161155</th>\n",
              "      <th>161594</th>\n",
              "      <th>161830</th>\n",
              "      <th>161918</th>\n",
              "      <th>161944</th>\n",
              "      <th>162376</th>\n",
              "      <th>162542</th>\n",
              "      <th>162672</th>\n",
              "      <th>163949</th>\n",
              "    </tr>\n",
              "    <tr>\n",
              "      <th>user_id</th>\n",
              "      <th></th>\n",
              "      <th></th>\n",
              "      <th></th>\n",
              "      <th></th>\n",
              "      <th></th>\n",
              "      <th></th>\n",
              "      <th></th>\n",
              "      <th></th>\n",
              "      <th></th>\n",
              "      <th></th>\n",
              "      <th></th>\n",
              "      <th></th>\n",
              "      <th></th>\n",
              "      <th></th>\n",
              "      <th></th>\n",
              "      <th></th>\n",
              "      <th></th>\n",
              "      <th></th>\n",
              "      <th></th>\n",
              "      <th></th>\n",
              "      <th></th>\n",
              "    </tr>\n",
              "  </thead>\n",
              "  <tbody>\n",
              "    <tr>\n",
              "      <th>1</th>\n",
              "      <td>0.0</td>\n",
              "      <td>0.0</td>\n",
              "      <td>0.0</td>\n",
              "      <td>0.0</td>\n",
              "      <td>0.0</td>\n",
              "      <td>0.0</td>\n",
              "      <td>0.0</td>\n",
              "      <td>0</td>\n",
              "      <td>0</td>\n",
              "      <td>0.0</td>\n",
              "      <td>...</td>\n",
              "      <td>0.0</td>\n",
              "      <td>0.0</td>\n",
              "      <td>0</td>\n",
              "      <td>0</td>\n",
              "      <td>0.0</td>\n",
              "      <td>0</td>\n",
              "      <td>0.0</td>\n",
              "      <td>0</td>\n",
              "      <td>0</td>\n",
              "      <td>0</td>\n",
              "    </tr>\n",
              "    <tr>\n",
              "      <th>2</th>\n",
              "      <td>0.0</td>\n",
              "      <td>0.0</td>\n",
              "      <td>0.0</td>\n",
              "      <td>0.0</td>\n",
              "      <td>0.0</td>\n",
              "      <td>0.0</td>\n",
              "      <td>0.0</td>\n",
              "      <td>0</td>\n",
              "      <td>0</td>\n",
              "      <td>4.0</td>\n",
              "      <td>...</td>\n",
              "      <td>0.0</td>\n",
              "      <td>0.0</td>\n",
              "      <td>0</td>\n",
              "      <td>0</td>\n",
              "      <td>0.0</td>\n",
              "      <td>0</td>\n",
              "      <td>0.0</td>\n",
              "      <td>0</td>\n",
              "      <td>0</td>\n",
              "      <td>0</td>\n",
              "    </tr>\n",
              "    <tr>\n",
              "      <th>3</th>\n",
              "      <td>0.0</td>\n",
              "      <td>0.0</td>\n",
              "      <td>0.0</td>\n",
              "      <td>0.0</td>\n",
              "      <td>0.0</td>\n",
              "      <td>0.0</td>\n",
              "      <td>0.0</td>\n",
              "      <td>0</td>\n",
              "      <td>0</td>\n",
              "      <td>0.0</td>\n",
              "      <td>...</td>\n",
              "      <td>0.0</td>\n",
              "      <td>0.0</td>\n",
              "      <td>0</td>\n",
              "      <td>0</td>\n",
              "      <td>0.0</td>\n",
              "      <td>0</td>\n",
              "      <td>0.0</td>\n",
              "      <td>0</td>\n",
              "      <td>0</td>\n",
              "      <td>0</td>\n",
              "    </tr>\n",
              "    <tr>\n",
              "      <th>4</th>\n",
              "      <td>0.0</td>\n",
              "      <td>0.0</td>\n",
              "      <td>0.0</td>\n",
              "      <td>0.0</td>\n",
              "      <td>0.0</td>\n",
              "      <td>0.0</td>\n",
              "      <td>0.0</td>\n",
              "      <td>0</td>\n",
              "      <td>0</td>\n",
              "      <td>4.0</td>\n",
              "      <td>...</td>\n",
              "      <td>0.0</td>\n",
              "      <td>0.0</td>\n",
              "      <td>0</td>\n",
              "      <td>0</td>\n",
              "      <td>0.0</td>\n",
              "      <td>0</td>\n",
              "      <td>0.0</td>\n",
              "      <td>0</td>\n",
              "      <td>0</td>\n",
              "      <td>0</td>\n",
              "    </tr>\n",
              "    <tr>\n",
              "      <th>5</th>\n",
              "      <td>0.0</td>\n",
              "      <td>0.0</td>\n",
              "      <td>4.0</td>\n",
              "      <td>0.0</td>\n",
              "      <td>0.0</td>\n",
              "      <td>0.0</td>\n",
              "      <td>0.0</td>\n",
              "      <td>0</td>\n",
              "      <td>0</td>\n",
              "      <td>0.0</td>\n",
              "      <td>...</td>\n",
              "      <td>0.0</td>\n",
              "      <td>0.0</td>\n",
              "      <td>0</td>\n",
              "      <td>0</td>\n",
              "      <td>0.0</td>\n",
              "      <td>0</td>\n",
              "      <td>0.0</td>\n",
              "      <td>0</td>\n",
              "      <td>0</td>\n",
              "      <td>0</td>\n",
              "    </tr>\n",
              "  </tbody>\n",
              "</table>\n",
              "<p>5 rows × 9066 columns</p>\n",
              "</div>\n",
              "    <div class=\"colab-df-buttons\">\n",
              "\n",
              "  <div class=\"colab-df-container\">\n",
              "    <button class=\"colab-df-convert\" onclick=\"convertToInteractive('df-dd059b4d-8d92-4309-82d6-9695274e7002')\"\n",
              "            title=\"Convert this dataframe to an interactive table.\"\n",
              "            style=\"display:none;\">\n",
              "\n",
              "  <svg xmlns=\"http://www.w3.org/2000/svg\" height=\"24px\" viewBox=\"0 -960 960 960\">\n",
              "    <path d=\"M120-120v-720h720v720H120Zm60-500h600v-160H180v160Zm220 220h160v-160H400v160Zm0 220h160v-160H400v160ZM180-400h160v-160H180v160Zm440 0h160v-160H620v160ZM180-180h160v-160H180v160Zm440 0h160v-160H620v160Z\"/>\n",
              "  </svg>\n",
              "    </button>\n",
              "\n",
              "  <style>\n",
              "    .colab-df-container {\n",
              "      display:flex;\n",
              "      gap: 12px;\n",
              "    }\n",
              "\n",
              "    .colab-df-convert {\n",
              "      background-color: #E8F0FE;\n",
              "      border: none;\n",
              "      border-radius: 50%;\n",
              "      cursor: pointer;\n",
              "      display: none;\n",
              "      fill: #1967D2;\n",
              "      height: 32px;\n",
              "      padding: 0 0 0 0;\n",
              "      width: 32px;\n",
              "    }\n",
              "\n",
              "    .colab-df-convert:hover {\n",
              "      background-color: #E2EBFA;\n",
              "      box-shadow: 0px 1px 2px rgba(60, 64, 67, 0.3), 0px 1px 3px 1px rgba(60, 64, 67, 0.15);\n",
              "      fill: #174EA6;\n",
              "    }\n",
              "\n",
              "    .colab-df-buttons div {\n",
              "      margin-bottom: 4px;\n",
              "    }\n",
              "\n",
              "    [theme=dark] .colab-df-convert {\n",
              "      background-color: #3B4455;\n",
              "      fill: #D2E3FC;\n",
              "    }\n",
              "\n",
              "    [theme=dark] .colab-df-convert:hover {\n",
              "      background-color: #434B5C;\n",
              "      box-shadow: 0px 1px 3px 1px rgba(0, 0, 0, 0.15);\n",
              "      filter: drop-shadow(0px 1px 2px rgba(0, 0, 0, 0.3));\n",
              "      fill: #FFFFFF;\n",
              "    }\n",
              "  </style>\n",
              "\n",
              "    <script>\n",
              "      const buttonEl =\n",
              "        document.querySelector('#df-dd059b4d-8d92-4309-82d6-9695274e7002 button.colab-df-convert');\n",
              "      buttonEl.style.display =\n",
              "        google.colab.kernel.accessAllowed ? 'block' : 'none';\n",
              "\n",
              "      async function convertToInteractive(key) {\n",
              "        const element = document.querySelector('#df-dd059b4d-8d92-4309-82d6-9695274e7002');\n",
              "        const dataTable =\n",
              "          await google.colab.kernel.invokeFunction('convertToInteractive',\n",
              "                                                    [key], {});\n",
              "        if (!dataTable) return;\n",
              "\n",
              "        const docLinkHtml = 'Like what you see? Visit the ' +\n",
              "          '<a target=\"_blank\" href=https://colab.research.google.com/notebooks/data_table.ipynb>data table notebook</a>'\n",
              "          + ' to learn more about interactive tables.';\n",
              "        element.innerHTML = '';\n",
              "        dataTable['output_type'] = 'display_data';\n",
              "        await google.colab.output.renderOutput(dataTable, element);\n",
              "        const docLink = document.createElement('div');\n",
              "        docLink.innerHTML = docLinkHtml;\n",
              "        element.appendChild(docLink);\n",
              "      }\n",
              "    </script>\n",
              "  </div>\n",
              "\n",
              "\n",
              "<div id=\"df-b174967e-1e34-491a-a7e2-40a2f50cb7e7\">\n",
              "  <button class=\"colab-df-quickchart\" onclick=\"quickchart('df-b174967e-1e34-491a-a7e2-40a2f50cb7e7')\"\n",
              "            title=\"Suggest charts\"\n",
              "            style=\"display:none;\">\n",
              "\n",
              "<svg xmlns=\"http://www.w3.org/2000/svg\" height=\"24px\"viewBox=\"0 0 24 24\"\n",
              "     width=\"24px\">\n",
              "    <g>\n",
              "        <path d=\"M19 3H5c-1.1 0-2 .9-2 2v14c0 1.1.9 2 2 2h14c1.1 0 2-.9 2-2V5c0-1.1-.9-2-2-2zM9 17H7v-7h2v7zm4 0h-2V7h2v10zm4 0h-2v-4h2v4z\"/>\n",
              "    </g>\n",
              "</svg>\n",
              "  </button>\n",
              "\n",
              "<style>\n",
              "  .colab-df-quickchart {\n",
              "      --bg-color: #E8F0FE;\n",
              "      --fill-color: #1967D2;\n",
              "      --hover-bg-color: #E2EBFA;\n",
              "      --hover-fill-color: #174EA6;\n",
              "      --disabled-fill-color: #AAA;\n",
              "      --disabled-bg-color: #DDD;\n",
              "  }\n",
              "\n",
              "  [theme=dark] .colab-df-quickchart {\n",
              "      --bg-color: #3B4455;\n",
              "      --fill-color: #D2E3FC;\n",
              "      --hover-bg-color: #434B5C;\n",
              "      --hover-fill-color: #FFFFFF;\n",
              "      --disabled-bg-color: #3B4455;\n",
              "      --disabled-fill-color: #666;\n",
              "  }\n",
              "\n",
              "  .colab-df-quickchart {\n",
              "    background-color: var(--bg-color);\n",
              "    border: none;\n",
              "    border-radius: 50%;\n",
              "    cursor: pointer;\n",
              "    display: none;\n",
              "    fill: var(--fill-color);\n",
              "    height: 32px;\n",
              "    padding: 0;\n",
              "    width: 32px;\n",
              "  }\n",
              "\n",
              "  .colab-df-quickchart:hover {\n",
              "    background-color: var(--hover-bg-color);\n",
              "    box-shadow: 0 1px 2px rgba(60, 64, 67, 0.3), 0 1px 3px 1px rgba(60, 64, 67, 0.15);\n",
              "    fill: var(--button-hover-fill-color);\n",
              "  }\n",
              "\n",
              "  .colab-df-quickchart-complete:disabled,\n",
              "  .colab-df-quickchart-complete:disabled:hover {\n",
              "    background-color: var(--disabled-bg-color);\n",
              "    fill: var(--disabled-fill-color);\n",
              "    box-shadow: none;\n",
              "  }\n",
              "\n",
              "  .colab-df-spinner {\n",
              "    border: 2px solid var(--fill-color);\n",
              "    border-color: transparent;\n",
              "    border-bottom-color: var(--fill-color);\n",
              "    animation:\n",
              "      spin 1s steps(1) infinite;\n",
              "  }\n",
              "\n",
              "  @keyframes spin {\n",
              "    0% {\n",
              "      border-color: transparent;\n",
              "      border-bottom-color: var(--fill-color);\n",
              "      border-left-color: var(--fill-color);\n",
              "    }\n",
              "    20% {\n",
              "      border-color: transparent;\n",
              "      border-left-color: var(--fill-color);\n",
              "      border-top-color: var(--fill-color);\n",
              "    }\n",
              "    30% {\n",
              "      border-color: transparent;\n",
              "      border-left-color: var(--fill-color);\n",
              "      border-top-color: var(--fill-color);\n",
              "      border-right-color: var(--fill-color);\n",
              "    }\n",
              "    40% {\n",
              "      border-color: transparent;\n",
              "      border-right-color: var(--fill-color);\n",
              "      border-top-color: var(--fill-color);\n",
              "    }\n",
              "    60% {\n",
              "      border-color: transparent;\n",
              "      border-right-color: var(--fill-color);\n",
              "    }\n",
              "    80% {\n",
              "      border-color: transparent;\n",
              "      border-right-color: var(--fill-color);\n",
              "      border-bottom-color: var(--fill-color);\n",
              "    }\n",
              "    90% {\n",
              "      border-color: transparent;\n",
              "      border-bottom-color: var(--fill-color);\n",
              "    }\n",
              "  }\n",
              "</style>\n",
              "\n",
              "  <script>\n",
              "    async function quickchart(key) {\n",
              "      const quickchartButtonEl =\n",
              "        document.querySelector('#' + key + ' button');\n",
              "      quickchartButtonEl.disabled = true;  // To prevent multiple clicks.\n",
              "      quickchartButtonEl.classList.add('colab-df-spinner');\n",
              "      try {\n",
              "        const charts = await google.colab.kernel.invokeFunction(\n",
              "            'suggestCharts', [key], {});\n",
              "      } catch (error) {\n",
              "        console.error('Error during call to suggestCharts:', error);\n",
              "      }\n",
              "      quickchartButtonEl.classList.remove('colab-df-spinner');\n",
              "      quickchartButtonEl.classList.add('colab-df-quickchart-complete');\n",
              "    }\n",
              "    (() => {\n",
              "      let quickchartButtonEl =\n",
              "        document.querySelector('#df-b174967e-1e34-491a-a7e2-40a2f50cb7e7 button');\n",
              "      quickchartButtonEl.style.display =\n",
              "        google.colab.kernel.accessAllowed ? 'block' : 'none';\n",
              "    })();\n",
              "  </script>\n",
              "</div>\n",
              "\n",
              "    </div>\n",
              "  </div>\n"
            ],
            "application/vnd.google.colaboratory.intrinsic+json": {
              "type": "dataframe"
            }
          },
          "metadata": {}
        },
        {
          "output_type": "stream",
          "name": "stdout",
          "text": [
            "(671, 9066)\n"
          ]
        }
      ]
    },
    {
      "cell_type": "markdown",
      "source": [
        "We can also do the same but use avrages instead of 0's to fill the missing values. We will use this initialization alter on to see if it makes any difference for now we will just prepare the matrix!"
      ],
      "metadata": {
        "id": "8YNtybot2OfR"
      }
    },
    {
      "cell_type": "code",
      "source": [
        "user_rating_avg = train_data.groupby('user_id')['rating'].mean()\n",
        "user_rating_avg"
      ],
      "metadata": {
        "colab": {
          "base_uri": "https://localhost:8080/"
        },
        "id": "ngEbJmr_2GK2",
        "outputId": "6552f24c-41ee-4bc0-9b91-45dbf8738736"
      },
      "execution_count": 21,
      "outputs": [
        {
          "output_type": "execute_result",
          "data": {
            "text/plain": [
              "user_id\n",
              "1      2.550000\n",
              "2      3.493333\n",
              "3      3.590000\n",
              "4      4.348259\n",
              "5      3.917526\n",
              "         ...   \n",
              "667    3.666667\n",
              "668    3.785714\n",
              "669    3.444444\n",
              "670    3.954545\n",
              "671    3.925676\n",
              "Name: rating, Length: 671, dtype: float64"
            ]
          },
          "metadata": {},
          "execution_count": 21
        }
      ]
    },
    {
      "cell_type": "code",
      "source": [
        "# Create the pivot table\n",
        "train_data_matrix = train_data.pivot_table(index='user_id', columns='item_id', values='rating')\n",
        "# Fill missing values with user averages\n",
        "train_data_matrix_avg_fill = train_data_matrix.apply(lambda x: x.fillna(user_rating_avg[x.name]), axis=1)\n",
        "# Display the shape and first few rows of the matrix\n",
        "train_data_matrix_avg_fill.head()"
      ],
      "metadata": {
        "colab": {
          "base_uri": "https://localhost:8080/",
          "height": 267
        },
        "id": "oYYCD61b2Qgs",
        "outputId": "6362dd8b-1fc1-4d0d-e8df-3951127663db"
      },
      "execution_count": 22,
      "outputs": [
        {
          "output_type": "execute_result",
          "data": {
            "text/plain": [
              "item_id    1         2         3         4         5         6         7       \\\n",
              "user_id                                                                         \n",
              "1        2.550000  2.550000  2.550000  2.550000  2.550000  2.550000  2.550000   \n",
              "2        3.493333  3.493333  3.493333  3.493333  3.493333  3.493333  3.493333   \n",
              "3        3.590000  3.590000  3.590000  3.590000  3.590000  3.590000  3.590000   \n",
              "4        4.348259  4.348259  4.348259  4.348259  4.348259  4.348259  4.348259   \n",
              "5        3.917526  3.917526  4.000000  3.917526  3.917526  3.917526  3.917526   \n",
              "\n",
              "item_id    8         9         10      ...    161084    161155    161594  \\\n",
              "user_id                                ...                                 \n",
              "1        2.550000  2.550000  2.550000  ...  2.550000  2.550000  2.550000   \n",
              "2        3.493333  3.493333  4.000000  ...  3.493333  3.493333  3.493333   \n",
              "3        3.590000  3.590000  3.590000  ...  3.590000  3.590000  3.590000   \n",
              "4        4.348259  4.348259  4.000000  ...  4.348259  4.348259  4.348259   \n",
              "5        3.917526  3.917526  3.917526  ...  3.917526  3.917526  3.917526   \n",
              "\n",
              "item_id    161830    161918    161944    162376    162542    162672    163949  \n",
              "user_id                                                                        \n",
              "1        2.550000  2.550000  2.550000  2.550000  2.550000  2.550000  2.550000  \n",
              "2        3.493333  3.493333  3.493333  3.493333  3.493333  3.493333  3.493333  \n",
              "3        3.590000  3.590000  3.590000  3.590000  3.590000  3.590000  3.590000  \n",
              "4        4.348259  4.348259  4.348259  4.348259  4.348259  4.348259  4.348259  \n",
              "5        3.917526  3.917526  3.917526  3.917526  3.917526  3.917526  3.917526  \n",
              "\n",
              "[5 rows x 9066 columns]"
            ],
            "text/html": [
              "\n",
              "  <div id=\"df-02d3c8ae-4b73-4fd3-9447-9e513146d7de\" class=\"colab-df-container\">\n",
              "    <div>\n",
              "<style scoped>\n",
              "    .dataframe tbody tr th:only-of-type {\n",
              "        vertical-align: middle;\n",
              "    }\n",
              "\n",
              "    .dataframe tbody tr th {\n",
              "        vertical-align: top;\n",
              "    }\n",
              "\n",
              "    .dataframe thead th {\n",
              "        text-align: right;\n",
              "    }\n",
              "</style>\n",
              "<table border=\"1\" class=\"dataframe\">\n",
              "  <thead>\n",
              "    <tr style=\"text-align: right;\">\n",
              "      <th>item_id</th>\n",
              "      <th>1</th>\n",
              "      <th>2</th>\n",
              "      <th>3</th>\n",
              "      <th>4</th>\n",
              "      <th>5</th>\n",
              "      <th>6</th>\n",
              "      <th>7</th>\n",
              "      <th>8</th>\n",
              "      <th>9</th>\n",
              "      <th>10</th>\n",
              "      <th>...</th>\n",
              "      <th>161084</th>\n",
              "      <th>161155</th>\n",
              "      <th>161594</th>\n",
              "      <th>161830</th>\n",
              "      <th>161918</th>\n",
              "      <th>161944</th>\n",
              "      <th>162376</th>\n",
              "      <th>162542</th>\n",
              "      <th>162672</th>\n",
              "      <th>163949</th>\n",
              "    </tr>\n",
              "    <tr>\n",
              "      <th>user_id</th>\n",
              "      <th></th>\n",
              "      <th></th>\n",
              "      <th></th>\n",
              "      <th></th>\n",
              "      <th></th>\n",
              "      <th></th>\n",
              "      <th></th>\n",
              "      <th></th>\n",
              "      <th></th>\n",
              "      <th></th>\n",
              "      <th></th>\n",
              "      <th></th>\n",
              "      <th></th>\n",
              "      <th></th>\n",
              "      <th></th>\n",
              "      <th></th>\n",
              "      <th></th>\n",
              "      <th></th>\n",
              "      <th></th>\n",
              "      <th></th>\n",
              "      <th></th>\n",
              "    </tr>\n",
              "  </thead>\n",
              "  <tbody>\n",
              "    <tr>\n",
              "      <th>1</th>\n",
              "      <td>2.550000</td>\n",
              "      <td>2.550000</td>\n",
              "      <td>2.550000</td>\n",
              "      <td>2.550000</td>\n",
              "      <td>2.550000</td>\n",
              "      <td>2.550000</td>\n",
              "      <td>2.550000</td>\n",
              "      <td>2.550000</td>\n",
              "      <td>2.550000</td>\n",
              "      <td>2.550000</td>\n",
              "      <td>...</td>\n",
              "      <td>2.550000</td>\n",
              "      <td>2.550000</td>\n",
              "      <td>2.550000</td>\n",
              "      <td>2.550000</td>\n",
              "      <td>2.550000</td>\n",
              "      <td>2.550000</td>\n",
              "      <td>2.550000</td>\n",
              "      <td>2.550000</td>\n",
              "      <td>2.550000</td>\n",
              "      <td>2.550000</td>\n",
              "    </tr>\n",
              "    <tr>\n",
              "      <th>2</th>\n",
              "      <td>3.493333</td>\n",
              "      <td>3.493333</td>\n",
              "      <td>3.493333</td>\n",
              "      <td>3.493333</td>\n",
              "      <td>3.493333</td>\n",
              "      <td>3.493333</td>\n",
              "      <td>3.493333</td>\n",
              "      <td>3.493333</td>\n",
              "      <td>3.493333</td>\n",
              "      <td>4.000000</td>\n",
              "      <td>...</td>\n",
              "      <td>3.493333</td>\n",
              "      <td>3.493333</td>\n",
              "      <td>3.493333</td>\n",
              "      <td>3.493333</td>\n",
              "      <td>3.493333</td>\n",
              "      <td>3.493333</td>\n",
              "      <td>3.493333</td>\n",
              "      <td>3.493333</td>\n",
              "      <td>3.493333</td>\n",
              "      <td>3.493333</td>\n",
              "    </tr>\n",
              "    <tr>\n",
              "      <th>3</th>\n",
              "      <td>3.590000</td>\n",
              "      <td>3.590000</td>\n",
              "      <td>3.590000</td>\n",
              "      <td>3.590000</td>\n",
              "      <td>3.590000</td>\n",
              "      <td>3.590000</td>\n",
              "      <td>3.590000</td>\n",
              "      <td>3.590000</td>\n",
              "      <td>3.590000</td>\n",
              "      <td>3.590000</td>\n",
              "      <td>...</td>\n",
              "      <td>3.590000</td>\n",
              "      <td>3.590000</td>\n",
              "      <td>3.590000</td>\n",
              "      <td>3.590000</td>\n",
              "      <td>3.590000</td>\n",
              "      <td>3.590000</td>\n",
              "      <td>3.590000</td>\n",
              "      <td>3.590000</td>\n",
              "      <td>3.590000</td>\n",
              "      <td>3.590000</td>\n",
              "    </tr>\n",
              "    <tr>\n",
              "      <th>4</th>\n",
              "      <td>4.348259</td>\n",
              "      <td>4.348259</td>\n",
              "      <td>4.348259</td>\n",
              "      <td>4.348259</td>\n",
              "      <td>4.348259</td>\n",
              "      <td>4.348259</td>\n",
              "      <td>4.348259</td>\n",
              "      <td>4.348259</td>\n",
              "      <td>4.348259</td>\n",
              "      <td>4.000000</td>\n",
              "      <td>...</td>\n",
              "      <td>4.348259</td>\n",
              "      <td>4.348259</td>\n",
              "      <td>4.348259</td>\n",
              "      <td>4.348259</td>\n",
              "      <td>4.348259</td>\n",
              "      <td>4.348259</td>\n",
              "      <td>4.348259</td>\n",
              "      <td>4.348259</td>\n",
              "      <td>4.348259</td>\n",
              "      <td>4.348259</td>\n",
              "    </tr>\n",
              "    <tr>\n",
              "      <th>5</th>\n",
              "      <td>3.917526</td>\n",
              "      <td>3.917526</td>\n",
              "      <td>4.000000</td>\n",
              "      <td>3.917526</td>\n",
              "      <td>3.917526</td>\n",
              "      <td>3.917526</td>\n",
              "      <td>3.917526</td>\n",
              "      <td>3.917526</td>\n",
              "      <td>3.917526</td>\n",
              "      <td>3.917526</td>\n",
              "      <td>...</td>\n",
              "      <td>3.917526</td>\n",
              "      <td>3.917526</td>\n",
              "      <td>3.917526</td>\n",
              "      <td>3.917526</td>\n",
              "      <td>3.917526</td>\n",
              "      <td>3.917526</td>\n",
              "      <td>3.917526</td>\n",
              "      <td>3.917526</td>\n",
              "      <td>3.917526</td>\n",
              "      <td>3.917526</td>\n",
              "    </tr>\n",
              "  </tbody>\n",
              "</table>\n",
              "<p>5 rows × 9066 columns</p>\n",
              "</div>\n",
              "    <div class=\"colab-df-buttons\">\n",
              "\n",
              "  <div class=\"colab-df-container\">\n",
              "    <button class=\"colab-df-convert\" onclick=\"convertToInteractive('df-02d3c8ae-4b73-4fd3-9447-9e513146d7de')\"\n",
              "            title=\"Convert this dataframe to an interactive table.\"\n",
              "            style=\"display:none;\">\n",
              "\n",
              "  <svg xmlns=\"http://www.w3.org/2000/svg\" height=\"24px\" viewBox=\"0 -960 960 960\">\n",
              "    <path d=\"M120-120v-720h720v720H120Zm60-500h600v-160H180v160Zm220 220h160v-160H400v160Zm0 220h160v-160H400v160ZM180-400h160v-160H180v160Zm440 0h160v-160H620v160ZM180-180h160v-160H180v160Zm440 0h160v-160H620v160Z\"/>\n",
              "  </svg>\n",
              "    </button>\n",
              "\n",
              "  <style>\n",
              "    .colab-df-container {\n",
              "      display:flex;\n",
              "      gap: 12px;\n",
              "    }\n",
              "\n",
              "    .colab-df-convert {\n",
              "      background-color: #E8F0FE;\n",
              "      border: none;\n",
              "      border-radius: 50%;\n",
              "      cursor: pointer;\n",
              "      display: none;\n",
              "      fill: #1967D2;\n",
              "      height: 32px;\n",
              "      padding: 0 0 0 0;\n",
              "      width: 32px;\n",
              "    }\n",
              "\n",
              "    .colab-df-convert:hover {\n",
              "      background-color: #E2EBFA;\n",
              "      box-shadow: 0px 1px 2px rgba(60, 64, 67, 0.3), 0px 1px 3px 1px rgba(60, 64, 67, 0.15);\n",
              "      fill: #174EA6;\n",
              "    }\n",
              "\n",
              "    .colab-df-buttons div {\n",
              "      margin-bottom: 4px;\n",
              "    }\n",
              "\n",
              "    [theme=dark] .colab-df-convert {\n",
              "      background-color: #3B4455;\n",
              "      fill: #D2E3FC;\n",
              "    }\n",
              "\n",
              "    [theme=dark] .colab-df-convert:hover {\n",
              "      background-color: #434B5C;\n",
              "      box-shadow: 0px 1px 3px 1px rgba(0, 0, 0, 0.15);\n",
              "      filter: drop-shadow(0px 1px 2px rgba(0, 0, 0, 0.3));\n",
              "      fill: #FFFFFF;\n",
              "    }\n",
              "  </style>\n",
              "\n",
              "    <script>\n",
              "      const buttonEl =\n",
              "        document.querySelector('#df-02d3c8ae-4b73-4fd3-9447-9e513146d7de button.colab-df-convert');\n",
              "      buttonEl.style.display =\n",
              "        google.colab.kernel.accessAllowed ? 'block' : 'none';\n",
              "\n",
              "      async function convertToInteractive(key) {\n",
              "        const element = document.querySelector('#df-02d3c8ae-4b73-4fd3-9447-9e513146d7de');\n",
              "        const dataTable =\n",
              "          await google.colab.kernel.invokeFunction('convertToInteractive',\n",
              "                                                    [key], {});\n",
              "        if (!dataTable) return;\n",
              "\n",
              "        const docLinkHtml = 'Like what you see? Visit the ' +\n",
              "          '<a target=\"_blank\" href=https://colab.research.google.com/notebooks/data_table.ipynb>data table notebook</a>'\n",
              "          + ' to learn more about interactive tables.';\n",
              "        element.innerHTML = '';\n",
              "        dataTable['output_type'] = 'display_data';\n",
              "        await google.colab.output.renderOutput(dataTable, element);\n",
              "        const docLink = document.createElement('div');\n",
              "        docLink.innerHTML = docLinkHtml;\n",
              "        element.appendChild(docLink);\n",
              "      }\n",
              "    </script>\n",
              "  </div>\n",
              "\n",
              "\n",
              "<div id=\"df-60abb6f0-4df1-4f2e-985d-b25a1c212481\">\n",
              "  <button class=\"colab-df-quickchart\" onclick=\"quickchart('df-60abb6f0-4df1-4f2e-985d-b25a1c212481')\"\n",
              "            title=\"Suggest charts\"\n",
              "            style=\"display:none;\">\n",
              "\n",
              "<svg xmlns=\"http://www.w3.org/2000/svg\" height=\"24px\"viewBox=\"0 0 24 24\"\n",
              "     width=\"24px\">\n",
              "    <g>\n",
              "        <path d=\"M19 3H5c-1.1 0-2 .9-2 2v14c0 1.1.9 2 2 2h14c1.1 0 2-.9 2-2V5c0-1.1-.9-2-2-2zM9 17H7v-7h2v7zm4 0h-2V7h2v10zm4 0h-2v-4h2v4z\"/>\n",
              "    </g>\n",
              "</svg>\n",
              "  </button>\n",
              "\n",
              "<style>\n",
              "  .colab-df-quickchart {\n",
              "      --bg-color: #E8F0FE;\n",
              "      --fill-color: #1967D2;\n",
              "      --hover-bg-color: #E2EBFA;\n",
              "      --hover-fill-color: #174EA6;\n",
              "      --disabled-fill-color: #AAA;\n",
              "      --disabled-bg-color: #DDD;\n",
              "  }\n",
              "\n",
              "  [theme=dark] .colab-df-quickchart {\n",
              "      --bg-color: #3B4455;\n",
              "      --fill-color: #D2E3FC;\n",
              "      --hover-bg-color: #434B5C;\n",
              "      --hover-fill-color: #FFFFFF;\n",
              "      --disabled-bg-color: #3B4455;\n",
              "      --disabled-fill-color: #666;\n",
              "  }\n",
              "\n",
              "  .colab-df-quickchart {\n",
              "    background-color: var(--bg-color);\n",
              "    border: none;\n",
              "    border-radius: 50%;\n",
              "    cursor: pointer;\n",
              "    display: none;\n",
              "    fill: var(--fill-color);\n",
              "    height: 32px;\n",
              "    padding: 0;\n",
              "    width: 32px;\n",
              "  }\n",
              "\n",
              "  .colab-df-quickchart:hover {\n",
              "    background-color: var(--hover-bg-color);\n",
              "    box-shadow: 0 1px 2px rgba(60, 64, 67, 0.3), 0 1px 3px 1px rgba(60, 64, 67, 0.15);\n",
              "    fill: var(--button-hover-fill-color);\n",
              "  }\n",
              "\n",
              "  .colab-df-quickchart-complete:disabled,\n",
              "  .colab-df-quickchart-complete:disabled:hover {\n",
              "    background-color: var(--disabled-bg-color);\n",
              "    fill: var(--disabled-fill-color);\n",
              "    box-shadow: none;\n",
              "  }\n",
              "\n",
              "  .colab-df-spinner {\n",
              "    border: 2px solid var(--fill-color);\n",
              "    border-color: transparent;\n",
              "    border-bottom-color: var(--fill-color);\n",
              "    animation:\n",
              "      spin 1s steps(1) infinite;\n",
              "  }\n",
              "\n",
              "  @keyframes spin {\n",
              "    0% {\n",
              "      border-color: transparent;\n",
              "      border-bottom-color: var(--fill-color);\n",
              "      border-left-color: var(--fill-color);\n",
              "    }\n",
              "    20% {\n",
              "      border-color: transparent;\n",
              "      border-left-color: var(--fill-color);\n",
              "      border-top-color: var(--fill-color);\n",
              "    }\n",
              "    30% {\n",
              "      border-color: transparent;\n",
              "      border-left-color: var(--fill-color);\n",
              "      border-top-color: var(--fill-color);\n",
              "      border-right-color: var(--fill-color);\n",
              "    }\n",
              "    40% {\n",
              "      border-color: transparent;\n",
              "      border-right-color: var(--fill-color);\n",
              "      border-top-color: var(--fill-color);\n",
              "    }\n",
              "    60% {\n",
              "      border-color: transparent;\n",
              "      border-right-color: var(--fill-color);\n",
              "    }\n",
              "    80% {\n",
              "      border-color: transparent;\n",
              "      border-right-color: var(--fill-color);\n",
              "      border-bottom-color: var(--fill-color);\n",
              "    }\n",
              "    90% {\n",
              "      border-color: transparent;\n",
              "      border-bottom-color: var(--fill-color);\n",
              "    }\n",
              "  }\n",
              "</style>\n",
              "\n",
              "  <script>\n",
              "    async function quickchart(key) {\n",
              "      const quickchartButtonEl =\n",
              "        document.querySelector('#' + key + ' button');\n",
              "      quickchartButtonEl.disabled = true;  // To prevent multiple clicks.\n",
              "      quickchartButtonEl.classList.add('colab-df-spinner');\n",
              "      try {\n",
              "        const charts = await google.colab.kernel.invokeFunction(\n",
              "            'suggestCharts', [key], {});\n",
              "      } catch (error) {\n",
              "        console.error('Error during call to suggestCharts:', error);\n",
              "      }\n",
              "      quickchartButtonEl.classList.remove('colab-df-spinner');\n",
              "      quickchartButtonEl.classList.add('colab-df-quickchart-complete');\n",
              "    }\n",
              "    (() => {\n",
              "      let quickchartButtonEl =\n",
              "        document.querySelector('#df-60abb6f0-4df1-4f2e-985d-b25a1c212481 button');\n",
              "      quickchartButtonEl.style.display =\n",
              "        google.colab.kernel.accessAllowed ? 'block' : 'none';\n",
              "    })();\n",
              "  </script>\n",
              "</div>\n",
              "\n",
              "    </div>\n",
              "  </div>\n"
            ],
            "application/vnd.google.colaboratory.intrinsic+json": {
              "type": "dataframe",
              "variable_name": "train_data_matrix_avg_fill"
            }
          },
          "metadata": {},
          "execution_count": 22
        }
      ]
    },
    {
      "cell_type": "markdown",
      "source": [
        "## KNN Implamentation and Training"
      ],
      "metadata": {
        "id": "4b6SOoAg5gyW"
      }
    },
    {
      "cell_type": "markdown",
      "source": [
        "The following function calculates the similareties between two user entires based on their movie ratings. In this notebook we will mainly focus on the euclidian ecimilarity but later we will experiment with the cosine and paerson similareties"
      ],
      "metadata": {
        "id": "-pLf6BZF5ihc"
      }
    },
    {
      "cell_type": "code",
      "source": [
        "import numpy as np\n",
        "\n",
        "def calculate_similarity_between_users(user1, user2, similarity_type='euclidean'):\n",
        "    if similarity_type == 'euclidean':\n",
        "        # Calculate the Euclidean distance\n",
        "        distance = np.sqrt(np.nansum((user1 - user2) ** 2))\n",
        "        # Convert distance to similarity\n",
        "        similarity = 1 / (1 + distance)\n",
        "        return similarity\n",
        "    else:\n",
        "        raise ValueError(\"Unsupported similarity type\")"
      ],
      "metadata": {
        "id": "D0AgIaNG5S0F"
      },
      "execution_count": 23,
      "outputs": []
    },
    {
      "cell_type": "markdown",
      "source": [
        "Below is the function that trains out KNN matrix. It find the k nearest neighbours based on the similareties between them. It also returns a similareties matrix that we can use for more fine tuned predictions"
      ],
      "metadata": {
        "id": "xsjNALv55r3V"
      }
    },
    {
      "cell_type": "code",
      "source": [
        "import time\n",
        "def k_nearest_neighbors(dataset_matrix, k, similarity_type='euclidean', print_=True, print_every_n=100):\n",
        "    # Convert the pandas DataFrame to a NumPy array if it's not already an array\n",
        "    if isinstance(dataset_matrix, pd.DataFrame):\n",
        "        dataset_array = dataset_matrix.to_numpy()\n",
        "    else:\n",
        "        dataset_array = dataset_matrix\n",
        "\n",
        "    num_users = dataset_array.shape[0]\n",
        "    # Initialize the KNN matrix with zeros\n",
        "    knn_matrix = np.zeros((num_users, k), dtype=int)\n",
        "    similarities_matrix = np.zeros((num_users, k), dtype=float)\n",
        "\n",
        "    # Placeholder for the similarity scores and user indices\n",
        "    # We use np.inf as the initial values to ensure any actual similarity score will be lower\n",
        "    best_similarities = np.full((k, 2), np.inf) # [similarity, index]\n",
        "\n",
        "    start_total_time = time.time()  # Start timing for the whole function\n",
        "\n",
        "    for i in range(num_users):\n",
        "        start_time = time.time()  # Start timing for the current user\n",
        "        for j in range(num_users):\n",
        "            if i != j:\n",
        "                similarity = calculate_similarity_between_users(dataset_array[i], dataset_array[j], similarity_type)\n",
        "                # Check if this similarity is better than the current stored similarities\n",
        "                for l in range(k-1, -1, -1):\n",
        "                    if similarity < best_similarities[l, 0]:\n",
        "                        if l < k - 1:\n",
        "                            # Shift the later values down one position\n",
        "                            best_similarities[l+1] = best_similarities[l]\n",
        "                        best_similarities[l] = [similarity, j]\n",
        "                    else:\n",
        "                        break\n",
        "\n",
        "        # Store the indices of the K nearest neighbors\n",
        "        knn_matrix[i] = best_similarities[:, 1].astype(int)\n",
        "        similarities_matrix[i] = best_similarities[:, 0].astype(float)\n",
        "        # Reset the best similarities for the next user\n",
        "        best_similarities.fill(np.inf)\n",
        "\n",
        "        end_time = time.time()  # End timing for the current user\n",
        "        if(print_ and i % print_every_n == 0): print(f\"Processed user {i+1}/{num_users} in {end_time - start_time:.2f} seconds.\")\n",
        "\n",
        "    end_total_time = time.time()  # End timing for the whole function\n",
        "    if(print_): print(f\"Total time taken: {end_total_time - start_total_time:.2f} seconds.\")\n",
        "\n",
        "\n",
        "    return knn_matrix, similarities_matrix\n"
      ],
      "metadata": {
        "id": "B7gQqnxh5mFx"
      },
      "execution_count": 24,
      "outputs": []
    },
    {
      "cell_type": "markdown",
      "source": [
        "Okey the first thing I want to test out is how long the training for different k values takes"
      ],
      "metadata": {
        "id": "mkXi4YBe6CdR"
      }
    },
    {
      "cell_type": "code",
      "source": [
        "knn_matrix, similarities_matrix = k_nearest_neighbors(train_data_matrix_0_fill, 3, 'euclidean')"
      ],
      "metadata": {
        "colab": {
          "base_uri": "https://localhost:8080/"
        },
        "id": "cRhcdCVG5_82",
        "outputId": "d23a298c-55df-4643-d506-3f2f97db2f2f"
      },
      "execution_count": 25,
      "outputs": [
        {
          "output_type": "stream",
          "name": "stdout",
          "text": [
            "Processed user 1/671 in 0.07 seconds.\n",
            "Processed user 101/671 in 0.09 seconds.\n",
            "Processed user 201/671 in 0.07 seconds.\n",
            "Processed user 301/671 in 0.09 seconds.\n",
            "Processed user 401/671 in 0.06 seconds.\n",
            "Processed user 501/671 in 0.10 seconds.\n",
            "Processed user 601/671 in 0.06 seconds.\n",
            "Total time taken: 49.47 seconds.\n"
          ]
        }
      ]
    },
    {
      "cell_type": "markdown",
      "source": [
        "## **4. Rule of Thumb:**\n",
        "Some $K = \\sqrt{n}$, where $n$ is the total number of samples in your training dataset. This formul can give you a starting point, but it's still essential to experiment around this value to find the optimal $K$."
      ],
      "metadata": {
        "id": "q08UTjBs6WvI"
      }
    },
    {
      "cell_type": "code",
      "source": [
        "train_data_matrix_avg_fill.shape"
      ],
      "metadata": {
        "colab": {
          "base_uri": "https://localhost:8080/"
        },
        "id": "ExSWn5-36GlW",
        "outputId": "6078e0bf-a6b0-42c9-db7a-daaf8d2a0aa8"
      },
      "execution_count": 26,
      "outputs": [
        {
          "output_type": "execute_result",
          "data": {
            "text/plain": [
              "(671, 9066)"
            ]
          },
          "metadata": {},
          "execution_count": 26
        }
      ]
    },
    {
      "cell_type": "code",
      "source": [
        "import math\n",
        "Ksqrt = math.sqrt(train_data_matrix_avg_fill.shape[0])\n",
        "Ksqrt"
      ],
      "metadata": {
        "colab": {
          "base_uri": "https://localhost:8080/"
        },
        "id": "jmmY27LD64wV",
        "outputId": "bb2ca2ba-25e2-4d30-9aaf-bfaa401dccdd"
      },
      "execution_count": 27,
      "outputs": [
        {
          "output_type": "execute_result",
          "data": {
            "text/plain": [
              "25.903667693977237"
            ]
          },
          "metadata": {},
          "execution_count": 27
        }
      ]
    },
    {
      "cell_type": "markdown",
      "source": [
        "for now we're just gonna test out the time taken to compute the largest k's we are gonna use in crossvalidation to see if we need to implkament parlaaization in the case the algorithem takes too long"
      ],
      "metadata": {
        "id": "PnhMm6527IuR"
      }
    },
    {
      "cell_type": "code",
      "source": [
        "knn_matrix, similarities_matrix = k_nearest_neighbors(train_data_matrix_0_fill, int(2 * Ksqrt), 'euclidean')"
      ],
      "metadata": {
        "colab": {
          "base_uri": "https://localhost:8080/"
        },
        "id": "p5QUCVVq7BQJ",
        "outputId": "fdac9ec3-c786-4ebe-d8c2-0001e8a4a24c"
      },
      "execution_count": 28,
      "outputs": [
        {
          "output_type": "stream",
          "name": "stdout",
          "text": [
            "Processed user 1/671 in 0.12 seconds.\n",
            "Processed user 101/671 in 0.08 seconds.\n",
            "Processed user 201/671 in 0.08 seconds.\n",
            "Processed user 301/671 in 0.07 seconds.\n",
            "Processed user 401/671 in 0.07 seconds.\n",
            "Processed user 501/671 in 0.12 seconds.\n",
            "Processed user 601/671 in 0.07 seconds.\n",
            "Total time taken: 55.08 seconds.\n"
          ]
        }
      ]
    },
    {
      "cell_type": "code",
      "source": [
        "knn_matrix.shape"
      ],
      "metadata": {
        "colab": {
          "base_uri": "https://localhost:8080/"
        },
        "id": "uuChGX9ZAMEo",
        "outputId": "9b06f729-2cf9-4f0a-f16d-6a3f44cbfad8"
      },
      "execution_count": 29,
      "outputs": [
        {
          "output_type": "execute_result",
          "data": {
            "text/plain": [
              "(671, 51)"
            ]
          },
          "metadata": {},
          "execution_count": 29
        }
      ]
    },
    {
      "cell_type": "code",
      "source": [],
      "metadata": {
        "id": "4HGWZoZxAV_h"
      },
      "execution_count": 29,
      "outputs": []
    },
    {
      "cell_type": "markdown",
      "source": [
        "It really didn't take so long... so I don't think I'm gonna go after paralarization just yet."
      ],
      "metadata": {
        "id": "eGWWllbK7f3L"
      }
    },
    {
      "cell_type": "markdown",
      "source": [
        "## Implamenting Prediction and Evaluation"
      ],
      "metadata": {
        "id": "CSnKnona7mnN"
      }
    },
    {
      "cell_type": "code",
      "source": [
        "knn_matrix.shape # 671 user and its 51 neighbors"
      ],
      "metadata": {
        "colab": {
          "base_uri": "https://localhost:8080/"
        },
        "id": "4v5i3EpoEsAx",
        "outputId": "e8d888b4-af27-47f0-af7b-c8491369923b"
      },
      "execution_count": 30,
      "outputs": [
        {
          "output_type": "execute_result",
          "data": {
            "text/plain": [
              "(671, 51)"
            ]
          },
          "metadata": {},
          "execution_count": 30
        }
      ]
    },
    {
      "cell_type": "code",
      "source": [
        "train_data_matrix_0_fill.shape # 671 users and 9066 movies"
      ],
      "metadata": {
        "colab": {
          "base_uri": "https://localhost:8080/"
        },
        "id": "uxpOx8UnE677",
        "outputId": "f25aae1b-2087-44f3-e8ba-539adcad4ab6"
      },
      "execution_count": 31,
      "outputs": [
        {
          "output_type": "execute_result",
          "data": {
            "text/plain": [
              "(671, 9066)"
            ]
          },
          "metadata": {},
          "execution_count": 31
        }
      ]
    },
    {
      "cell_type": "code",
      "source": [
        "train_data_matrix_0_fill"
      ],
      "metadata": {
        "colab": {
          "base_uri": "https://localhost:8080/"
        },
        "id": "WBWvOa9nFcvb",
        "outputId": "db31153c-3bfb-408d-e1f8-f890a03d88bb"
      },
      "execution_count": 32,
      "outputs": [
        {
          "output_type": "execute_result",
          "data": {
            "text/plain": [
              "array([[0., 0., 0., ..., 0., 0., 0.],\n",
              "       [0., 0., 0., ..., 0., 0., 0.],\n",
              "       [0., 0., 0., ..., 0., 0., 0.],\n",
              "       ...,\n",
              "       [0., 0., 0., ..., 0., 0., 0.],\n",
              "       [4., 0., 0., ..., 0., 0., 0.],\n",
              "       [5., 0., 0., ..., 0., 0., 0.]])"
            ]
          },
          "metadata": {},
          "execution_count": 32
        }
      ]
    },
    {
      "cell_type": "code",
      "source": [
        "# set(train_data[['item_id']].sort_values(by=['item_id'])['item_id'].astype(int).to_list())"
      ],
      "metadata": {
        "id": "QP4wGZJAFe_i"
      },
      "execution_count": 33,
      "outputs": []
    },
    {
      "cell_type": "markdown",
      "source": [
        "Below is the code for the function that predicts movie ratings for users"
      ],
      "metadata": {
        "id": "uv5Pk0-L7oYM"
      }
    },
    {
      "cell_type": "code",
      "source": [
        "def predict_rating(user_index, movie_index, knn_matrix, similarities_matrix, ratings_matrix, use_similarities_matrix=True):\n",
        "    # Extract the K nearest neighbors for the given user\n",
        "    user_index = int(user_index)\n",
        "    prev_index = 0\n",
        "    movie_index = int(movie_index)\n",
        "    neighbors_indices = knn_matrix[user_index]\n",
        "\n",
        "    # Collect ratings for the target movie given by the neighbors\n",
        "    if movie_index > ratings_matrix.shape[1]:\n",
        "       movie_index = prev_index + 1\n",
        "\n",
        "    neighbor_ratings = ratings_matrix[neighbors_indices, movie_index]\n",
        "\n",
        "    # Also, collect the similarities for weighting, if applicable\n",
        "    neighbor_similarities = similarities_matrix[user_index]\n",
        "\n",
        "    # Filter out zeros (assuming they represent missing ratings)\n",
        "    valid_indices = neighbor_ratings != 0\n",
        "    valid_ratings = neighbor_ratings[valid_indices]\n",
        "    valid_similarities = neighbor_similarities[valid_indices]\n",
        "\n",
        "    prev_index = movie_index\n",
        "\n",
        "    if use_similarities_matrix and valid_ratings.size > 0:\n",
        "        # Compute weighted average of valid ratings\n",
        "        weighted_sum = np.sum(valid_ratings * valid_similarities)\n",
        "        sum_of_weights = np.sum(valid_similarities)\n",
        "        predicted_rating = weighted_sum / sum_of_weights if sum_of_weights > 0 else np.nan\n",
        "    elif valid_ratings.size > 0:\n",
        "        # Compute simple average of valid ratings\n",
        "        predicted_rating = valid_ratings.mean()\n",
        "    else:\n",
        "        # If there are no valid ratings, use the global average rating\n",
        "        global_average = np.nanmean(ratings_matrix[ratings_matrix != 0])\n",
        "        predicted_rating = global_average\n",
        "\n",
        "    return predicted_rating\n"
      ],
      "metadata": {
        "id": "kcJ0qtyc7TgT"
      },
      "execution_count": 34,
      "outputs": []
    },
    {
      "cell_type": "markdown",
      "source": [
        "Below are a bunch of outputs for insights into how our matrecies and data are structured after training"
      ],
      "metadata": {
        "id": "WDULziqn7s0-"
      }
    },
    {
      "cell_type": "code",
      "source": [
        "knn_matrix[0, :]"
      ],
      "metadata": {
        "colab": {
          "base_uri": "https://localhost:8080/"
        },
        "id": "HhbS7eA97rL1",
        "outputId": "d9c8e74e-27fb-4eb2-866a-475ab3ee109e"
      },
      "execution_count": 35,
      "outputs": [
        {
          "output_type": "execute_result",
          "data": {
            "text/plain": [
              "array([546, 563,  72,  14, 623,  29, 451, 379, 293, 471, 467, 387, 231,\n",
              "       101, 508,  22, 653, 579, 517, 310, 211, 118, 586,  55, 480, 241,\n",
              "       305, 528, 663,  47, 357, 212, 298, 574, 595, 479, 606, 460, 198,\n",
              "       104,  18, 474, 404, 406,  16, 462, 267, 261, 576, 543, 584])"
            ]
          },
          "metadata": {},
          "execution_count": 35
        }
      ]
    },
    {
      "cell_type": "code",
      "source": [
        "train_data_matrix_0_fill[knn_matrix[0], 0]"
      ],
      "metadata": {
        "colab": {
          "base_uri": "https://localhost:8080/"
        },
        "id": "IQSalbTD8Dhj",
        "outputId": "8de2beff-d26b-44c9-ff0b-318fcec395ce"
      },
      "execution_count": 36,
      "outputs": [
        {
          "output_type": "execute_result",
          "data": {
            "text/plain": [
              "array([3.5, 4. , 5. , 2. , 5. , 4. , 3.5, 4. , 4. , 5. , 4. , 0. , 3. ,\n",
              "       0. , 3. , 3. , 5. , 4. , 5. , 3. , 3. , 2. , 0. , 4. , 4. , 5. ,\n",
              "       3. , 4. , 3.5, 4. , 5. , 3. , 0. , 3. , 3.5, 5. , 4.5, 3.5, 0. ,\n",
              "       0. , 3. , 4.5, 0. , 4. , 0. , 3. , 5. , 2.5, 5. , 0. , 4. ])"
            ]
          },
          "metadata": {},
          "execution_count": 36
        }
      ]
    },
    {
      "cell_type": "code",
      "source": [
        "train_data"
      ],
      "metadata": {
        "colab": {
          "base_uri": "https://localhost:8080/",
          "height": 423
        },
        "id": "V0_mkU2n8GeJ",
        "outputId": "f81bd1ce-d891-4c7d-f902-b24fda02ac80"
      },
      "execution_count": 37,
      "outputs": [
        {
          "output_type": "execute_result",
          "data": {
            "text/plain": [
              "       user_id  item_id  rating   timestamp\n",
              "0            1       31     2.5  1260759144\n",
              "1            1     1029     3.0  1260759179\n",
              "2            1     1061     3.0  1260759182\n",
              "3            1     1129     2.0  1260759185\n",
              "4            1     1172     4.0  1260759205\n",
              "...        ...      ...     ...         ...\n",
              "77406       69      344     4.0  1366831253\n",
              "77407      452     4874     3.0  1044681111\n",
              "77408      575     1201     5.0  1012594455\n",
              "77409       17     1212     5.0  1127468800\n",
              "77410      138    99114     4.0  1440379643\n",
              "\n",
              "[77411 rows x 4 columns]"
            ],
            "text/html": [
              "\n",
              "  <div id=\"df-8cc76564-40c6-4ff1-a23b-70085d45f131\" class=\"colab-df-container\">\n",
              "    <div>\n",
              "<style scoped>\n",
              "    .dataframe tbody tr th:only-of-type {\n",
              "        vertical-align: middle;\n",
              "    }\n",
              "\n",
              "    .dataframe tbody tr th {\n",
              "        vertical-align: top;\n",
              "    }\n",
              "\n",
              "    .dataframe thead th {\n",
              "        text-align: right;\n",
              "    }\n",
              "</style>\n",
              "<table border=\"1\" class=\"dataframe\">\n",
              "  <thead>\n",
              "    <tr style=\"text-align: right;\">\n",
              "      <th></th>\n",
              "      <th>user_id</th>\n",
              "      <th>item_id</th>\n",
              "      <th>rating</th>\n",
              "      <th>timestamp</th>\n",
              "    </tr>\n",
              "  </thead>\n",
              "  <tbody>\n",
              "    <tr>\n",
              "      <th>0</th>\n",
              "      <td>1</td>\n",
              "      <td>31</td>\n",
              "      <td>2.5</td>\n",
              "      <td>1260759144</td>\n",
              "    </tr>\n",
              "    <tr>\n",
              "      <th>1</th>\n",
              "      <td>1</td>\n",
              "      <td>1029</td>\n",
              "      <td>3.0</td>\n",
              "      <td>1260759179</td>\n",
              "    </tr>\n",
              "    <tr>\n",
              "      <th>2</th>\n",
              "      <td>1</td>\n",
              "      <td>1061</td>\n",
              "      <td>3.0</td>\n",
              "      <td>1260759182</td>\n",
              "    </tr>\n",
              "    <tr>\n",
              "      <th>3</th>\n",
              "      <td>1</td>\n",
              "      <td>1129</td>\n",
              "      <td>2.0</td>\n",
              "      <td>1260759185</td>\n",
              "    </tr>\n",
              "    <tr>\n",
              "      <th>4</th>\n",
              "      <td>1</td>\n",
              "      <td>1172</td>\n",
              "      <td>4.0</td>\n",
              "      <td>1260759205</td>\n",
              "    </tr>\n",
              "    <tr>\n",
              "      <th>...</th>\n",
              "      <td>...</td>\n",
              "      <td>...</td>\n",
              "      <td>...</td>\n",
              "      <td>...</td>\n",
              "    </tr>\n",
              "    <tr>\n",
              "      <th>77406</th>\n",
              "      <td>69</td>\n",
              "      <td>344</td>\n",
              "      <td>4.0</td>\n",
              "      <td>1366831253</td>\n",
              "    </tr>\n",
              "    <tr>\n",
              "      <th>77407</th>\n",
              "      <td>452</td>\n",
              "      <td>4874</td>\n",
              "      <td>3.0</td>\n",
              "      <td>1044681111</td>\n",
              "    </tr>\n",
              "    <tr>\n",
              "      <th>77408</th>\n",
              "      <td>575</td>\n",
              "      <td>1201</td>\n",
              "      <td>5.0</td>\n",
              "      <td>1012594455</td>\n",
              "    </tr>\n",
              "    <tr>\n",
              "      <th>77409</th>\n",
              "      <td>17</td>\n",
              "      <td>1212</td>\n",
              "      <td>5.0</td>\n",
              "      <td>1127468800</td>\n",
              "    </tr>\n",
              "    <tr>\n",
              "      <th>77410</th>\n",
              "      <td>138</td>\n",
              "      <td>99114</td>\n",
              "      <td>4.0</td>\n",
              "      <td>1440379643</td>\n",
              "    </tr>\n",
              "  </tbody>\n",
              "</table>\n",
              "<p>77411 rows × 4 columns</p>\n",
              "</div>\n",
              "    <div class=\"colab-df-buttons\">\n",
              "\n",
              "  <div class=\"colab-df-container\">\n",
              "    <button class=\"colab-df-convert\" onclick=\"convertToInteractive('df-8cc76564-40c6-4ff1-a23b-70085d45f131')\"\n",
              "            title=\"Convert this dataframe to an interactive table.\"\n",
              "            style=\"display:none;\">\n",
              "\n",
              "  <svg xmlns=\"http://www.w3.org/2000/svg\" height=\"24px\" viewBox=\"0 -960 960 960\">\n",
              "    <path d=\"M120-120v-720h720v720H120Zm60-500h600v-160H180v160Zm220 220h160v-160H400v160Zm0 220h160v-160H400v160ZM180-400h160v-160H180v160Zm440 0h160v-160H620v160ZM180-180h160v-160H180v160Zm440 0h160v-160H620v160Z\"/>\n",
              "  </svg>\n",
              "    </button>\n",
              "\n",
              "  <style>\n",
              "    .colab-df-container {\n",
              "      display:flex;\n",
              "      gap: 12px;\n",
              "    }\n",
              "\n",
              "    .colab-df-convert {\n",
              "      background-color: #E8F0FE;\n",
              "      border: none;\n",
              "      border-radius: 50%;\n",
              "      cursor: pointer;\n",
              "      display: none;\n",
              "      fill: #1967D2;\n",
              "      height: 32px;\n",
              "      padding: 0 0 0 0;\n",
              "      width: 32px;\n",
              "    }\n",
              "\n",
              "    .colab-df-convert:hover {\n",
              "      background-color: #E2EBFA;\n",
              "      box-shadow: 0px 1px 2px rgba(60, 64, 67, 0.3), 0px 1px 3px 1px rgba(60, 64, 67, 0.15);\n",
              "      fill: #174EA6;\n",
              "    }\n",
              "\n",
              "    .colab-df-buttons div {\n",
              "      margin-bottom: 4px;\n",
              "    }\n",
              "\n",
              "    [theme=dark] .colab-df-convert {\n",
              "      background-color: #3B4455;\n",
              "      fill: #D2E3FC;\n",
              "    }\n",
              "\n",
              "    [theme=dark] .colab-df-convert:hover {\n",
              "      background-color: #434B5C;\n",
              "      box-shadow: 0px 1px 3px 1px rgba(0, 0, 0, 0.15);\n",
              "      filter: drop-shadow(0px 1px 2px rgba(0, 0, 0, 0.3));\n",
              "      fill: #FFFFFF;\n",
              "    }\n",
              "  </style>\n",
              "\n",
              "    <script>\n",
              "      const buttonEl =\n",
              "        document.querySelector('#df-8cc76564-40c6-4ff1-a23b-70085d45f131 button.colab-df-convert');\n",
              "      buttonEl.style.display =\n",
              "        google.colab.kernel.accessAllowed ? 'block' : 'none';\n",
              "\n",
              "      async function convertToInteractive(key) {\n",
              "        const element = document.querySelector('#df-8cc76564-40c6-4ff1-a23b-70085d45f131');\n",
              "        const dataTable =\n",
              "          await google.colab.kernel.invokeFunction('convertToInteractive',\n",
              "                                                    [key], {});\n",
              "        if (!dataTable) return;\n",
              "\n",
              "        const docLinkHtml = 'Like what you see? Visit the ' +\n",
              "          '<a target=\"_blank\" href=https://colab.research.google.com/notebooks/data_table.ipynb>data table notebook</a>'\n",
              "          + ' to learn more about interactive tables.';\n",
              "        element.innerHTML = '';\n",
              "        dataTable['output_type'] = 'display_data';\n",
              "        await google.colab.output.renderOutput(dataTable, element);\n",
              "        const docLink = document.createElement('div');\n",
              "        docLink.innerHTML = docLinkHtml;\n",
              "        element.appendChild(docLink);\n",
              "      }\n",
              "    </script>\n",
              "  </div>\n",
              "\n",
              "\n",
              "<div id=\"df-ff006e78-ed65-47aa-9472-c514bba77b9d\">\n",
              "  <button class=\"colab-df-quickchart\" onclick=\"quickchart('df-ff006e78-ed65-47aa-9472-c514bba77b9d')\"\n",
              "            title=\"Suggest charts\"\n",
              "            style=\"display:none;\">\n",
              "\n",
              "<svg xmlns=\"http://www.w3.org/2000/svg\" height=\"24px\"viewBox=\"0 0 24 24\"\n",
              "     width=\"24px\">\n",
              "    <g>\n",
              "        <path d=\"M19 3H5c-1.1 0-2 .9-2 2v14c0 1.1.9 2 2 2h14c1.1 0 2-.9 2-2V5c0-1.1-.9-2-2-2zM9 17H7v-7h2v7zm4 0h-2V7h2v10zm4 0h-2v-4h2v4z\"/>\n",
              "    </g>\n",
              "</svg>\n",
              "  </button>\n",
              "\n",
              "<style>\n",
              "  .colab-df-quickchart {\n",
              "      --bg-color: #E8F0FE;\n",
              "      --fill-color: #1967D2;\n",
              "      --hover-bg-color: #E2EBFA;\n",
              "      --hover-fill-color: #174EA6;\n",
              "      --disabled-fill-color: #AAA;\n",
              "      --disabled-bg-color: #DDD;\n",
              "  }\n",
              "\n",
              "  [theme=dark] .colab-df-quickchart {\n",
              "      --bg-color: #3B4455;\n",
              "      --fill-color: #D2E3FC;\n",
              "      --hover-bg-color: #434B5C;\n",
              "      --hover-fill-color: #FFFFFF;\n",
              "      --disabled-bg-color: #3B4455;\n",
              "      --disabled-fill-color: #666;\n",
              "  }\n",
              "\n",
              "  .colab-df-quickchart {\n",
              "    background-color: var(--bg-color);\n",
              "    border: none;\n",
              "    border-radius: 50%;\n",
              "    cursor: pointer;\n",
              "    display: none;\n",
              "    fill: var(--fill-color);\n",
              "    height: 32px;\n",
              "    padding: 0;\n",
              "    width: 32px;\n",
              "  }\n",
              "\n",
              "  .colab-df-quickchart:hover {\n",
              "    background-color: var(--hover-bg-color);\n",
              "    box-shadow: 0 1px 2px rgba(60, 64, 67, 0.3), 0 1px 3px 1px rgba(60, 64, 67, 0.15);\n",
              "    fill: var(--button-hover-fill-color);\n",
              "  }\n",
              "\n",
              "  .colab-df-quickchart-complete:disabled,\n",
              "  .colab-df-quickchart-complete:disabled:hover {\n",
              "    background-color: var(--disabled-bg-color);\n",
              "    fill: var(--disabled-fill-color);\n",
              "    box-shadow: none;\n",
              "  }\n",
              "\n",
              "  .colab-df-spinner {\n",
              "    border: 2px solid var(--fill-color);\n",
              "    border-color: transparent;\n",
              "    border-bottom-color: var(--fill-color);\n",
              "    animation:\n",
              "      spin 1s steps(1) infinite;\n",
              "  }\n",
              "\n",
              "  @keyframes spin {\n",
              "    0% {\n",
              "      border-color: transparent;\n",
              "      border-bottom-color: var(--fill-color);\n",
              "      border-left-color: var(--fill-color);\n",
              "    }\n",
              "    20% {\n",
              "      border-color: transparent;\n",
              "      border-left-color: var(--fill-color);\n",
              "      border-top-color: var(--fill-color);\n",
              "    }\n",
              "    30% {\n",
              "      border-color: transparent;\n",
              "      border-left-color: var(--fill-color);\n",
              "      border-top-color: var(--fill-color);\n",
              "      border-right-color: var(--fill-color);\n",
              "    }\n",
              "    40% {\n",
              "      border-color: transparent;\n",
              "      border-right-color: var(--fill-color);\n",
              "      border-top-color: var(--fill-color);\n",
              "    }\n",
              "    60% {\n",
              "      border-color: transparent;\n",
              "      border-right-color: var(--fill-color);\n",
              "    }\n",
              "    80% {\n",
              "      border-color: transparent;\n",
              "      border-right-color: var(--fill-color);\n",
              "      border-bottom-color: var(--fill-color);\n",
              "    }\n",
              "    90% {\n",
              "      border-color: transparent;\n",
              "      border-bottom-color: var(--fill-color);\n",
              "    }\n",
              "  }\n",
              "</style>\n",
              "\n",
              "  <script>\n",
              "    async function quickchart(key) {\n",
              "      const quickchartButtonEl =\n",
              "        document.querySelector('#' + key + ' button');\n",
              "      quickchartButtonEl.disabled = true;  // To prevent multiple clicks.\n",
              "      quickchartButtonEl.classList.add('colab-df-spinner');\n",
              "      try {\n",
              "        const charts = await google.colab.kernel.invokeFunction(\n",
              "            'suggestCharts', [key], {});\n",
              "      } catch (error) {\n",
              "        console.error('Error during call to suggestCharts:', error);\n",
              "      }\n",
              "      quickchartButtonEl.classList.remove('colab-df-spinner');\n",
              "      quickchartButtonEl.classList.add('colab-df-quickchart-complete');\n",
              "    }\n",
              "    (() => {\n",
              "      let quickchartButtonEl =\n",
              "        document.querySelector('#df-ff006e78-ed65-47aa-9472-c514bba77b9d button');\n",
              "      quickchartButtonEl.style.display =\n",
              "        google.colab.kernel.accessAllowed ? 'block' : 'none';\n",
              "    })();\n",
              "  </script>\n",
              "</div>\n",
              "\n",
              "  <div id=\"id_3438245b-0067-4b88-a829-d4811a533beb\">\n",
              "    <style>\n",
              "      .colab-df-generate {\n",
              "        background-color: #E8F0FE;\n",
              "        border: none;\n",
              "        border-radius: 50%;\n",
              "        cursor: pointer;\n",
              "        display: none;\n",
              "        fill: #1967D2;\n",
              "        height: 32px;\n",
              "        padding: 0 0 0 0;\n",
              "        width: 32px;\n",
              "      }\n",
              "\n",
              "      .colab-df-generate:hover {\n",
              "        background-color: #E2EBFA;\n",
              "        box-shadow: 0px 1px 2px rgba(60, 64, 67, 0.3), 0px 1px 3px 1px rgba(60, 64, 67, 0.15);\n",
              "        fill: #174EA6;\n",
              "      }\n",
              "\n",
              "      [theme=dark] .colab-df-generate {\n",
              "        background-color: #3B4455;\n",
              "        fill: #D2E3FC;\n",
              "      }\n",
              "\n",
              "      [theme=dark] .colab-df-generate:hover {\n",
              "        background-color: #434B5C;\n",
              "        box-shadow: 0px 1px 3px 1px rgba(0, 0, 0, 0.15);\n",
              "        filter: drop-shadow(0px 1px 2px rgba(0, 0, 0, 0.3));\n",
              "        fill: #FFFFFF;\n",
              "      }\n",
              "    </style>\n",
              "    <button class=\"colab-df-generate\" onclick=\"generateWithVariable('train_data')\"\n",
              "            title=\"Generate code using this dataframe.\"\n",
              "            style=\"display:none;\">\n",
              "\n",
              "  <svg xmlns=\"http://www.w3.org/2000/svg\" height=\"24px\"viewBox=\"0 0 24 24\"\n",
              "       width=\"24px\">\n",
              "    <path d=\"M7,19H8.4L18.45,9,17,7.55,7,17.6ZM5,21V16.75L18.45,3.32a2,2,0,0,1,2.83,0l1.4,1.43a1.91,1.91,0,0,1,.58,1.4,1.91,1.91,0,0,1-.58,1.4L9.25,21ZM18.45,9,17,7.55Zm-12,3A5.31,5.31,0,0,0,4.9,8.1,5.31,5.31,0,0,0,1,6.5,5.31,5.31,0,0,0,4.9,4.9,5.31,5.31,0,0,0,6.5,1,5.31,5.31,0,0,0,8.1,4.9,5.31,5.31,0,0,0,12,6.5,5.46,5.46,0,0,0,6.5,12Z\"/>\n",
              "  </svg>\n",
              "    </button>\n",
              "    <script>\n",
              "      (() => {\n",
              "      const buttonEl =\n",
              "        document.querySelector('#id_3438245b-0067-4b88-a829-d4811a533beb button.colab-df-generate');\n",
              "      buttonEl.style.display =\n",
              "        google.colab.kernel.accessAllowed ? 'block' : 'none';\n",
              "\n",
              "      buttonEl.onclick = () => {\n",
              "        google.colab.notebook.generateWithVariable('train_data');\n",
              "      }\n",
              "      })();\n",
              "    </script>\n",
              "  </div>\n",
              "\n",
              "    </div>\n",
              "  </div>\n"
            ],
            "application/vnd.google.colaboratory.intrinsic+json": {
              "type": "dataframe",
              "variable_name": "train_data",
              "summary": "{\n  \"name\": \"train_data\",\n  \"rows\": 77411,\n  \"fields\": [\n    {\n      \"column\": \"user_id\",\n      \"properties\": {\n        \"dtype\": \"number\",\n        \"std\": 197,\n        \"min\": 1,\n        \"max\": 671,\n        \"num_unique_values\": 671,\n        \"samples\": [\n          116,\n          44,\n          407\n        ],\n        \"semantic_type\": \"\",\n        \"description\": \"\"\n      }\n    },\n    {\n      \"column\": \"item_id\",\n      \"properties\": {\n        \"dtype\": \"number\",\n        \"std\": 27004,\n        \"min\": 1,\n        \"max\": 163949,\n        \"num_unique_values\": 9066,\n        \"samples\": [\n          63072,\n          59725,\n          113829\n        ],\n        \"semantic_type\": \"\",\n        \"description\": \"\"\n      }\n    },\n    {\n      \"column\": \"rating\",\n      \"properties\": {\n        \"dtype\": \"number\",\n        \"std\": 1.0644157531010923,\n        \"min\": 0.5,\n        \"max\": 5.0,\n        \"num_unique_values\": 10,\n        \"samples\": [\n          1.5,\n          3.0,\n          1.0\n        ],\n        \"semantic_type\": \"\",\n        \"description\": \"\"\n      }\n    },\n    {\n      \"column\": \"timestamp\",\n      \"properties\": {\n        \"dtype\": \"number\",\n        \"std\": 191664072,\n        \"min\": 789652009,\n        \"max\": 1476623300,\n        \"num_unique_values\": 62546,\n        \"samples\": [\n          1398939868,\n          1345335473,\n          974843206\n        ],\n        \"semantic_type\": \"\",\n        \"description\": \"\"\n      }\n    }\n  ]\n}"
            }
          },
          "metadata": {},
          "execution_count": 37
        }
      ]
    },
    {
      "cell_type": "code",
      "source": [
        "train_data[(train_data.user_id == 1) & (train_data.item_id == 31)]"
      ],
      "metadata": {
        "colab": {
          "base_uri": "https://localhost:8080/",
          "height": 80
        },
        "id": "50nqcpn59VB5",
        "outputId": "59c823b0-3587-4068-b518-629894a32596"
      },
      "execution_count": 38,
      "outputs": [
        {
          "output_type": "execute_result",
          "data": {
            "text/plain": [
              "   user_id  item_id  rating   timestamp\n",
              "0        1       31     2.5  1260759144"
            ],
            "text/html": [
              "\n",
              "  <div id=\"df-947f47eb-5977-482a-87a1-6d3ac9742f25\" class=\"colab-df-container\">\n",
              "    <div>\n",
              "<style scoped>\n",
              "    .dataframe tbody tr th:only-of-type {\n",
              "        vertical-align: middle;\n",
              "    }\n",
              "\n",
              "    .dataframe tbody tr th {\n",
              "        vertical-align: top;\n",
              "    }\n",
              "\n",
              "    .dataframe thead th {\n",
              "        text-align: right;\n",
              "    }\n",
              "</style>\n",
              "<table border=\"1\" class=\"dataframe\">\n",
              "  <thead>\n",
              "    <tr style=\"text-align: right;\">\n",
              "      <th></th>\n",
              "      <th>user_id</th>\n",
              "      <th>item_id</th>\n",
              "      <th>rating</th>\n",
              "      <th>timestamp</th>\n",
              "    </tr>\n",
              "  </thead>\n",
              "  <tbody>\n",
              "    <tr>\n",
              "      <th>0</th>\n",
              "      <td>1</td>\n",
              "      <td>31</td>\n",
              "      <td>2.5</td>\n",
              "      <td>1260759144</td>\n",
              "    </tr>\n",
              "  </tbody>\n",
              "</table>\n",
              "</div>\n",
              "    <div class=\"colab-df-buttons\">\n",
              "\n",
              "  <div class=\"colab-df-container\">\n",
              "    <button class=\"colab-df-convert\" onclick=\"convertToInteractive('df-947f47eb-5977-482a-87a1-6d3ac9742f25')\"\n",
              "            title=\"Convert this dataframe to an interactive table.\"\n",
              "            style=\"display:none;\">\n",
              "\n",
              "  <svg xmlns=\"http://www.w3.org/2000/svg\" height=\"24px\" viewBox=\"0 -960 960 960\">\n",
              "    <path d=\"M120-120v-720h720v720H120Zm60-500h600v-160H180v160Zm220 220h160v-160H400v160Zm0 220h160v-160H400v160ZM180-400h160v-160H180v160Zm440 0h160v-160H620v160ZM180-180h160v-160H180v160Zm440 0h160v-160H620v160Z\"/>\n",
              "  </svg>\n",
              "    </button>\n",
              "\n",
              "  <style>\n",
              "    .colab-df-container {\n",
              "      display:flex;\n",
              "      gap: 12px;\n",
              "    }\n",
              "\n",
              "    .colab-df-convert {\n",
              "      background-color: #E8F0FE;\n",
              "      border: none;\n",
              "      border-radius: 50%;\n",
              "      cursor: pointer;\n",
              "      display: none;\n",
              "      fill: #1967D2;\n",
              "      height: 32px;\n",
              "      padding: 0 0 0 0;\n",
              "      width: 32px;\n",
              "    }\n",
              "\n",
              "    .colab-df-convert:hover {\n",
              "      background-color: #E2EBFA;\n",
              "      box-shadow: 0px 1px 2px rgba(60, 64, 67, 0.3), 0px 1px 3px 1px rgba(60, 64, 67, 0.15);\n",
              "      fill: #174EA6;\n",
              "    }\n",
              "\n",
              "    .colab-df-buttons div {\n",
              "      margin-bottom: 4px;\n",
              "    }\n",
              "\n",
              "    [theme=dark] .colab-df-convert {\n",
              "      background-color: #3B4455;\n",
              "      fill: #D2E3FC;\n",
              "    }\n",
              "\n",
              "    [theme=dark] .colab-df-convert:hover {\n",
              "      background-color: #434B5C;\n",
              "      box-shadow: 0px 1px 3px 1px rgba(0, 0, 0, 0.15);\n",
              "      filter: drop-shadow(0px 1px 2px rgba(0, 0, 0, 0.3));\n",
              "      fill: #FFFFFF;\n",
              "    }\n",
              "  </style>\n",
              "\n",
              "    <script>\n",
              "      const buttonEl =\n",
              "        document.querySelector('#df-947f47eb-5977-482a-87a1-6d3ac9742f25 button.colab-df-convert');\n",
              "      buttonEl.style.display =\n",
              "        google.colab.kernel.accessAllowed ? 'block' : 'none';\n",
              "\n",
              "      async function convertToInteractive(key) {\n",
              "        const element = document.querySelector('#df-947f47eb-5977-482a-87a1-6d3ac9742f25');\n",
              "        const dataTable =\n",
              "          await google.colab.kernel.invokeFunction('convertToInteractive',\n",
              "                                                    [key], {});\n",
              "        if (!dataTable) return;\n",
              "\n",
              "        const docLinkHtml = 'Like what you see? Visit the ' +\n",
              "          '<a target=\"_blank\" href=https://colab.research.google.com/notebooks/data_table.ipynb>data table notebook</a>'\n",
              "          + ' to learn more about interactive tables.';\n",
              "        element.innerHTML = '';\n",
              "        dataTable['output_type'] = 'display_data';\n",
              "        await google.colab.output.renderOutput(dataTable, element);\n",
              "        const docLink = document.createElement('div');\n",
              "        docLink.innerHTML = docLinkHtml;\n",
              "        element.appendChild(docLink);\n",
              "      }\n",
              "    </script>\n",
              "  </div>\n",
              "\n",
              "\n",
              "    </div>\n",
              "  </div>\n"
            ],
            "application/vnd.google.colaboratory.intrinsic+json": {
              "type": "dataframe",
              "summary": "{\n  \"name\": \"train_data[(train_data\",\n  \"rows\": 1,\n  \"fields\": [\n    {\n      \"column\": \"user_id\",\n      \"properties\": {\n        \"dtype\": \"number\",\n        \"std\": null,\n        \"min\": 1,\n        \"max\": 1,\n        \"num_unique_values\": 1,\n        \"samples\": [\n          1\n        ],\n        \"semantic_type\": \"\",\n        \"description\": \"\"\n      }\n    },\n    {\n      \"column\": \"item_id\",\n      \"properties\": {\n        \"dtype\": \"number\",\n        \"std\": null,\n        \"min\": 31,\n        \"max\": 31,\n        \"num_unique_values\": 1,\n        \"samples\": [\n          31\n        ],\n        \"semantic_type\": \"\",\n        \"description\": \"\"\n      }\n    },\n    {\n      \"column\": \"rating\",\n      \"properties\": {\n        \"dtype\": \"number\",\n        \"std\": null,\n        \"min\": 2.5,\n        \"max\": 2.5,\n        \"num_unique_values\": 1,\n        \"samples\": [\n          2.5\n        ],\n        \"semantic_type\": \"\",\n        \"description\": \"\"\n      }\n    },\n    {\n      \"column\": \"timestamp\",\n      \"properties\": {\n        \"dtype\": \"number\",\n        \"std\": null,\n        \"min\": 1260759144,\n        \"max\": 1260759144,\n        \"num_unique_values\": 1,\n        \"samples\": [\n          1260759144\n        ],\n        \"semantic_type\": \"\",\n        \"description\": \"\"\n      }\n    }\n  ]\n}"
            }
          },
          "metadata": {},
          "execution_count": 38
        }
      ]
    },
    {
      "cell_type": "code",
      "source": [
        "len(train_data)"
      ],
      "metadata": {
        "colab": {
          "base_uri": "https://localhost:8080/"
        },
        "id": "TJ7z3tuz8JgZ",
        "outputId": "a33cec17-7461-4032-a584-af0c08502f08"
      },
      "execution_count": 39,
      "outputs": [
        {
          "output_type": "execute_result",
          "data": {
            "text/plain": [
              "77411"
            ]
          },
          "metadata": {},
          "execution_count": 39
        }
      ]
    },
    {
      "cell_type": "code",
      "source": [
        "# for index, row in train_data.iterrows():\n",
        "#         user_index = row['user_id']\n",
        "#         movie_index1=row['item_id']\n",
        "#         print(movie_index1)"
      ],
      "metadata": {
        "id": "4Nc1ed3X8RQJ"
      },
      "execution_count": 40,
      "outputs": []
    },
    {
      "cell_type": "code",
      "source": [
        "# for index, row in train_data.iterrows():\n",
        "#     print(row['rating'])"
      ],
      "metadata": {
        "id": "D8xS4jl48Y0u"
      },
      "execution_count": 41,
      "outputs": []
    },
    {
      "cell_type": "markdown",
      "source": [
        "Below is the rather time expensive evaluate function that evaluates the perforamnce of the current knn model on a givven dataset. We will parallize this function shortly to make it run faster in some upcomming tests"
      ],
      "metadata": {
        "id": "AwC7IR7-8wWd"
      }
    },
    {
      "cell_type": "code",
      "source": [
        "from sklearn.metrics import mean_squared_error, mean_absolute_error\n",
        "from math import sqrt\n",
        "\n",
        "def evaluate_model(knn_matrix, similarities_matrix, ratings_matrix, dataset, use_similarities_matrix = True, print_ = True, print_every_n = 500):\n",
        "\n",
        "    predictions = []\n",
        "    actual_ratings = []\n",
        "\n",
        "    # Iterate through each row in the dataset to make predictions\n",
        "    i=0\n",
        "    for index, row in dataset.iterrows():\n",
        "        user_index = int(row['user_id'])-1\n",
        "        movie_index = int(row['item_id'])-1\n",
        "        actual_rating = row['rating']\n",
        "        # Adjust indices for zero-based indexing\n",
        "        if not np.isnan(actual_rating):\n",
        "\n",
        "            predicted_rating = predict_rating(user_index, movie_index, knn_matrix, similarities_matrix, ratings_matrix, use_similarities_matrix)\n",
        "            # print(\"evaluating on value\", actual_rating)\n",
        "            # print(\"predictet value\", predicted_rating)\n",
        "\n",
        "            predictions.append(predicted_rating)\n",
        "            actual_ratings.append(actual_rating)\n",
        "        else:\n",
        "            # print(\"value should be nan: \", col)\n",
        "            pass\n",
        "        i+=1\n",
        "        if(print_ and i%print_every_n==0): print(f\"done with row index: {i}, out of: {len(dataset)}\")\n",
        "\n",
        "    # Calculate RMSE\n",
        "    rmse = sqrt(mean_squared_error(actual_ratings, predictions))\n",
        "    mae = mean_absolute_error(actual_ratings, predictions)\n",
        "\n",
        "    if print_:\n",
        "        print(f\"RMSE: {rmse}\")\n",
        "        print(f\"MAE: {mae}\")\n",
        "\n",
        "    return rmse, mae\n"
      ],
      "metadata": {
        "id": "FrXOtilY8nW5"
      },
      "execution_count": 42,
      "outputs": []
    },
    {
      "cell_type": "markdown",
      "source": [
        "Testing the predict function"
      ],
      "metadata": {
        "id": "EUS_2Pe09Gfc"
      }
    },
    {
      "cell_type": "code",
      "source": [
        "predict_rating(0, 0, knn_matrix, similarities_matrix, train_data_matrix_0_fill)"
      ],
      "metadata": {
        "colab": {
          "base_uri": "https://localhost:8080/"
        },
        "id": "uWho791Q80dD",
        "outputId": "3afcd000-f0ab-4faa-f896-e5924426fe71"
      },
      "execution_count": 43,
      "outputs": [
        {
          "output_type": "execute_result",
          "data": {
            "text/plain": [
              "3.8332888196358414"
            ]
          },
          "metadata": {},
          "execution_count": 43
        }
      ]
    },
    {
      "cell_type": "markdown",
      "source": [
        "As we can see from above our knn predicted a rating of 3.83 for the user 0 and movie 0 and below we have some more insights into our data"
      ],
      "metadata": {
        "id": "gyogLzz49s1n"
      }
    },
    {
      "cell_type": "code",
      "source": [
        "dataset_array = train_data[['user_id', 'item_id', 'rating']].to_numpy()\n",
        "dataset_array.shape"
      ],
      "metadata": {
        "colab": {
          "base_uri": "https://localhost:8080/"
        },
        "id": "QFpAK1ev9Jfd",
        "outputId": "f170b847-e9a5-4c76-fe5e-25a5d55d12c8"
      },
      "execution_count": 44,
      "outputs": [
        {
          "output_type": "execute_result",
          "data": {
            "text/plain": [
              "(77411, 3)"
            ]
          },
          "metadata": {},
          "execution_count": 44
        }
      ]
    },
    {
      "cell_type": "code",
      "source": [
        "print(train_data_matrix_0_fill.shape)\n",
        "print(knn_matrix.shape)"
      ],
      "metadata": {
        "colab": {
          "base_uri": "https://localhost:8080/"
        },
        "id": "rcD8WlMz9yT7",
        "outputId": "e2ec3899-ccd5-4b44-e6dc-9e8e11b0123f"
      },
      "execution_count": 45,
      "outputs": [
        {
          "output_type": "stream",
          "name": "stdout",
          "text": [
            "(671, 9066)\n",
            "(671, 51)\n"
          ]
        }
      ]
    },
    {
      "cell_type": "markdown",
      "source": [
        "### Now let's finally try evaluating our knn model"
      ],
      "metadata": {
        "id": "KWrBHrCa925l"
      }
    },
    {
      "cell_type": "code",
      "source": [
        "train_rmse, train_mae = evaluate_model(knn_matrix, similarities_matrix, train_data_matrix_0_fill, train_data)\n",
        "test_rmse, test_mae = evaluate_model(knn_matrix, similarities_matrix, train_data_matrix_0_fill, test_data)\n",
        "print(f\"Training RMSE: {train_rmse}\")\n",
        "print(f\"Training MAE: {train_mae}\")\n",
        "print('=' * 40)\n",
        "print(f\"Test RMSE: {test_rmse}\")\n",
        "print(f\"Test MAE: {test_mae}\")"
      ],
      "metadata": {
        "colab": {
          "base_uri": "https://localhost:8080/"
        },
        "id": "eJ-KBJQ390hu",
        "outputId": "4cfc9d42-5740-4dc7-8df6-2013a4f53ea2"
      },
      "execution_count": 46,
      "outputs": [
        {
          "output_type": "stream",
          "name": "stdout",
          "text": [
            "done with row index: 500, out of: 77411\n",
            "done with row index: 1000, out of: 77411\n",
            "done with row index: 1500, out of: 77411\n",
            "done with row index: 2000, out of: 77411\n",
            "done with row index: 2500, out of: 77411\n",
            "done with row index: 3000, out of: 77411\n",
            "done with row index: 3500, out of: 77411\n",
            "done with row index: 4000, out of: 77411\n",
            "done with row index: 4500, out of: 77411\n",
            "done with row index: 5000, out of: 77411\n",
            "done with row index: 5500, out of: 77411\n",
            "done with row index: 6000, out of: 77411\n",
            "done with row index: 6500, out of: 77411\n",
            "done with row index: 7000, out of: 77411\n",
            "done with row index: 7500, out of: 77411\n",
            "done with row index: 8000, out of: 77411\n",
            "done with row index: 8500, out of: 77411\n",
            "done with row index: 9000, out of: 77411\n",
            "done with row index: 9500, out of: 77411\n",
            "done with row index: 10000, out of: 77411\n",
            "done with row index: 10500, out of: 77411\n",
            "done with row index: 11000, out of: 77411\n",
            "done with row index: 11500, out of: 77411\n",
            "done with row index: 12000, out of: 77411\n",
            "done with row index: 12500, out of: 77411\n",
            "done with row index: 13000, out of: 77411\n",
            "done with row index: 13500, out of: 77411\n",
            "done with row index: 14000, out of: 77411\n",
            "done with row index: 14500, out of: 77411\n",
            "done with row index: 15000, out of: 77411\n",
            "done with row index: 15500, out of: 77411\n",
            "done with row index: 16000, out of: 77411\n",
            "done with row index: 16500, out of: 77411\n",
            "done with row index: 17000, out of: 77411\n",
            "done with row index: 17500, out of: 77411\n",
            "done with row index: 18000, out of: 77411\n",
            "done with row index: 18500, out of: 77411\n",
            "done with row index: 19000, out of: 77411\n",
            "done with row index: 19500, out of: 77411\n",
            "done with row index: 20000, out of: 77411\n",
            "done with row index: 20500, out of: 77411\n",
            "done with row index: 21000, out of: 77411\n",
            "done with row index: 21500, out of: 77411\n",
            "done with row index: 22000, out of: 77411\n",
            "done with row index: 22500, out of: 77411\n",
            "done with row index: 23000, out of: 77411\n",
            "done with row index: 23500, out of: 77411\n",
            "done with row index: 24000, out of: 77411\n",
            "done with row index: 24500, out of: 77411\n",
            "done with row index: 25000, out of: 77411\n",
            "done with row index: 25500, out of: 77411\n",
            "done with row index: 26000, out of: 77411\n",
            "done with row index: 26500, out of: 77411\n",
            "done with row index: 27000, out of: 77411\n",
            "done with row index: 27500, out of: 77411\n",
            "done with row index: 28000, out of: 77411\n",
            "done with row index: 28500, out of: 77411\n",
            "done with row index: 29000, out of: 77411\n",
            "done with row index: 29500, out of: 77411\n",
            "done with row index: 30000, out of: 77411\n",
            "done with row index: 30500, out of: 77411\n",
            "done with row index: 31000, out of: 77411\n",
            "done with row index: 31500, out of: 77411\n",
            "done with row index: 32000, out of: 77411\n",
            "done with row index: 32500, out of: 77411\n",
            "done with row index: 33000, out of: 77411\n",
            "done with row index: 33500, out of: 77411\n",
            "done with row index: 34000, out of: 77411\n",
            "done with row index: 34500, out of: 77411\n",
            "done with row index: 35000, out of: 77411\n",
            "done with row index: 35500, out of: 77411\n",
            "done with row index: 36000, out of: 77411\n",
            "done with row index: 36500, out of: 77411\n",
            "done with row index: 37000, out of: 77411\n",
            "done with row index: 37500, out of: 77411\n",
            "done with row index: 38000, out of: 77411\n",
            "done with row index: 38500, out of: 77411\n",
            "done with row index: 39000, out of: 77411\n",
            "done with row index: 39500, out of: 77411\n",
            "done with row index: 40000, out of: 77411\n",
            "done with row index: 40500, out of: 77411\n",
            "done with row index: 41000, out of: 77411\n",
            "done with row index: 41500, out of: 77411\n",
            "done with row index: 42000, out of: 77411\n",
            "done with row index: 42500, out of: 77411\n",
            "done with row index: 43000, out of: 77411\n",
            "done with row index: 43500, out of: 77411\n",
            "done with row index: 44000, out of: 77411\n",
            "done with row index: 44500, out of: 77411\n",
            "done with row index: 45000, out of: 77411\n",
            "done with row index: 45500, out of: 77411\n",
            "done with row index: 46000, out of: 77411\n",
            "done with row index: 46500, out of: 77411\n",
            "done with row index: 47000, out of: 77411\n",
            "done with row index: 47500, out of: 77411\n",
            "done with row index: 48000, out of: 77411\n",
            "done with row index: 48500, out of: 77411\n",
            "done with row index: 49000, out of: 77411\n",
            "done with row index: 49500, out of: 77411\n",
            "done with row index: 50000, out of: 77411\n",
            "done with row index: 50500, out of: 77411\n",
            "done with row index: 51000, out of: 77411\n",
            "done with row index: 51500, out of: 77411\n",
            "done with row index: 52000, out of: 77411\n",
            "done with row index: 52500, out of: 77411\n",
            "done with row index: 53000, out of: 77411\n",
            "done with row index: 53500, out of: 77411\n",
            "done with row index: 54000, out of: 77411\n",
            "done with row index: 54500, out of: 77411\n",
            "done with row index: 55000, out of: 77411\n",
            "done with row index: 55500, out of: 77411\n",
            "done with row index: 56000, out of: 77411\n",
            "done with row index: 56500, out of: 77411\n",
            "done with row index: 57000, out of: 77411\n",
            "done with row index: 57500, out of: 77411\n",
            "done with row index: 58000, out of: 77411\n",
            "done with row index: 58500, out of: 77411\n",
            "done with row index: 59000, out of: 77411\n",
            "done with row index: 59500, out of: 77411\n",
            "done with row index: 60000, out of: 77411\n",
            "done with row index: 60500, out of: 77411\n",
            "done with row index: 61000, out of: 77411\n",
            "done with row index: 61500, out of: 77411\n",
            "done with row index: 62000, out of: 77411\n",
            "done with row index: 62500, out of: 77411\n",
            "done with row index: 63000, out of: 77411\n",
            "done with row index: 63500, out of: 77411\n",
            "done with row index: 64000, out of: 77411\n",
            "done with row index: 64500, out of: 77411\n",
            "done with row index: 65000, out of: 77411\n",
            "done with row index: 65500, out of: 77411\n",
            "done with row index: 66000, out of: 77411\n",
            "done with row index: 66500, out of: 77411\n",
            "done with row index: 67000, out of: 77411\n",
            "done with row index: 67500, out of: 77411\n",
            "done with row index: 68000, out of: 77411\n",
            "done with row index: 68500, out of: 77411\n",
            "done with row index: 69000, out of: 77411\n",
            "done with row index: 69500, out of: 77411\n",
            "done with row index: 70000, out of: 77411\n",
            "done with row index: 70500, out of: 77411\n",
            "done with row index: 71000, out of: 77411\n",
            "done with row index: 71500, out of: 77411\n",
            "done with row index: 72000, out of: 77411\n",
            "done with row index: 72500, out of: 77411\n",
            "done with row index: 73000, out of: 77411\n",
            "done with row index: 73500, out of: 77411\n",
            "done with row index: 74000, out of: 77411\n",
            "done with row index: 74500, out of: 77411\n",
            "done with row index: 75000, out of: 77411\n",
            "done with row index: 75500, out of: 77411\n",
            "done with row index: 76000, out of: 77411\n",
            "done with row index: 76500, out of: 77411\n",
            "done with row index: 77000, out of: 77411\n",
            "RMSE: 1.3108213065825864\n",
            "MAE: 1.0372405987684707\n",
            "done with row index: 500, out of: 22593\n",
            "done with row index: 1000, out of: 22593\n",
            "done with row index: 1500, out of: 22593\n",
            "done with row index: 2000, out of: 22593\n",
            "done with row index: 2500, out of: 22593\n",
            "done with row index: 3000, out of: 22593\n",
            "done with row index: 3500, out of: 22593\n",
            "done with row index: 4000, out of: 22593\n",
            "done with row index: 4500, out of: 22593\n",
            "done with row index: 5000, out of: 22593\n",
            "done with row index: 5500, out of: 22593\n",
            "done with row index: 6000, out of: 22593\n",
            "done with row index: 6500, out of: 22593\n",
            "done with row index: 7000, out of: 22593\n",
            "done with row index: 7500, out of: 22593\n",
            "done with row index: 8000, out of: 22593\n",
            "done with row index: 8500, out of: 22593\n",
            "done with row index: 9000, out of: 22593\n",
            "done with row index: 9500, out of: 22593\n",
            "done with row index: 10000, out of: 22593\n",
            "done with row index: 10500, out of: 22593\n",
            "done with row index: 11000, out of: 22593\n",
            "done with row index: 11500, out of: 22593\n",
            "done with row index: 12000, out of: 22593\n",
            "done with row index: 12500, out of: 22593\n",
            "done with row index: 13000, out of: 22593\n",
            "done with row index: 13500, out of: 22593\n",
            "done with row index: 14000, out of: 22593\n",
            "done with row index: 14500, out of: 22593\n",
            "done with row index: 15000, out of: 22593\n",
            "done with row index: 15500, out of: 22593\n",
            "done with row index: 16000, out of: 22593\n",
            "done with row index: 16500, out of: 22593\n",
            "done with row index: 17000, out of: 22593\n",
            "done with row index: 17500, out of: 22593\n",
            "done with row index: 18000, out of: 22593\n",
            "done with row index: 18500, out of: 22593\n",
            "done with row index: 19000, out of: 22593\n",
            "done with row index: 19500, out of: 22593\n",
            "done with row index: 20000, out of: 22593\n",
            "done with row index: 20500, out of: 22593\n",
            "done with row index: 21000, out of: 22593\n",
            "done with row index: 21500, out of: 22593\n",
            "done with row index: 22000, out of: 22593\n",
            "done with row index: 22500, out of: 22593\n",
            "RMSE: 1.303092362800314\n",
            "MAE: 1.0299218571321986\n",
            "Training RMSE: 1.3108213065825864\n",
            "Training MAE: 1.0372405987684707\n",
            "========================================\n",
            "Test RMSE: 1.303092362800314\n",
            "Test MAE: 1.0299218571321986\n"
          ]
        }
      ]
    },
    {
      "cell_type": "markdown",
      "source": [
        "================================\n",
        "\n",
        "Training RMSE: 1.3108213065825864\n",
        "\n",
        "Training MAE: 1.0372405987684707\n",
        "\n",
        "================================\n",
        "\n",
        "Test RMSE: 1.303092362800314\n",
        "\n",
        "Test MAE: 1.0299218571321986\n",
        "\n",
        "================================"
      ],
      "metadata": {
        "id": "Rsbhlp_aQncg"
      }
    },
    {
      "cell_type": "markdown",
      "source": [
        "These results aren't half bad for the little training it took compared to SVD. Interestingly it's also worth noting how similar the training and test RMSE errors are which is either an indication that I did something wrong in my knn implamentationor it shows how prone to overfiting on training data other algorithems like neural network based aproaches and or SVD are!"
      ],
      "metadata": {
        "id": "w8efYEigQ-R_"
      }
    },
    {
      "cell_type": "markdown",
      "source": [
        "Now lets see what happens if we don't use the use_similarities_matrix = True and set it to False. These should be a more standard \"and simple\" KNN implamentation."
      ],
      "metadata": {
        "id": "4mVQtM9NRDZu"
      }
    },
    {
      "cell_type": "code",
      "source": [
        "train_rmse, train_mae = evaluate_model(knn_matrix, similarities_matrix, train_data_matrix_0_fill, train_data, False)\n",
        "test_rmse, test_mae = evaluate_model(knn_matrix, similarities_matrix, train_data_matrix_0_fill, test_data, False)\n",
        "\n",
        "print('=' * 40)\n",
        "print(f\"Training RMSE: {train_rmse}\")\n",
        "print(f\"Training MAE: {train_mae}\")\n",
        "print('=' * 40)\n",
        "print(f\"Test RMSE: {test_rmse}\")\n",
        "print(f\"Test MAE: {test_mae}\")"
      ],
      "metadata": {
        "colab": {
          "base_uri": "https://localhost:8080/"
        },
        "id": "ixzaiO4P-D-T",
        "outputId": "ca0dcb9c-2c99-43d7-fea0-136f85f154a6"
      },
      "execution_count": 47,
      "outputs": [
        {
          "output_type": "stream",
          "name": "stdout",
          "text": [
            "done with row index: 500, out of: 77411\n",
            "done with row index: 1000, out of: 77411\n",
            "done with row index: 1500, out of: 77411\n",
            "done with row index: 2000, out of: 77411\n",
            "done with row index: 2500, out of: 77411\n",
            "done with row index: 3000, out of: 77411\n",
            "done with row index: 3500, out of: 77411\n",
            "done with row index: 4000, out of: 77411\n",
            "done with row index: 4500, out of: 77411\n",
            "done with row index: 5000, out of: 77411\n",
            "done with row index: 5500, out of: 77411\n",
            "done with row index: 6000, out of: 77411\n",
            "done with row index: 6500, out of: 77411\n",
            "done with row index: 7000, out of: 77411\n",
            "done with row index: 7500, out of: 77411\n",
            "done with row index: 8000, out of: 77411\n",
            "done with row index: 8500, out of: 77411\n",
            "done with row index: 9000, out of: 77411\n",
            "done with row index: 9500, out of: 77411\n",
            "done with row index: 10000, out of: 77411\n",
            "done with row index: 10500, out of: 77411\n",
            "done with row index: 11000, out of: 77411\n",
            "done with row index: 11500, out of: 77411\n",
            "done with row index: 12000, out of: 77411\n",
            "done with row index: 12500, out of: 77411\n",
            "done with row index: 13000, out of: 77411\n",
            "done with row index: 13500, out of: 77411\n",
            "done with row index: 14000, out of: 77411\n",
            "done with row index: 14500, out of: 77411\n",
            "done with row index: 15000, out of: 77411\n",
            "done with row index: 15500, out of: 77411\n",
            "done with row index: 16000, out of: 77411\n",
            "done with row index: 16500, out of: 77411\n",
            "done with row index: 17000, out of: 77411\n",
            "done with row index: 17500, out of: 77411\n",
            "done with row index: 18000, out of: 77411\n",
            "done with row index: 18500, out of: 77411\n",
            "done with row index: 19000, out of: 77411\n",
            "done with row index: 19500, out of: 77411\n",
            "done with row index: 20000, out of: 77411\n",
            "done with row index: 20500, out of: 77411\n",
            "done with row index: 21000, out of: 77411\n",
            "done with row index: 21500, out of: 77411\n",
            "done with row index: 22000, out of: 77411\n",
            "done with row index: 22500, out of: 77411\n",
            "done with row index: 23000, out of: 77411\n",
            "done with row index: 23500, out of: 77411\n",
            "done with row index: 24000, out of: 77411\n",
            "done with row index: 24500, out of: 77411\n",
            "done with row index: 25000, out of: 77411\n",
            "done with row index: 25500, out of: 77411\n",
            "done with row index: 26000, out of: 77411\n",
            "done with row index: 26500, out of: 77411\n",
            "done with row index: 27000, out of: 77411\n",
            "done with row index: 27500, out of: 77411\n",
            "done with row index: 28000, out of: 77411\n",
            "done with row index: 28500, out of: 77411\n",
            "done with row index: 29000, out of: 77411\n",
            "done with row index: 29500, out of: 77411\n",
            "done with row index: 30000, out of: 77411\n",
            "done with row index: 30500, out of: 77411\n",
            "done with row index: 31000, out of: 77411\n",
            "done with row index: 31500, out of: 77411\n",
            "done with row index: 32000, out of: 77411\n",
            "done with row index: 32500, out of: 77411\n",
            "done with row index: 33000, out of: 77411\n",
            "done with row index: 33500, out of: 77411\n",
            "done with row index: 34000, out of: 77411\n",
            "done with row index: 34500, out of: 77411\n",
            "done with row index: 35000, out of: 77411\n",
            "done with row index: 35500, out of: 77411\n",
            "done with row index: 36000, out of: 77411\n",
            "done with row index: 36500, out of: 77411\n",
            "done with row index: 37000, out of: 77411\n",
            "done with row index: 37500, out of: 77411\n",
            "done with row index: 38000, out of: 77411\n",
            "done with row index: 38500, out of: 77411\n",
            "done with row index: 39000, out of: 77411\n",
            "done with row index: 39500, out of: 77411\n",
            "done with row index: 40000, out of: 77411\n",
            "done with row index: 40500, out of: 77411\n",
            "done with row index: 41000, out of: 77411\n",
            "done with row index: 41500, out of: 77411\n",
            "done with row index: 42000, out of: 77411\n",
            "done with row index: 42500, out of: 77411\n",
            "done with row index: 43000, out of: 77411\n",
            "done with row index: 43500, out of: 77411\n",
            "done with row index: 44000, out of: 77411\n",
            "done with row index: 44500, out of: 77411\n",
            "done with row index: 45000, out of: 77411\n",
            "done with row index: 45500, out of: 77411\n",
            "done with row index: 46000, out of: 77411\n",
            "done with row index: 46500, out of: 77411\n",
            "done with row index: 47000, out of: 77411\n",
            "done with row index: 47500, out of: 77411\n",
            "done with row index: 48000, out of: 77411\n",
            "done with row index: 48500, out of: 77411\n",
            "done with row index: 49000, out of: 77411\n",
            "done with row index: 49500, out of: 77411\n",
            "done with row index: 50000, out of: 77411\n",
            "done with row index: 50500, out of: 77411\n",
            "done with row index: 51000, out of: 77411\n",
            "done with row index: 51500, out of: 77411\n",
            "done with row index: 52000, out of: 77411\n",
            "done with row index: 52500, out of: 77411\n",
            "done with row index: 53000, out of: 77411\n",
            "done with row index: 53500, out of: 77411\n",
            "done with row index: 54000, out of: 77411\n",
            "done with row index: 54500, out of: 77411\n",
            "done with row index: 55000, out of: 77411\n",
            "done with row index: 55500, out of: 77411\n",
            "done with row index: 56000, out of: 77411\n",
            "done with row index: 56500, out of: 77411\n",
            "done with row index: 57000, out of: 77411\n",
            "done with row index: 57500, out of: 77411\n",
            "done with row index: 58000, out of: 77411\n",
            "done with row index: 58500, out of: 77411\n",
            "done with row index: 59000, out of: 77411\n",
            "done with row index: 59500, out of: 77411\n",
            "done with row index: 60000, out of: 77411\n",
            "done with row index: 60500, out of: 77411\n",
            "done with row index: 61000, out of: 77411\n",
            "done with row index: 61500, out of: 77411\n",
            "done with row index: 62000, out of: 77411\n",
            "done with row index: 62500, out of: 77411\n",
            "done with row index: 63000, out of: 77411\n",
            "done with row index: 63500, out of: 77411\n",
            "done with row index: 64000, out of: 77411\n",
            "done with row index: 64500, out of: 77411\n",
            "done with row index: 65000, out of: 77411\n",
            "done with row index: 65500, out of: 77411\n",
            "done with row index: 66000, out of: 77411\n",
            "done with row index: 66500, out of: 77411\n",
            "done with row index: 67000, out of: 77411\n",
            "done with row index: 67500, out of: 77411\n",
            "done with row index: 68000, out of: 77411\n",
            "done with row index: 68500, out of: 77411\n",
            "done with row index: 69000, out of: 77411\n",
            "done with row index: 69500, out of: 77411\n",
            "done with row index: 70000, out of: 77411\n",
            "done with row index: 70500, out of: 77411\n",
            "done with row index: 71000, out of: 77411\n",
            "done with row index: 71500, out of: 77411\n",
            "done with row index: 72000, out of: 77411\n",
            "done with row index: 72500, out of: 77411\n",
            "done with row index: 73000, out of: 77411\n",
            "done with row index: 73500, out of: 77411\n",
            "done with row index: 74000, out of: 77411\n",
            "done with row index: 74500, out of: 77411\n",
            "done with row index: 75000, out of: 77411\n",
            "done with row index: 75500, out of: 77411\n",
            "done with row index: 76000, out of: 77411\n",
            "done with row index: 76500, out of: 77411\n",
            "done with row index: 77000, out of: 77411\n",
            "RMSE: 1.3117922938674418\n",
            "MAE: 1.038320313088493\n",
            "done with row index: 500, out of: 22593\n",
            "done with row index: 1000, out of: 22593\n",
            "done with row index: 1500, out of: 22593\n",
            "done with row index: 2000, out of: 22593\n",
            "done with row index: 2500, out of: 22593\n",
            "done with row index: 3000, out of: 22593\n",
            "done with row index: 3500, out of: 22593\n",
            "done with row index: 4000, out of: 22593\n",
            "done with row index: 4500, out of: 22593\n",
            "done with row index: 5000, out of: 22593\n",
            "done with row index: 5500, out of: 22593\n",
            "done with row index: 6000, out of: 22593\n",
            "done with row index: 6500, out of: 22593\n",
            "done with row index: 7000, out of: 22593\n",
            "done with row index: 7500, out of: 22593\n",
            "done with row index: 8000, out of: 22593\n",
            "done with row index: 8500, out of: 22593\n",
            "done with row index: 9000, out of: 22593\n",
            "done with row index: 9500, out of: 22593\n",
            "done with row index: 10000, out of: 22593\n",
            "done with row index: 10500, out of: 22593\n",
            "done with row index: 11000, out of: 22593\n",
            "done with row index: 11500, out of: 22593\n",
            "done with row index: 12000, out of: 22593\n",
            "done with row index: 12500, out of: 22593\n",
            "done with row index: 13000, out of: 22593\n",
            "done with row index: 13500, out of: 22593\n",
            "done with row index: 14000, out of: 22593\n",
            "done with row index: 14500, out of: 22593\n",
            "done with row index: 15000, out of: 22593\n",
            "done with row index: 15500, out of: 22593\n",
            "done with row index: 16000, out of: 22593\n",
            "done with row index: 16500, out of: 22593\n",
            "done with row index: 17000, out of: 22593\n",
            "done with row index: 17500, out of: 22593\n",
            "done with row index: 18000, out of: 22593\n",
            "done with row index: 18500, out of: 22593\n",
            "done with row index: 19000, out of: 22593\n",
            "done with row index: 19500, out of: 22593\n",
            "done with row index: 20000, out of: 22593\n",
            "done with row index: 20500, out of: 22593\n",
            "done with row index: 21000, out of: 22593\n",
            "done with row index: 21500, out of: 22593\n",
            "done with row index: 22000, out of: 22593\n",
            "done with row index: 22500, out of: 22593\n",
            "RMSE: 1.3041755659637155\n",
            "MAE: 1.0309168630279977\n",
            "========================================\n",
            "Training RMSE: 1.3117922938674418\n",
            "Training MAE: 1.038320313088493\n",
            "========================================\n",
            "Test RMSE: 1.3041755659637155\n",
            "Test MAE: 1.0309168630279977\n"
          ]
        }
      ]
    },
    {
      "cell_type": "markdown",
      "source": [
        "========================================\n",
        "\n",
        "Training RMSE: 1.3117922938674418\n",
        "\n",
        "Training MAE: 1.038320313088493\n",
        "\n",
        "========================================\n",
        "\n",
        "Test RMSE: 1.3041755659637155\n",
        "\n",
        "Test MAE: 1.0309168630279977\n",
        "\n",
        "========================================\n",
        "\n",
        "A 0.0002 difference in RMSE! I guess it's noteable if you're operating on billions! I'm kidding it might just be something wrong with my implamentation or my k value or the structure of the 100k movies dataset."
      ],
      "metadata": {
        "id": "SdcL_Y4bRwsd"
      }
    },
    {
      "cell_type": "markdown",
      "source": [
        "Next I want to try what happens if we use the initialization of avrage values for missing values instead of a 0.\n",
        "\n",
        "*I know we prepared the matrix before and I even explicitly mentioned it but let's do it again for the sake of cohearence*"
      ],
      "metadata": {
        "id": "6avOHW-xS7Bh"
      }
    },
    {
      "cell_type": "code",
      "source": [
        "# Create the pivot table\n",
        "train_data_matrix = train_data.pivot_table(index='user_id', columns='item_id', values='rating')\n",
        "# Fill missing values with user averages\n",
        "train_data_matrix_avg_fill = train_data_matrix.apply(lambda x: x.fillna(user_rating_avg[x.name]), axis=1)\n",
        "display(train_data_matrix_avg_fill.head())\n",
        "train_data_matrix_avg_fill = train_data_matrix_avg_fill.to_numpy()\n",
        "# Display the shape and first few rows of the matrix\n",
        "print(train_data_matrix_avg_fill.shape)"
      ],
      "metadata": {
        "colab": {
          "base_uri": "https://localhost:8080/",
          "height": 284
        },
        "id": "zMGySo91RYN5",
        "outputId": "ee0583b4-092a-4d29-e61f-e50768b39848"
      },
      "execution_count": 48,
      "outputs": [
        {
          "output_type": "display_data",
          "data": {
            "text/plain": [
              "item_id    1         2         3         4         5         6         7       \\\n",
              "user_id                                                                         \n",
              "1        2.550000  2.550000  2.550000  2.550000  2.550000  2.550000  2.550000   \n",
              "2        3.493333  3.493333  3.493333  3.493333  3.493333  3.493333  3.493333   \n",
              "3        3.590000  3.590000  3.590000  3.590000  3.590000  3.590000  3.590000   \n",
              "4        4.348259  4.348259  4.348259  4.348259  4.348259  4.348259  4.348259   \n",
              "5        3.917526  3.917526  4.000000  3.917526  3.917526  3.917526  3.917526   \n",
              "\n",
              "item_id    8         9         10      ...    161084    161155    161594  \\\n",
              "user_id                                ...                                 \n",
              "1        2.550000  2.550000  2.550000  ...  2.550000  2.550000  2.550000   \n",
              "2        3.493333  3.493333  4.000000  ...  3.493333  3.493333  3.493333   \n",
              "3        3.590000  3.590000  3.590000  ...  3.590000  3.590000  3.590000   \n",
              "4        4.348259  4.348259  4.000000  ...  4.348259  4.348259  4.348259   \n",
              "5        3.917526  3.917526  3.917526  ...  3.917526  3.917526  3.917526   \n",
              "\n",
              "item_id    161830    161918    161944    162376    162542    162672    163949  \n",
              "user_id                                                                        \n",
              "1        2.550000  2.550000  2.550000  2.550000  2.550000  2.550000  2.550000  \n",
              "2        3.493333  3.493333  3.493333  3.493333  3.493333  3.493333  3.493333  \n",
              "3        3.590000  3.590000  3.590000  3.590000  3.590000  3.590000  3.590000  \n",
              "4        4.348259  4.348259  4.348259  4.348259  4.348259  4.348259  4.348259  \n",
              "5        3.917526  3.917526  3.917526  3.917526  3.917526  3.917526  3.917526  \n",
              "\n",
              "[5 rows x 9066 columns]"
            ],
            "text/html": [
              "\n",
              "  <div id=\"df-3f8237e3-5dfb-4a2b-a418-c72b5c5ff6a4\" class=\"colab-df-container\">\n",
              "    <div>\n",
              "<style scoped>\n",
              "    .dataframe tbody tr th:only-of-type {\n",
              "        vertical-align: middle;\n",
              "    }\n",
              "\n",
              "    .dataframe tbody tr th {\n",
              "        vertical-align: top;\n",
              "    }\n",
              "\n",
              "    .dataframe thead th {\n",
              "        text-align: right;\n",
              "    }\n",
              "</style>\n",
              "<table border=\"1\" class=\"dataframe\">\n",
              "  <thead>\n",
              "    <tr style=\"text-align: right;\">\n",
              "      <th>item_id</th>\n",
              "      <th>1</th>\n",
              "      <th>2</th>\n",
              "      <th>3</th>\n",
              "      <th>4</th>\n",
              "      <th>5</th>\n",
              "      <th>6</th>\n",
              "      <th>7</th>\n",
              "      <th>8</th>\n",
              "      <th>9</th>\n",
              "      <th>10</th>\n",
              "      <th>...</th>\n",
              "      <th>161084</th>\n",
              "      <th>161155</th>\n",
              "      <th>161594</th>\n",
              "      <th>161830</th>\n",
              "      <th>161918</th>\n",
              "      <th>161944</th>\n",
              "      <th>162376</th>\n",
              "      <th>162542</th>\n",
              "      <th>162672</th>\n",
              "      <th>163949</th>\n",
              "    </tr>\n",
              "    <tr>\n",
              "      <th>user_id</th>\n",
              "      <th></th>\n",
              "      <th></th>\n",
              "      <th></th>\n",
              "      <th></th>\n",
              "      <th></th>\n",
              "      <th></th>\n",
              "      <th></th>\n",
              "      <th></th>\n",
              "      <th></th>\n",
              "      <th></th>\n",
              "      <th></th>\n",
              "      <th></th>\n",
              "      <th></th>\n",
              "      <th></th>\n",
              "      <th></th>\n",
              "      <th></th>\n",
              "      <th></th>\n",
              "      <th></th>\n",
              "      <th></th>\n",
              "      <th></th>\n",
              "      <th></th>\n",
              "    </tr>\n",
              "  </thead>\n",
              "  <tbody>\n",
              "    <tr>\n",
              "      <th>1</th>\n",
              "      <td>2.550000</td>\n",
              "      <td>2.550000</td>\n",
              "      <td>2.550000</td>\n",
              "      <td>2.550000</td>\n",
              "      <td>2.550000</td>\n",
              "      <td>2.550000</td>\n",
              "      <td>2.550000</td>\n",
              "      <td>2.550000</td>\n",
              "      <td>2.550000</td>\n",
              "      <td>2.550000</td>\n",
              "      <td>...</td>\n",
              "      <td>2.550000</td>\n",
              "      <td>2.550000</td>\n",
              "      <td>2.550000</td>\n",
              "      <td>2.550000</td>\n",
              "      <td>2.550000</td>\n",
              "      <td>2.550000</td>\n",
              "      <td>2.550000</td>\n",
              "      <td>2.550000</td>\n",
              "      <td>2.550000</td>\n",
              "      <td>2.550000</td>\n",
              "    </tr>\n",
              "    <tr>\n",
              "      <th>2</th>\n",
              "      <td>3.493333</td>\n",
              "      <td>3.493333</td>\n",
              "      <td>3.493333</td>\n",
              "      <td>3.493333</td>\n",
              "      <td>3.493333</td>\n",
              "      <td>3.493333</td>\n",
              "      <td>3.493333</td>\n",
              "      <td>3.493333</td>\n",
              "      <td>3.493333</td>\n",
              "      <td>4.000000</td>\n",
              "      <td>...</td>\n",
              "      <td>3.493333</td>\n",
              "      <td>3.493333</td>\n",
              "      <td>3.493333</td>\n",
              "      <td>3.493333</td>\n",
              "      <td>3.493333</td>\n",
              "      <td>3.493333</td>\n",
              "      <td>3.493333</td>\n",
              "      <td>3.493333</td>\n",
              "      <td>3.493333</td>\n",
              "      <td>3.493333</td>\n",
              "    </tr>\n",
              "    <tr>\n",
              "      <th>3</th>\n",
              "      <td>3.590000</td>\n",
              "      <td>3.590000</td>\n",
              "      <td>3.590000</td>\n",
              "      <td>3.590000</td>\n",
              "      <td>3.590000</td>\n",
              "      <td>3.590000</td>\n",
              "      <td>3.590000</td>\n",
              "      <td>3.590000</td>\n",
              "      <td>3.590000</td>\n",
              "      <td>3.590000</td>\n",
              "      <td>...</td>\n",
              "      <td>3.590000</td>\n",
              "      <td>3.590000</td>\n",
              "      <td>3.590000</td>\n",
              "      <td>3.590000</td>\n",
              "      <td>3.590000</td>\n",
              "      <td>3.590000</td>\n",
              "      <td>3.590000</td>\n",
              "      <td>3.590000</td>\n",
              "      <td>3.590000</td>\n",
              "      <td>3.590000</td>\n",
              "    </tr>\n",
              "    <tr>\n",
              "      <th>4</th>\n",
              "      <td>4.348259</td>\n",
              "      <td>4.348259</td>\n",
              "      <td>4.348259</td>\n",
              "      <td>4.348259</td>\n",
              "      <td>4.348259</td>\n",
              "      <td>4.348259</td>\n",
              "      <td>4.348259</td>\n",
              "      <td>4.348259</td>\n",
              "      <td>4.348259</td>\n",
              "      <td>4.000000</td>\n",
              "      <td>...</td>\n",
              "      <td>4.348259</td>\n",
              "      <td>4.348259</td>\n",
              "      <td>4.348259</td>\n",
              "      <td>4.348259</td>\n",
              "      <td>4.348259</td>\n",
              "      <td>4.348259</td>\n",
              "      <td>4.348259</td>\n",
              "      <td>4.348259</td>\n",
              "      <td>4.348259</td>\n",
              "      <td>4.348259</td>\n",
              "    </tr>\n",
              "    <tr>\n",
              "      <th>5</th>\n",
              "      <td>3.917526</td>\n",
              "      <td>3.917526</td>\n",
              "      <td>4.000000</td>\n",
              "      <td>3.917526</td>\n",
              "      <td>3.917526</td>\n",
              "      <td>3.917526</td>\n",
              "      <td>3.917526</td>\n",
              "      <td>3.917526</td>\n",
              "      <td>3.917526</td>\n",
              "      <td>3.917526</td>\n",
              "      <td>...</td>\n",
              "      <td>3.917526</td>\n",
              "      <td>3.917526</td>\n",
              "      <td>3.917526</td>\n",
              "      <td>3.917526</td>\n",
              "      <td>3.917526</td>\n",
              "      <td>3.917526</td>\n",
              "      <td>3.917526</td>\n",
              "      <td>3.917526</td>\n",
              "      <td>3.917526</td>\n",
              "      <td>3.917526</td>\n",
              "    </tr>\n",
              "  </tbody>\n",
              "</table>\n",
              "<p>5 rows × 9066 columns</p>\n",
              "</div>\n",
              "    <div class=\"colab-df-buttons\">\n",
              "\n",
              "  <div class=\"colab-df-container\">\n",
              "    <button class=\"colab-df-convert\" onclick=\"convertToInteractive('df-3f8237e3-5dfb-4a2b-a418-c72b5c5ff6a4')\"\n",
              "            title=\"Convert this dataframe to an interactive table.\"\n",
              "            style=\"display:none;\">\n",
              "\n",
              "  <svg xmlns=\"http://www.w3.org/2000/svg\" height=\"24px\" viewBox=\"0 -960 960 960\">\n",
              "    <path d=\"M120-120v-720h720v720H120Zm60-500h600v-160H180v160Zm220 220h160v-160H400v160Zm0 220h160v-160H400v160ZM180-400h160v-160H180v160Zm440 0h160v-160H620v160ZM180-180h160v-160H180v160Zm440 0h160v-160H620v160Z\"/>\n",
              "  </svg>\n",
              "    </button>\n",
              "\n",
              "  <style>\n",
              "    .colab-df-container {\n",
              "      display:flex;\n",
              "      gap: 12px;\n",
              "    }\n",
              "\n",
              "    .colab-df-convert {\n",
              "      background-color: #E8F0FE;\n",
              "      border: none;\n",
              "      border-radius: 50%;\n",
              "      cursor: pointer;\n",
              "      display: none;\n",
              "      fill: #1967D2;\n",
              "      height: 32px;\n",
              "      padding: 0 0 0 0;\n",
              "      width: 32px;\n",
              "    }\n",
              "\n",
              "    .colab-df-convert:hover {\n",
              "      background-color: #E2EBFA;\n",
              "      box-shadow: 0px 1px 2px rgba(60, 64, 67, 0.3), 0px 1px 3px 1px rgba(60, 64, 67, 0.15);\n",
              "      fill: #174EA6;\n",
              "    }\n",
              "\n",
              "    .colab-df-buttons div {\n",
              "      margin-bottom: 4px;\n",
              "    }\n",
              "\n",
              "    [theme=dark] .colab-df-convert {\n",
              "      background-color: #3B4455;\n",
              "      fill: #D2E3FC;\n",
              "    }\n",
              "\n",
              "    [theme=dark] .colab-df-convert:hover {\n",
              "      background-color: #434B5C;\n",
              "      box-shadow: 0px 1px 3px 1px rgba(0, 0, 0, 0.15);\n",
              "      filter: drop-shadow(0px 1px 2px rgba(0, 0, 0, 0.3));\n",
              "      fill: #FFFFFF;\n",
              "    }\n",
              "  </style>\n",
              "\n",
              "    <script>\n",
              "      const buttonEl =\n",
              "        document.querySelector('#df-3f8237e3-5dfb-4a2b-a418-c72b5c5ff6a4 button.colab-df-convert');\n",
              "      buttonEl.style.display =\n",
              "        google.colab.kernel.accessAllowed ? 'block' : 'none';\n",
              "\n",
              "      async function convertToInteractive(key) {\n",
              "        const element = document.querySelector('#df-3f8237e3-5dfb-4a2b-a418-c72b5c5ff6a4');\n",
              "        const dataTable =\n",
              "          await google.colab.kernel.invokeFunction('convertToInteractive',\n",
              "                                                    [key], {});\n",
              "        if (!dataTable) return;\n",
              "\n",
              "        const docLinkHtml = 'Like what you see? Visit the ' +\n",
              "          '<a target=\"_blank\" href=https://colab.research.google.com/notebooks/data_table.ipynb>data table notebook</a>'\n",
              "          + ' to learn more about interactive tables.';\n",
              "        element.innerHTML = '';\n",
              "        dataTable['output_type'] = 'display_data';\n",
              "        await google.colab.output.renderOutput(dataTable, element);\n",
              "        const docLink = document.createElement('div');\n",
              "        docLink.innerHTML = docLinkHtml;\n",
              "        element.appendChild(docLink);\n",
              "      }\n",
              "    </script>\n",
              "  </div>\n",
              "\n",
              "\n",
              "<div id=\"df-66da0882-255d-45e8-a0bb-6c532041f384\">\n",
              "  <button class=\"colab-df-quickchart\" onclick=\"quickchart('df-66da0882-255d-45e8-a0bb-6c532041f384')\"\n",
              "            title=\"Suggest charts\"\n",
              "            style=\"display:none;\">\n",
              "\n",
              "<svg xmlns=\"http://www.w3.org/2000/svg\" height=\"24px\"viewBox=\"0 0 24 24\"\n",
              "     width=\"24px\">\n",
              "    <g>\n",
              "        <path d=\"M19 3H5c-1.1 0-2 .9-2 2v14c0 1.1.9 2 2 2h14c1.1 0 2-.9 2-2V5c0-1.1-.9-2-2-2zM9 17H7v-7h2v7zm4 0h-2V7h2v10zm4 0h-2v-4h2v4z\"/>\n",
              "    </g>\n",
              "</svg>\n",
              "  </button>\n",
              "\n",
              "<style>\n",
              "  .colab-df-quickchart {\n",
              "      --bg-color: #E8F0FE;\n",
              "      --fill-color: #1967D2;\n",
              "      --hover-bg-color: #E2EBFA;\n",
              "      --hover-fill-color: #174EA6;\n",
              "      --disabled-fill-color: #AAA;\n",
              "      --disabled-bg-color: #DDD;\n",
              "  }\n",
              "\n",
              "  [theme=dark] .colab-df-quickchart {\n",
              "      --bg-color: #3B4455;\n",
              "      --fill-color: #D2E3FC;\n",
              "      --hover-bg-color: #434B5C;\n",
              "      --hover-fill-color: #FFFFFF;\n",
              "      --disabled-bg-color: #3B4455;\n",
              "      --disabled-fill-color: #666;\n",
              "  }\n",
              "\n",
              "  .colab-df-quickchart {\n",
              "    background-color: var(--bg-color);\n",
              "    border: none;\n",
              "    border-radius: 50%;\n",
              "    cursor: pointer;\n",
              "    display: none;\n",
              "    fill: var(--fill-color);\n",
              "    height: 32px;\n",
              "    padding: 0;\n",
              "    width: 32px;\n",
              "  }\n",
              "\n",
              "  .colab-df-quickchart:hover {\n",
              "    background-color: var(--hover-bg-color);\n",
              "    box-shadow: 0 1px 2px rgba(60, 64, 67, 0.3), 0 1px 3px 1px rgba(60, 64, 67, 0.15);\n",
              "    fill: var(--button-hover-fill-color);\n",
              "  }\n",
              "\n",
              "  .colab-df-quickchart-complete:disabled,\n",
              "  .colab-df-quickchart-complete:disabled:hover {\n",
              "    background-color: var(--disabled-bg-color);\n",
              "    fill: var(--disabled-fill-color);\n",
              "    box-shadow: none;\n",
              "  }\n",
              "\n",
              "  .colab-df-spinner {\n",
              "    border: 2px solid var(--fill-color);\n",
              "    border-color: transparent;\n",
              "    border-bottom-color: var(--fill-color);\n",
              "    animation:\n",
              "      spin 1s steps(1) infinite;\n",
              "  }\n",
              "\n",
              "  @keyframes spin {\n",
              "    0% {\n",
              "      border-color: transparent;\n",
              "      border-bottom-color: var(--fill-color);\n",
              "      border-left-color: var(--fill-color);\n",
              "    }\n",
              "    20% {\n",
              "      border-color: transparent;\n",
              "      border-left-color: var(--fill-color);\n",
              "      border-top-color: var(--fill-color);\n",
              "    }\n",
              "    30% {\n",
              "      border-color: transparent;\n",
              "      border-left-color: var(--fill-color);\n",
              "      border-top-color: var(--fill-color);\n",
              "      border-right-color: var(--fill-color);\n",
              "    }\n",
              "    40% {\n",
              "      border-color: transparent;\n",
              "      border-right-color: var(--fill-color);\n",
              "      border-top-color: var(--fill-color);\n",
              "    }\n",
              "    60% {\n",
              "      border-color: transparent;\n",
              "      border-right-color: var(--fill-color);\n",
              "    }\n",
              "    80% {\n",
              "      border-color: transparent;\n",
              "      border-right-color: var(--fill-color);\n",
              "      border-bottom-color: var(--fill-color);\n",
              "    }\n",
              "    90% {\n",
              "      border-color: transparent;\n",
              "      border-bottom-color: var(--fill-color);\n",
              "    }\n",
              "  }\n",
              "</style>\n",
              "\n",
              "  <script>\n",
              "    async function quickchart(key) {\n",
              "      const quickchartButtonEl =\n",
              "        document.querySelector('#' + key + ' button');\n",
              "      quickchartButtonEl.disabled = true;  // To prevent multiple clicks.\n",
              "      quickchartButtonEl.classList.add('colab-df-spinner');\n",
              "      try {\n",
              "        const charts = await google.colab.kernel.invokeFunction(\n",
              "            'suggestCharts', [key], {});\n",
              "      } catch (error) {\n",
              "        console.error('Error during call to suggestCharts:', error);\n",
              "      }\n",
              "      quickchartButtonEl.classList.remove('colab-df-spinner');\n",
              "      quickchartButtonEl.classList.add('colab-df-quickchart-complete');\n",
              "    }\n",
              "    (() => {\n",
              "      let quickchartButtonEl =\n",
              "        document.querySelector('#df-66da0882-255d-45e8-a0bb-6c532041f384 button');\n",
              "      quickchartButtonEl.style.display =\n",
              "        google.colab.kernel.accessAllowed ? 'block' : 'none';\n",
              "    })();\n",
              "  </script>\n",
              "</div>\n",
              "\n",
              "    </div>\n",
              "  </div>\n"
            ],
            "application/vnd.google.colaboratory.intrinsic+json": {
              "type": "dataframe"
            }
          },
          "metadata": {}
        },
        {
          "output_type": "stream",
          "name": "stdout",
          "text": [
            "(671, 9066)\n"
          ]
        }
      ]
    },
    {
      "cell_type": "code",
      "source": [
        "knn_matrix, similarities_matrix = k_nearest_neighbors(train_data_matrix_avg_fill, int(2 * Ksqrt), 'euclidean')"
      ],
      "metadata": {
        "colab": {
          "base_uri": "https://localhost:8080/"
        },
        "id": "b9uIKI4JTTRp",
        "outputId": "b3d35511-590e-4e2d-ee33-bff262b4c6ff"
      },
      "execution_count": 49,
      "outputs": [
        {
          "output_type": "stream",
          "name": "stdout",
          "text": [
            "Processed user 1/671 in 0.04 seconds.\n",
            "Processed user 101/671 in 0.03 seconds.\n",
            "Processed user 201/671 in 0.05 seconds.\n",
            "Processed user 301/671 in 0.03 seconds.\n",
            "Processed user 401/671 in 0.03 seconds.\n",
            "Processed user 501/671 in 0.03 seconds.\n",
            "Processed user 601/671 in 0.06 seconds.\n",
            "Total time taken: 24.09 seconds.\n"
          ]
        }
      ]
    },
    {
      "cell_type": "code",
      "source": [
        "train_rmse, train_mae = evaluate_model(knn_matrix, similarities_matrix, train_data_matrix_avg_fill, train_data)\n",
        "test_rmse, test_mae = evaluate_model(knn_matrix, similarities_matrix, train_data_matrix_avg_fill, test_data)\n",
        "\n",
        "print('KNN fill avg')\n",
        "print('=' * 40)\n",
        "print(f\"Training RMSE: {train_rmse}\")\n",
        "print(f\"Training MAE: {train_mae}\")\n",
        "print('=' * 40)\n",
        "print(f\"Test RMSE: {test_rmse}\")\n",
        "print(f\"Test MAE: {test_mae}\")"
      ],
      "metadata": {
        "colab": {
          "base_uri": "https://localhost:8080/"
        },
        "id": "C69gO-JeVdVP",
        "outputId": "01087d89-6346-4b92-e8fe-5eefae5f055e"
      },
      "execution_count": 50,
      "outputs": [
        {
          "output_type": "stream",
          "name": "stdout",
          "text": [
            "done with row index: 500, out of: 77411\n",
            "done with row index: 1000, out of: 77411\n",
            "done with row index: 1500, out of: 77411\n",
            "done with row index: 2000, out of: 77411\n",
            "done with row index: 2500, out of: 77411\n",
            "done with row index: 3000, out of: 77411\n",
            "done with row index: 3500, out of: 77411\n",
            "done with row index: 4000, out of: 77411\n",
            "done with row index: 4500, out of: 77411\n",
            "done with row index: 5000, out of: 77411\n",
            "done with row index: 5500, out of: 77411\n",
            "done with row index: 6000, out of: 77411\n",
            "done with row index: 6500, out of: 77411\n",
            "done with row index: 7000, out of: 77411\n",
            "done with row index: 7500, out of: 77411\n",
            "done with row index: 8000, out of: 77411\n",
            "done with row index: 8500, out of: 77411\n",
            "done with row index: 9000, out of: 77411\n",
            "done with row index: 9500, out of: 77411\n",
            "done with row index: 10000, out of: 77411\n",
            "done with row index: 10500, out of: 77411\n",
            "done with row index: 11000, out of: 77411\n",
            "done with row index: 11500, out of: 77411\n",
            "done with row index: 12000, out of: 77411\n",
            "done with row index: 12500, out of: 77411\n",
            "done with row index: 13000, out of: 77411\n",
            "done with row index: 13500, out of: 77411\n",
            "done with row index: 14000, out of: 77411\n",
            "done with row index: 14500, out of: 77411\n",
            "done with row index: 15000, out of: 77411\n",
            "done with row index: 15500, out of: 77411\n",
            "done with row index: 16000, out of: 77411\n",
            "done with row index: 16500, out of: 77411\n",
            "done with row index: 17000, out of: 77411\n",
            "done with row index: 17500, out of: 77411\n",
            "done with row index: 18000, out of: 77411\n",
            "done with row index: 18500, out of: 77411\n",
            "done with row index: 19000, out of: 77411\n",
            "done with row index: 19500, out of: 77411\n",
            "done with row index: 20000, out of: 77411\n",
            "done with row index: 20500, out of: 77411\n",
            "done with row index: 21000, out of: 77411\n",
            "done with row index: 21500, out of: 77411\n",
            "done with row index: 22000, out of: 77411\n",
            "done with row index: 22500, out of: 77411\n",
            "done with row index: 23000, out of: 77411\n",
            "done with row index: 23500, out of: 77411\n",
            "done with row index: 24000, out of: 77411\n",
            "done with row index: 24500, out of: 77411\n",
            "done with row index: 25000, out of: 77411\n",
            "done with row index: 25500, out of: 77411\n",
            "done with row index: 26000, out of: 77411\n",
            "done with row index: 26500, out of: 77411\n",
            "done with row index: 27000, out of: 77411\n",
            "done with row index: 27500, out of: 77411\n",
            "done with row index: 28000, out of: 77411\n",
            "done with row index: 28500, out of: 77411\n",
            "done with row index: 29000, out of: 77411\n",
            "done with row index: 29500, out of: 77411\n",
            "done with row index: 30000, out of: 77411\n",
            "done with row index: 30500, out of: 77411\n",
            "done with row index: 31000, out of: 77411\n",
            "done with row index: 31500, out of: 77411\n",
            "done with row index: 32000, out of: 77411\n",
            "done with row index: 32500, out of: 77411\n",
            "done with row index: 33000, out of: 77411\n",
            "done with row index: 33500, out of: 77411\n",
            "done with row index: 34000, out of: 77411\n",
            "done with row index: 34500, out of: 77411\n",
            "done with row index: 35000, out of: 77411\n",
            "done with row index: 35500, out of: 77411\n",
            "done with row index: 36000, out of: 77411\n",
            "done with row index: 36500, out of: 77411\n",
            "done with row index: 37000, out of: 77411\n",
            "done with row index: 37500, out of: 77411\n",
            "done with row index: 38000, out of: 77411\n",
            "done with row index: 38500, out of: 77411\n",
            "done with row index: 39000, out of: 77411\n",
            "done with row index: 39500, out of: 77411\n",
            "done with row index: 40000, out of: 77411\n",
            "done with row index: 40500, out of: 77411\n",
            "done with row index: 41000, out of: 77411\n",
            "done with row index: 41500, out of: 77411\n",
            "done with row index: 42000, out of: 77411\n",
            "done with row index: 42500, out of: 77411\n",
            "done with row index: 43000, out of: 77411\n",
            "done with row index: 43500, out of: 77411\n",
            "done with row index: 44000, out of: 77411\n",
            "done with row index: 44500, out of: 77411\n",
            "done with row index: 45000, out of: 77411\n",
            "done with row index: 45500, out of: 77411\n",
            "done with row index: 46000, out of: 77411\n",
            "done with row index: 46500, out of: 77411\n",
            "done with row index: 47000, out of: 77411\n",
            "done with row index: 47500, out of: 77411\n",
            "done with row index: 48000, out of: 77411\n",
            "done with row index: 48500, out of: 77411\n",
            "done with row index: 49000, out of: 77411\n",
            "done with row index: 49500, out of: 77411\n",
            "done with row index: 50000, out of: 77411\n",
            "done with row index: 50500, out of: 77411\n",
            "done with row index: 51000, out of: 77411\n",
            "done with row index: 51500, out of: 77411\n",
            "done with row index: 52000, out of: 77411\n",
            "done with row index: 52500, out of: 77411\n",
            "done with row index: 53000, out of: 77411\n",
            "done with row index: 53500, out of: 77411\n",
            "done with row index: 54000, out of: 77411\n",
            "done with row index: 54500, out of: 77411\n",
            "done with row index: 55000, out of: 77411\n",
            "done with row index: 55500, out of: 77411\n",
            "done with row index: 56000, out of: 77411\n",
            "done with row index: 56500, out of: 77411\n",
            "done with row index: 57000, out of: 77411\n",
            "done with row index: 57500, out of: 77411\n",
            "done with row index: 58000, out of: 77411\n",
            "done with row index: 58500, out of: 77411\n",
            "done with row index: 59000, out of: 77411\n",
            "done with row index: 59500, out of: 77411\n",
            "done with row index: 60000, out of: 77411\n",
            "done with row index: 60500, out of: 77411\n",
            "done with row index: 61000, out of: 77411\n",
            "done with row index: 61500, out of: 77411\n",
            "done with row index: 62000, out of: 77411\n",
            "done with row index: 62500, out of: 77411\n",
            "done with row index: 63000, out of: 77411\n",
            "done with row index: 63500, out of: 77411\n",
            "done with row index: 64000, out of: 77411\n",
            "done with row index: 64500, out of: 77411\n",
            "done with row index: 65000, out of: 77411\n",
            "done with row index: 65500, out of: 77411\n",
            "done with row index: 66000, out of: 77411\n",
            "done with row index: 66500, out of: 77411\n",
            "done with row index: 67000, out of: 77411\n",
            "done with row index: 67500, out of: 77411\n",
            "done with row index: 68000, out of: 77411\n",
            "done with row index: 68500, out of: 77411\n",
            "done with row index: 69000, out of: 77411\n",
            "done with row index: 69500, out of: 77411\n",
            "done with row index: 70000, out of: 77411\n",
            "done with row index: 70500, out of: 77411\n",
            "done with row index: 71000, out of: 77411\n",
            "done with row index: 71500, out of: 77411\n",
            "done with row index: 72000, out of: 77411\n",
            "done with row index: 72500, out of: 77411\n",
            "done with row index: 73000, out of: 77411\n",
            "done with row index: 73500, out of: 77411\n",
            "done with row index: 74000, out of: 77411\n",
            "done with row index: 74500, out of: 77411\n",
            "done with row index: 75000, out of: 77411\n",
            "done with row index: 75500, out of: 77411\n",
            "done with row index: 76000, out of: 77411\n",
            "done with row index: 76500, out of: 77411\n",
            "done with row index: 77000, out of: 77411\n",
            "RMSE: 1.456606974294992\n",
            "MAE: 1.1974405076054697\n",
            "done with row index: 500, out of: 22593\n",
            "done with row index: 1000, out of: 22593\n",
            "done with row index: 1500, out of: 22593\n",
            "done with row index: 2000, out of: 22593\n",
            "done with row index: 2500, out of: 22593\n",
            "done with row index: 3000, out of: 22593\n",
            "done with row index: 3500, out of: 22593\n",
            "done with row index: 4000, out of: 22593\n",
            "done with row index: 4500, out of: 22593\n",
            "done with row index: 5000, out of: 22593\n",
            "done with row index: 5500, out of: 22593\n",
            "done with row index: 6000, out of: 22593\n",
            "done with row index: 6500, out of: 22593\n",
            "done with row index: 7000, out of: 22593\n",
            "done with row index: 7500, out of: 22593\n",
            "done with row index: 8000, out of: 22593\n",
            "done with row index: 8500, out of: 22593\n",
            "done with row index: 9000, out of: 22593\n",
            "done with row index: 9500, out of: 22593\n",
            "done with row index: 10000, out of: 22593\n",
            "done with row index: 10500, out of: 22593\n",
            "done with row index: 11000, out of: 22593\n",
            "done with row index: 11500, out of: 22593\n",
            "done with row index: 12000, out of: 22593\n",
            "done with row index: 12500, out of: 22593\n",
            "done with row index: 13000, out of: 22593\n",
            "done with row index: 13500, out of: 22593\n",
            "done with row index: 14000, out of: 22593\n",
            "done with row index: 14500, out of: 22593\n",
            "done with row index: 15000, out of: 22593\n",
            "done with row index: 15500, out of: 22593\n",
            "done with row index: 16000, out of: 22593\n",
            "done with row index: 16500, out of: 22593\n",
            "done with row index: 17000, out of: 22593\n",
            "done with row index: 17500, out of: 22593\n",
            "done with row index: 18000, out of: 22593\n",
            "done with row index: 18500, out of: 22593\n",
            "done with row index: 19000, out of: 22593\n",
            "done with row index: 19500, out of: 22593\n",
            "done with row index: 20000, out of: 22593\n",
            "done with row index: 20500, out of: 22593\n",
            "done with row index: 21000, out of: 22593\n",
            "done with row index: 21500, out of: 22593\n",
            "done with row index: 22000, out of: 22593\n",
            "done with row index: 22500, out of: 22593\n",
            "RMSE: 1.4157385056936878\n",
            "MAE: 1.1633500065146016\n",
            "KNN fill avg\n",
            "========================================\n",
            "Training RMSE: 1.456606974294992\n",
            "Training MAE: 1.1974405076054697\n",
            "========================================\n",
            "Test RMSE: 1.4157385056936878\n",
            "Test MAE: 1.1633500065146016\n"
          ]
        }
      ]
    },
    {
      "cell_type": "markdown",
      "source": [
        "Wow okey! I was not expacting a bigger error by 0.4. My theory is  that an avrage initialization makes the data steer towards the avrage for no real practical reason and thereby maybe it takes different nearest neighbours. Or you know.. my implamentation is wrong."
      ],
      "metadata": {
        "id": "eZpsgcteW0yq"
      }
    },
    {
      "cell_type": "markdown",
      "source": [
        "## Testing different K values"
      ],
      "metadata": {
        "id": "Pvbh9cN0W3zb"
      }
    },
    {
      "cell_type": "code",
      "source": [
        "knn_matrix_100, similarities_matrix_100 = k_nearest_neighbors(train_data_matrix_avg_fill, 100, 'euclidean')\n",
        "train_rmse, train_mae = evaluate_model(knn_matrix_100, similarities_matrix_100, train_data_matrix_avg_fill, train_data)\n",
        "test_rmse, test_mae = evaluate_model(knn_matrix_100, similarities_matrix_100, train_data_matrix_avg_fill, test_data)\n",
        "\n",
        "print('KNN fill avg')\n",
        "print('=' * 40)\n",
        "print(f\"Training RMSE: {train_rmse}\")\n",
        "print(f\"Training MAE: {train_mae}\")\n",
        "print('=' * 40)\n",
        "print(f\"Test RMSE: {test_rmse}\")\n",
        "print(f\"Test MAE: {test_mae}\")"
      ],
      "metadata": {
        "colab": {
          "base_uri": "https://localhost:8080/"
        },
        "id": "3ARr0VFJxonP",
        "outputId": "a7c5de47-acbb-4f78-9298-30d121f4d928"
      },
      "execution_count": 51,
      "outputs": [
        {
          "output_type": "stream",
          "name": "stdout",
          "text": [
            "Processed user 1/671 in 0.09 seconds.\n",
            "Processed user 101/671 in 0.05 seconds.\n",
            "Processed user 201/671 in 0.05 seconds.\n",
            "Processed user 301/671 in 0.05 seconds.\n",
            "Processed user 401/671 in 0.05 seconds.\n",
            "Processed user 501/671 in 0.08 seconds.\n",
            "Processed user 601/671 in 0.05 seconds.\n",
            "Total time taken: 35.78 seconds.\n",
            "done with row index: 500, out of: 77411\n",
            "done with row index: 1000, out of: 77411\n",
            "done with row index: 1500, out of: 77411\n",
            "done with row index: 2000, out of: 77411\n",
            "done with row index: 2500, out of: 77411\n",
            "done with row index: 3000, out of: 77411\n",
            "done with row index: 3500, out of: 77411\n",
            "done with row index: 4000, out of: 77411\n",
            "done with row index: 4500, out of: 77411\n",
            "done with row index: 5000, out of: 77411\n",
            "done with row index: 5500, out of: 77411\n",
            "done with row index: 6000, out of: 77411\n",
            "done with row index: 6500, out of: 77411\n",
            "done with row index: 7000, out of: 77411\n",
            "done with row index: 7500, out of: 77411\n",
            "done with row index: 8000, out of: 77411\n",
            "done with row index: 8500, out of: 77411\n",
            "done with row index: 9000, out of: 77411\n",
            "done with row index: 9500, out of: 77411\n",
            "done with row index: 10000, out of: 77411\n",
            "done with row index: 10500, out of: 77411\n",
            "done with row index: 11000, out of: 77411\n",
            "done with row index: 11500, out of: 77411\n",
            "done with row index: 12000, out of: 77411\n",
            "done with row index: 12500, out of: 77411\n",
            "done with row index: 13000, out of: 77411\n",
            "done with row index: 13500, out of: 77411\n",
            "done with row index: 14000, out of: 77411\n",
            "done with row index: 14500, out of: 77411\n",
            "done with row index: 15000, out of: 77411\n",
            "done with row index: 15500, out of: 77411\n",
            "done with row index: 16000, out of: 77411\n",
            "done with row index: 16500, out of: 77411\n",
            "done with row index: 17000, out of: 77411\n",
            "done with row index: 17500, out of: 77411\n",
            "done with row index: 18000, out of: 77411\n",
            "done with row index: 18500, out of: 77411\n",
            "done with row index: 19000, out of: 77411\n",
            "done with row index: 19500, out of: 77411\n",
            "done with row index: 20000, out of: 77411\n",
            "done with row index: 20500, out of: 77411\n",
            "done with row index: 21000, out of: 77411\n",
            "done with row index: 21500, out of: 77411\n",
            "done with row index: 22000, out of: 77411\n",
            "done with row index: 22500, out of: 77411\n",
            "done with row index: 23000, out of: 77411\n",
            "done with row index: 23500, out of: 77411\n",
            "done with row index: 24000, out of: 77411\n",
            "done with row index: 24500, out of: 77411\n",
            "done with row index: 25000, out of: 77411\n",
            "done with row index: 25500, out of: 77411\n",
            "done with row index: 26000, out of: 77411\n",
            "done with row index: 26500, out of: 77411\n",
            "done with row index: 27000, out of: 77411\n",
            "done with row index: 27500, out of: 77411\n",
            "done with row index: 28000, out of: 77411\n",
            "done with row index: 28500, out of: 77411\n",
            "done with row index: 29000, out of: 77411\n",
            "done with row index: 29500, out of: 77411\n",
            "done with row index: 30000, out of: 77411\n",
            "done with row index: 30500, out of: 77411\n",
            "done with row index: 31000, out of: 77411\n",
            "done with row index: 31500, out of: 77411\n",
            "done with row index: 32000, out of: 77411\n",
            "done with row index: 32500, out of: 77411\n",
            "done with row index: 33000, out of: 77411\n",
            "done with row index: 33500, out of: 77411\n",
            "done with row index: 34000, out of: 77411\n",
            "done with row index: 34500, out of: 77411\n",
            "done with row index: 35000, out of: 77411\n",
            "done with row index: 35500, out of: 77411\n",
            "done with row index: 36000, out of: 77411\n",
            "done with row index: 36500, out of: 77411\n",
            "done with row index: 37000, out of: 77411\n",
            "done with row index: 37500, out of: 77411\n",
            "done with row index: 38000, out of: 77411\n",
            "done with row index: 38500, out of: 77411\n",
            "done with row index: 39000, out of: 77411\n",
            "done with row index: 39500, out of: 77411\n",
            "done with row index: 40000, out of: 77411\n",
            "done with row index: 40500, out of: 77411\n",
            "done with row index: 41000, out of: 77411\n",
            "done with row index: 41500, out of: 77411\n",
            "done with row index: 42000, out of: 77411\n",
            "done with row index: 42500, out of: 77411\n",
            "done with row index: 43000, out of: 77411\n",
            "done with row index: 43500, out of: 77411\n",
            "done with row index: 44000, out of: 77411\n",
            "done with row index: 44500, out of: 77411\n",
            "done with row index: 45000, out of: 77411\n",
            "done with row index: 45500, out of: 77411\n",
            "done with row index: 46000, out of: 77411\n",
            "done with row index: 46500, out of: 77411\n",
            "done with row index: 47000, out of: 77411\n",
            "done with row index: 47500, out of: 77411\n",
            "done with row index: 48000, out of: 77411\n",
            "done with row index: 48500, out of: 77411\n",
            "done with row index: 49000, out of: 77411\n",
            "done with row index: 49500, out of: 77411\n",
            "done with row index: 50000, out of: 77411\n",
            "done with row index: 50500, out of: 77411\n",
            "done with row index: 51000, out of: 77411\n",
            "done with row index: 51500, out of: 77411\n",
            "done with row index: 52000, out of: 77411\n",
            "done with row index: 52500, out of: 77411\n",
            "done with row index: 53000, out of: 77411\n",
            "done with row index: 53500, out of: 77411\n",
            "done with row index: 54000, out of: 77411\n",
            "done with row index: 54500, out of: 77411\n",
            "done with row index: 55000, out of: 77411\n",
            "done with row index: 55500, out of: 77411\n",
            "done with row index: 56000, out of: 77411\n",
            "done with row index: 56500, out of: 77411\n",
            "done with row index: 57000, out of: 77411\n",
            "done with row index: 57500, out of: 77411\n",
            "done with row index: 58000, out of: 77411\n",
            "done with row index: 58500, out of: 77411\n",
            "done with row index: 59000, out of: 77411\n",
            "done with row index: 59500, out of: 77411\n",
            "done with row index: 60000, out of: 77411\n",
            "done with row index: 60500, out of: 77411\n",
            "done with row index: 61000, out of: 77411\n",
            "done with row index: 61500, out of: 77411\n",
            "done with row index: 62000, out of: 77411\n",
            "done with row index: 62500, out of: 77411\n",
            "done with row index: 63000, out of: 77411\n",
            "done with row index: 63500, out of: 77411\n",
            "done with row index: 64000, out of: 77411\n",
            "done with row index: 64500, out of: 77411\n",
            "done with row index: 65000, out of: 77411\n",
            "done with row index: 65500, out of: 77411\n",
            "done with row index: 66000, out of: 77411\n",
            "done with row index: 66500, out of: 77411\n",
            "done with row index: 67000, out of: 77411\n",
            "done with row index: 67500, out of: 77411\n",
            "done with row index: 68000, out of: 77411\n",
            "done with row index: 68500, out of: 77411\n",
            "done with row index: 69000, out of: 77411\n",
            "done with row index: 69500, out of: 77411\n",
            "done with row index: 70000, out of: 77411\n",
            "done with row index: 70500, out of: 77411\n",
            "done with row index: 71000, out of: 77411\n",
            "done with row index: 71500, out of: 77411\n",
            "done with row index: 72000, out of: 77411\n",
            "done with row index: 72500, out of: 77411\n",
            "done with row index: 73000, out of: 77411\n",
            "done with row index: 73500, out of: 77411\n",
            "done with row index: 74000, out of: 77411\n",
            "done with row index: 74500, out of: 77411\n",
            "done with row index: 75000, out of: 77411\n",
            "done with row index: 75500, out of: 77411\n",
            "done with row index: 76000, out of: 77411\n",
            "done with row index: 76500, out of: 77411\n",
            "done with row index: 77000, out of: 77411\n",
            "RMSE: 1.3599840516876036\n",
            "MAE: 1.0972211184855405\n",
            "done with row index: 500, out of: 22593\n",
            "done with row index: 1000, out of: 22593\n",
            "done with row index: 1500, out of: 22593\n",
            "done with row index: 2000, out of: 22593\n",
            "done with row index: 2500, out of: 22593\n",
            "done with row index: 3000, out of: 22593\n",
            "done with row index: 3500, out of: 22593\n",
            "done with row index: 4000, out of: 22593\n",
            "done with row index: 4500, out of: 22593\n",
            "done with row index: 5000, out of: 22593\n",
            "done with row index: 5500, out of: 22593\n",
            "done with row index: 6000, out of: 22593\n",
            "done with row index: 6500, out of: 22593\n",
            "done with row index: 7000, out of: 22593\n",
            "done with row index: 7500, out of: 22593\n",
            "done with row index: 8000, out of: 22593\n",
            "done with row index: 8500, out of: 22593\n",
            "done with row index: 9000, out of: 22593\n",
            "done with row index: 9500, out of: 22593\n",
            "done with row index: 10000, out of: 22593\n",
            "done with row index: 10500, out of: 22593\n",
            "done with row index: 11000, out of: 22593\n",
            "done with row index: 11500, out of: 22593\n",
            "done with row index: 12000, out of: 22593\n",
            "done with row index: 12500, out of: 22593\n",
            "done with row index: 13000, out of: 22593\n",
            "done with row index: 13500, out of: 22593\n",
            "done with row index: 14000, out of: 22593\n",
            "done with row index: 14500, out of: 22593\n",
            "done with row index: 15000, out of: 22593\n",
            "done with row index: 15500, out of: 22593\n",
            "done with row index: 16000, out of: 22593\n",
            "done with row index: 16500, out of: 22593\n",
            "done with row index: 17000, out of: 22593\n",
            "done with row index: 17500, out of: 22593\n",
            "done with row index: 18000, out of: 22593\n",
            "done with row index: 18500, out of: 22593\n",
            "done with row index: 19000, out of: 22593\n",
            "done with row index: 19500, out of: 22593\n",
            "done with row index: 20000, out of: 22593\n",
            "done with row index: 20500, out of: 22593\n",
            "done with row index: 21000, out of: 22593\n",
            "done with row index: 21500, out of: 22593\n",
            "done with row index: 22000, out of: 22593\n",
            "done with row index: 22500, out of: 22593\n",
            "RMSE: 1.3157874550510336\n",
            "MAE: 1.0619048563729567\n",
            "KNN fill avg\n",
            "========================================\n",
            "Training RMSE: 1.3599840516876036\n",
            "Training MAE: 1.0972211184855405\n",
            "========================================\n",
            "Test RMSE: 1.3157874550510336\n",
            "Test MAE: 1.0619048563729567\n"
          ]
        }
      ]
    },
    {
      "cell_type": "code",
      "source": [
        "\n",
        "from concurrent.futures import ThreadPoolExecutor\n",
        "import numpy as np\n",
        "from math import sqrt\n",
        "from sklearn.metrics import mean_squared_error\n",
        "from concurrent.futures import ProcessPoolExecutor, as_completed\n",
        "import numpy as np\n",
        "import time\n"
      ],
      "metadata": {
        "id": "gK_5GoiyV1_2"
      },
      "execution_count": 52,
      "outputs": []
    },
    {
      "cell_type": "markdown",
      "source": [
        "Bellow is the parallized code you don't need to put much thouight to it it's there mainly for speeding up my testing times."
      ],
      "metadata": {
        "id": "tjEeghqEW--f"
      }
    },
    {
      "cell_type": "code",
      "source": [
        "def evaluate_model_concurrent(knn_matrix, similarities_matrix, ratings_matrix, dataset, use_similarities_matrix=True, workers=4):\n",
        "    def worker(row):\n",
        "        user_index, movie_index, actual_rating = row['user_id'].astype(int)-1, row['item_id'].astype(int)-1, row['rating']\n",
        "        if not np.isnan(actual_rating):\n",
        "            predicted_rating = predict_rating(user_index, movie_index, knn_matrix, similarities_matrix, ratings_matrix, use_similarities_matrix)\n",
        "            return predicted_rating, actual_rating\n",
        "\n",
        "    with ThreadPoolExecutor(max_workers=workers) as executor:\n",
        "        results = executor.map(worker, [row for i, row in dataset.iterrows()])\n",
        "\n",
        "    predictions, actual_ratings = zip(*[r for r in results if r is not None])\n",
        "\n",
        "    # Calculate RMSE\n",
        "    rmse = sqrt(mean_squared_error(actual_ratings, predictions))\n",
        "\n",
        "    return rmse\n"
      ],
      "metadata": {
        "id": "Y8sV6xpBW5bM"
      },
      "execution_count": 53,
      "outputs": []
    },
    {
      "cell_type": "code",
      "source": [
        "import os\n",
        "import multiprocessing\n",
        "\n",
        "default_workers = os.cpu_count()\n",
        "default_workers\n"
      ],
      "metadata": {
        "colab": {
          "base_uri": "https://localhost:8080/"
        },
        "id": "39gB_QzZXA2o",
        "outputId": "79de26cc-b1ea-4f58-88ea-9f2ad6f27b31"
      },
      "execution_count": 54,
      "outputs": [
        {
          "output_type": "execute_result",
          "data": {
            "text/plain": [
              "2"
            ]
          },
          "metadata": {},
          "execution_count": 54
        }
      ]
    },
    {
      "cell_type": "markdown",
      "source": [
        "Now let's get to the juicy part. Again like with the SVD testing let's write a function that tests different k values.\n",
        "In this function we don't calculate a new knn model for each k because the first k-1 values in any knn row are the same as the the whole k-1 row"
      ],
      "metadata": {
        "id": "NM6bqfRpXNme"
      }
    },
    {
      "cell_type": "code",
      "source": [
        "def test_different_ks(start_k, end_k, step, dataset_matrix, similarity_type='euclidean', use_similarities_matrix=True, train_data_portion=0.5, test_data_portion =1):\n",
        "    train_rmse_values = []\n",
        "    test_rmse_values = []\n",
        "\n",
        "    cur_train_data = train_data[:int(len(train_data)*train_data_portion)]\n",
        "    cur_test_data = train_data[:int(len(test_data)*test_data_portion)]\n",
        "\n",
        "    # Calculate KNN and similarities matrices for the largest k value\n",
        "    print(f\"Calculating KNN and similarities matrices for k={end_k}\")\n",
        "    full_knn_matrix, full_similarities_matrix = k_nearest_neighbors(dataset_matrix, end_k, similarity_type)\n",
        "\n",
        "    for k in range(start_k, end_k + 1, step):\n",
        "        print(f\"Testing with k={k}\")\n",
        "        start_time = time.time()\n",
        "\n",
        "        # Use only the first k columns of the precomputed matrices\n",
        "        cur_knn_matrix = full_knn_matrix[:, :k]\n",
        "        cur_similarities_matrix = full_similarities_matrix[:, :k]\n",
        "\n",
        "        train_rmse = evaluate_model(cur_knn_matrix, cur_similarities_matrix, dataset_matrix, cur_train_data, use_similarities_matrix)\n",
        "        test_rmse = evaluate_model(cur_knn_matrix, cur_similarities_matrix, dataset_matrix, cur_test_data, use_similarities_matrix)\n",
        "\n",
        "        train_rmse_values.append(train_rmse)\n",
        "        test_rmse_values.append(test_rmse)\n",
        "        end_time = time.time()\n",
        "        print(f\"k = {k}, train_rmse = {train_rmse}, test_rmse = {test_rmse}, time taken = {end_time - start_time:.2f} seconds\")\n",
        "\n",
        "    return full_knn_matrix, full_similarities_matrix, train_rmse_values, test_rmse_values\n"
      ],
      "metadata": {
        "id": "HzKIX0TEXC9j"
      },
      "execution_count": 55,
      "outputs": []
    },
    {
      "cell_type": "markdown",
      "source": [
        "the parallel version of the above code that just calls the parallel evaluate function"
      ],
      "metadata": {
        "id": "VW_EdriDXSf1"
      }
    },
    {
      "cell_type": "code",
      "source": [
        "def test_different_ks_parallel(start_k, end_k, step, dataset_matrix, similarity_type='euclidean', use_similarities_matrix=True, train_data_portion=0.5, test_data_portion =1, full_knn_matrix = None, full_similarities_matrix = None):\n",
        "    cur_train_data = train_data[:int(len(train_data)*train_data_portion)]\n",
        "    cur_test_data = train_data[:int(len(test_data)*test_data_portion)]\n",
        "    train_rmse_values = []\n",
        "    test_rmse_values = []\n",
        "\n",
        "    #if(full_knn_matrix == None or full_similarities_matrix == None):\n",
        "       # print(f\"Calculating KNN and similarities matrices for k={end_k}\")\n",
        "        #full_knn_matrix, full_similarities_matrix = k_nearest_neighbors(dataset_matrix, end_k, similarity_type)\n",
        "\n",
        "    for k in range(start_k, end_k + 1, step):\n",
        "        print(f\"Testing with k={k}\")\n",
        "        start_time = time.time()\n",
        "        # Use only the first k columns of the precomputed matrices\n",
        "        cur_knn_matrix = full_knn_matrix[:, :k]\n",
        "        cur_similarities_matrix = full_similarities_matrix[:, :k]\n",
        "\n",
        "        train_rmse = evaluate_model_concurrent(cur_knn_matrix, cur_similarities_matrix, dataset_matrix, cur_train_data, use_similarities_matrix,workers=16)\n",
        "        test_rmse = evaluate_model_concurrent(cur_knn_matrix, cur_similarities_matrix, dataset_matrix, cur_test_data, use_similarities_matrix,workers=16)\n",
        "\n",
        "        train_rmse_values.append(train_rmse)\n",
        "        test_rmse_values.append(test_rmse)\n",
        "        end_time = time.time()\n",
        "        print(f\"k = {k}, train_rmse = {train_rmse}, test_rmse = {test_rmse}\")\n",
        "        print(f\"time taken to test k={k} - {end_time - start_time:.2f} seconds\")\n",
        "\n",
        "    return full_knn_matrix, full_similarities_matrix, train_rmse_values, test_rmse_values"
      ],
      "metadata": {
        "id": "KEj2mDeaXQRw"
      },
      "execution_count": 56,
      "outputs": []
    },
    {
      "cell_type": "code",
      "source": [
        "knn_matrix, similarities_matrix, train_rmse_values, test_rmse_values = test_different_ks(\n",
        "    start_k=0,\n",
        "    end_k=21,\n",
        "    step=1,\n",
        "    dataset_matrix=train_data_matrix_0_fill,\n",
        "    similarity_type='euclidean',\n",
        "    use_similarities_matrix=True\n",
        ")"
      ],
      "metadata": {
        "id": "bozFqFdxX4qo"
      },
      "execution_count": 57,
      "outputs": []
    },
    {
      "cell_type": "code",
      "source": [
        "                                                                                                                                                                                                                                                                                                                                                                                                                                                                                                                                                                                                                                                                                                                                                                                                                                                                                                                                                                                                                                                                                                                                                                                                                                                                              int(4 * Ksqrt)"
      ],
      "metadata": {
        "colab": {
          "base_uri": "https://localhost:8080/"
        },
        "id": "nV9UzI-TX077",
        "outputId": "d7b442d3-8f76-469e-ba8d-394b905b458c"
      },
      "execution_count": 58,
      "outputs": [
        {
          "output_type": "execute_result",
          "data": {
            "text/plain": [
              "103"
            ]
          },
          "metadata": {},
          "execution_count": 58
        }
      ]
    },
    {
      "cell_type": "code",
      "source": [
        "# import matplotlib.pyplot as plt\n",
        "\n",
        "# # Assuming you have train_rmse_values and test_rmse_values lists\n",
        "# ks = range(0, 21, 1)\n",
        "\n",
        "# plt.plot(ks, train_rmse_values[0], label='Train RMSE', marker='o')\n",
        "# plt.plot(ks, test_rmse_values[0], label='Test RMSE', marker='s')\n",
        "# plt.xlabel('k')\n",
        "# plt.ylabel('RMSE')\n",
        "# plt.title('RMSE for Different Values of k')\n",
        "# plt.legend()\n",
        "# plt.grid(True)\n",
        "# plt.show()"
      ],
      "metadata": {
        "id": "S1lEvvpIX8sk"
      },
      "execution_count": 60,
      "outputs": []
    },
    {
      "cell_type": "markdown",
      "source": [
        "## Adding new Users or Items or rating and adressing the cold start problem"
      ],
      "metadata": {
        "id": "vACfwKAAF3rN"
      }
    },
    {
      "cell_type": "markdown",
      "source": [
        "The cold start problem is a problem when adding a new user we don't know how to intiilize his user matrix.\n",
        "\n",
        "Let's say we don't have the last user in our user matrix train_data_matrix_0_fill but we have his ratings. This simulates the scenario where we have a new user and we asked him to rate some movies to get a profile on him."
      ],
      "metadata": {
        "id": "-UTpa2pJF7Bx"
      }
    },
    {
      "cell_type": "code",
      "source": [
        "train_data_matrix_0_fill[-1]"
      ],
      "metadata": {
        "colab": {
          "base_uri": "https://localhost:8080/"
        },
        "id": "rfNzc26K13qt",
        "outputId": "cd211c13-065d-46f5-ac69-39b70a5291e4"
      },
      "execution_count": 63,
      "outputs": [
        {
          "output_type": "execute_result",
          "data": {
            "text/plain": [
              "array([5., 0., 0., ..., 0., 0., 0.])"
            ]
          },
          "metadata": {},
          "execution_count": 63
        }
      ]
    },
    {
      "cell_type": "code",
      "source": [
        "new_user = train_data_matrix_0_fill[-1]\n",
        "train_data_matrix_0_fill_1_missing = train_data_matrix_0_fill[:-1]\n",
        "new_id = len(train_data_matrix_0_fill) - 1"
      ],
      "metadata": {
        "id": "8Pjsk3D9aHGm"
      },
      "execution_count": 64,
      "outputs": []
    },
    {
      "cell_type": "code",
      "source": [
        "knn_matrix_missing, similarities_matrix_missing = k_nearest_neighbors(train_data_matrix_0_fill_1_missing, 100)\n",
        "knn_matrix_original, similarities_matrix_original = k_nearest_neighbors(train_data_matrix_0_fill, 100)"
      ],
      "metadata": {
        "colab": {
          "base_uri": "https://localhost:8080/"
        },
        "id": "h3KPzHn0aWnh",
        "outputId": "f576a575-af41-4062-9527-9bc167a04cfb"
      },
      "execution_count": 65,
      "outputs": [
        {
          "output_type": "stream",
          "name": "stdout",
          "text": [
            "Processed user 1/670 in 0.35 seconds.\n",
            "Processed user 101/670 in 0.09 seconds.\n",
            "Processed user 201/670 in 0.09 seconds.\n",
            "Processed user 301/670 in 0.31 seconds.\n",
            "Processed user 401/670 in 0.16 seconds.\n",
            "Processed user 501/670 in 0.09 seconds.\n",
            "Processed user 601/670 in 0.09 seconds.\n",
            "Total time taken: 71.94 seconds.\n",
            "Processed user 1/671 in 0.15 seconds.\n",
            "Processed user 101/671 in 0.09 seconds.\n",
            "Processed user 201/671 in 0.09 seconds.\n",
            "Processed user 301/671 in 0.10 seconds.\n",
            "Processed user 401/671 in 0.15 seconds.\n",
            "Processed user 501/671 in 0.09 seconds.\n",
            "Processed user 601/671 in 0.09 seconds.\n",
            "Total time taken: 69.82 seconds.\n"
          ]
        }
      ]
    },
    {
      "cell_type": "code",
      "source": [
        "predict_rating(new_id, 0, knn_matrix_original, similarities_matrix_original, train_data_matrix_0_fill)"
      ],
      "metadata": {
        "colab": {
          "base_uri": "https://localhost:8080/"
        },
        "id": "l25g_QsUalaO",
        "outputId": "f3170694-0a09-4a5a-9ad6-6b9c40202d06"
      },
      "execution_count": 66,
      "outputs": [
        {
          "output_type": "execute_result",
          "data": {
            "text/plain": [
              "3.8313317530109186"
            ]
          },
          "metadata": {},
          "execution_count": 66
        }
      ]
    },
    {
      "cell_type": "code",
      "source": [
        "predict_rating(new_id, 0, knn_matrix_missing, similarities_matrix_missing, train_data_matrix_0_fill_1_missing)"
      ],
      "metadata": {
        "colab": {
          "base_uri": "https://localhost:8080/",
          "height": 263
        },
        "id": "2mU-XT9nb1uo",
        "outputId": "e549b5aa-306c-410e-f47d-8803e631f426"
      },
      "execution_count": 67,
      "outputs": [
        {
          "output_type": "error",
          "ename": "IndexError",
          "evalue": "index 670 is out of bounds for axis 0 with size 670",
          "traceback": [
            "\u001b[0;31m---------------------------------------------------------------------------\u001b[0m",
            "\u001b[0;31mIndexError\u001b[0m                                Traceback (most recent call last)",
            "\u001b[0;32m<ipython-input-67-6c566a37d909>\u001b[0m in \u001b[0;36m<cell line: 1>\u001b[0;34m()\u001b[0m\n\u001b[0;32m----> 1\u001b[0;31m \u001b[0mpredict_rating\u001b[0m\u001b[0;34m(\u001b[0m\u001b[0mnew_id\u001b[0m\u001b[0;34m,\u001b[0m \u001b[0;36m0\u001b[0m\u001b[0;34m,\u001b[0m \u001b[0mknn_matrix_missing\u001b[0m\u001b[0;34m,\u001b[0m \u001b[0msimilarities_matrix_missing\u001b[0m\u001b[0;34m,\u001b[0m \u001b[0mtrain_data_matrix_0_fill_1_missing\u001b[0m\u001b[0;34m)\u001b[0m\u001b[0;34m\u001b[0m\u001b[0;34m\u001b[0m\u001b[0m\n\u001b[0m",
            "\u001b[0;32m<ipython-input-34-2ee5da13345c>\u001b[0m in \u001b[0;36mpredict_rating\u001b[0;34m(user_index, movie_index, knn_matrix, similarities_matrix, ratings_matrix, use_similarities_matrix)\u001b[0m\n\u001b[1;32m      4\u001b[0m     \u001b[0mprev_index\u001b[0m \u001b[0;34m=\u001b[0m \u001b[0;36m0\u001b[0m\u001b[0;34m\u001b[0m\u001b[0;34m\u001b[0m\u001b[0m\n\u001b[1;32m      5\u001b[0m     \u001b[0mmovie_index\u001b[0m \u001b[0;34m=\u001b[0m \u001b[0mint\u001b[0m\u001b[0;34m(\u001b[0m\u001b[0mmovie_index\u001b[0m\u001b[0;34m)\u001b[0m\u001b[0;34m\u001b[0m\u001b[0;34m\u001b[0m\u001b[0m\n\u001b[0;32m----> 6\u001b[0;31m     \u001b[0mneighbors_indices\u001b[0m \u001b[0;34m=\u001b[0m \u001b[0mknn_matrix\u001b[0m\u001b[0;34m[\u001b[0m\u001b[0muser_index\u001b[0m\u001b[0;34m]\u001b[0m\u001b[0;34m\u001b[0m\u001b[0;34m\u001b[0m\u001b[0m\n\u001b[0m\u001b[1;32m      7\u001b[0m \u001b[0;34m\u001b[0m\u001b[0m\n\u001b[1;32m      8\u001b[0m     \u001b[0;31m# Collect ratings for the target movie given by the neighbors\u001b[0m\u001b[0;34m\u001b[0m\u001b[0;34m\u001b[0m\u001b[0m\n",
            "\u001b[0;31mIndexError\u001b[0m: index 670 is out of bounds for axis 0 with size 670"
          ]
        }
      ]
    },
    {
      "cell_type": "markdown",
      "source": [
        "Above we have trained oour KNN matrix without the last user. Now let's try to add the last user to our systme so we need a function that adds a new user"
      ],
      "metadata": {
        "id": "IynjzW0xcKFt"
      }
    },
    {
      "cell_type": "markdown",
      "source": [
        "As you can see with knn we can't really predict values for users that aren't in our system that is a downside of knn"
      ],
      "metadata": {
        "id": "T1bp-VCAcIIm"
      }
    },
    {
      "cell_type": "markdown",
      "source": [
        "Here is an optimized matrix I made that adds a new user to the end of our knn matrix in O(n) time and not O(n^2) so we can use this function on our dataset each time we get and add a new user in a theoretical example in practice"
      ],
      "metadata": {
        "id": "inzJhgHVcLs3"
      }
    },
    {
      "cell_type": "code",
      "source": [
        "def add_new_user(dataset_matrix, knn_matrix, similarities_matrix, new_user, similarity_type='euclidean'):\n",
        "    k = knn_matrix.shape[1]\n",
        "\n",
        "    num_users = dataset_matrix.shape[0]\n",
        "    new_best_similarities = np.full((k, 2), np.inf)\n",
        "    for i in range(num_users):\n",
        "        similarity = calculate_similarity_between_users(dataset_matrix[i], new_user, similarity_type)\n",
        "        best_similarities = similarities_matrix[i]\n",
        "        # Check if this similarity is better than the current stored similarities\n",
        "        for l in range(k-1, -1, -1):\n",
        "            if similarity < best_similarities[l]:\n",
        "                if l < k - 1:\n",
        "                    # Shift the later values down one position\n",
        "                    best_similarities[l+1] = best_similarities[l]\n",
        "                best_similarities[l] = similarity\n",
        "            else:\n",
        "                break\n",
        "        for l in range(k-1, -1, -1):\n",
        "            if similarity < new_best_similarities[l, 0]:\n",
        "                if l < k - 1:\n",
        "                    # Shift the later values down one position\n",
        "                    new_best_similarities[l+1] = new_best_similarities[l]\n",
        "                new_best_similarities[l] = [similarity, i]\n",
        "            else:\n",
        "                break\n",
        "        similarities_matrix[i] = best_similarities\n",
        "\n",
        "    # Append the new user to dataset_matrix\n",
        "\n",
        "\n",
        "    # Prepare the arrays for the new user's nearest neighbors and their similarities\n",
        "    new_user_neighbors_indices = new_best_similarities[:, 1].astype(int)\n",
        "    new_user_similarities = new_best_similarities[:, 0]\n",
        "    # Append the new user's nearest neighbors, their similarities and new_user to the dataset_matrix\n",
        "    knn_matrix = np.vstack([knn_matrix, new_user_neighbors_indices])\n",
        "    similarities_matrix = np.vstack([similarities_matrix, new_user_similarities])\n",
        "    dataset_matrix = np.vstack([dataset_matrix, new_user])\n",
        "\n",
        "    return knn_matrix, similarities_matrix, dataset_matrix"
      ],
      "metadata": {
        "id": "wJJl2-AQb47-"
      },
      "execution_count": 68,
      "outputs": []
    },
    {
      "cell_type": "code",
      "source": [
        "new_user"
      ],
      "metadata": {
        "colab": {
          "base_uri": "https://localhost:8080/"
        },
        "id": "V0mcrOe9cOGS",
        "outputId": "bf15a084-ebbc-4dd4-9b48-fc9129682281"
      },
      "execution_count": 69,
      "outputs": [
        {
          "output_type": "execute_result",
          "data": {
            "text/plain": [
              "array([5., 0., 0., ..., 0., 0., 0.])"
            ]
          },
          "metadata": {},
          "execution_count": 69
        }
      ]
    },
    {
      "cell_type": "code",
      "source": [
        "updated_knn_matrix, updated_similarities_matrix, updated_matrix_0_fill = add_new_user(\n",
        "    train_data_matrix_0_fill_1_missing,\n",
        "    knn_matrix_missing,\n",
        "    similarities_matrix_missing,\n",
        "    new_user\n",
        "    )"
      ],
      "metadata": {
        "id": "10Td5ejPcPuY"
      },
      "execution_count": 70,
      "outputs": []
    },
    {
      "cell_type": "code",
      "source": [
        "predict_rating(new_id, 0, knn_matrix_original, similarities_matrix_original, train_data_matrix_0_fill)"
      ],
      "metadata": {
        "colab": {
          "base_uri": "https://localhost:8080/"
        },
        "id": "VKzYXB9_d_eM",
        "outputId": "b9824d89-b0d5-4917-87da-e0f70955055e"
      },
      "execution_count": 71,
      "outputs": [
        {
          "output_type": "execute_result",
          "data": {
            "text/plain": [
              "3.8313317530109186"
            ]
          },
          "metadata": {},
          "execution_count": 71
        }
      ]
    },
    {
      "cell_type": "code",
      "source": [
        "predict_rating(new_id, 0, updated_knn_matrix, updated_similarities_matrix, updated_matrix_0_fill)"
      ],
      "metadata": {
        "colab": {
          "base_uri": "https://localhost:8080/"
        },
        "id": "vWYRhqGJeGiC",
        "outputId": "586c77a2-48bb-442a-850b-375aa582a8cc"
      },
      "execution_count": 72,
      "outputs": [
        {
          "output_type": "execute_result",
          "data": {
            "text/plain": [
              "3.8313317530109186"
            ]
          },
          "metadata": {},
          "execution_count": 72
        }
      ]
    },
    {
      "cell_type": "markdown",
      "source": [
        "As you can see above now that we added the user into our \"system\" we can predict with the new user"
      ],
      "metadata": {
        "id": "pH-IojmMeRuO"
      }
    },
    {
      "cell_type": "markdown",
      "source": [
        "Let's test if our system that adds a new user has the same accuracy as the original if my implamentation is correct they should be the same"
      ],
      "metadata": {
        "id": "sJ9N7crQeTSW"
      }
    },
    {
      "cell_type": "code",
      "source": [
        "train_rmse, train_mae = evaluate_model(knn_matrix_original, similarities_matrix_original, train_data_matrix_0_fill, train_data, print_=False)\n",
        "test_rmse, test_mae = evaluate_model(knn_matrix_original, similarities_matrix_original, train_data_matrix_0_fill, test_data, print_=False)\n",
        "print(f\"Training RMSE: {train_rmse}\")\n",
        "print(f\"Training MAE: {train_mae}\")\n",
        "print(\"=\" * 40)\n",
        "print(f\"Test RMSE: {test_rmse}\")\n",
        "print(f\"Test MAE: {test_mae}\")"
      ],
      "metadata": {
        "colab": {
          "base_uri": "https://localhost:8080/"
        },
        "id": "0fO0NKVwePjc",
        "outputId": "4a764f54-fdba-42a1-c2bc-4427301dc044"
      },
      "execution_count": 73,
      "outputs": [
        {
          "output_type": "stream",
          "name": "stdout",
          "text": [
            "Training RMSE: 1.323584415100453\n",
            "Training MAE: 1.0450259504588382\n",
            "========================================\n",
            "Test RMSE: 1.317197583268473\n",
            "Test MAE: 1.039886370711994\n"
          ]
        }
      ]
    },
    {
      "cell_type": "code",
      "source": [
        "train_rmse, train_mae = evaluate_model(updated_knn_matrix, updated_similarities_matrix, updated_matrix_0_fill, train_data, print_=False)\n",
        "test_rmse, test_mae = evaluate_model(updated_knn_matrix, updated_similarities_matrix, updated_matrix_0_fill, test_data, print_=False)\n",
        "print(f\"Training RMSE: {train_rmse}\")\n",
        "print(f\"Training MAE: {train_mae}\")\n",
        "print(\"=\" * 40)\n",
        "print(f\"Test RMSE: {test_rmse}\")\n",
        "print(f\"Test MAE: {test_mae}\")"
      ],
      "metadata": {
        "colab": {
          "base_uri": "https://localhost:8080/"
        },
        "id": "61k3y-1cekxq",
        "outputId": "9f765ba6-c9f1-4c65-b4ca-9c66029c82d4"
      },
      "execution_count": 75,
      "outputs": [
        {
          "output_type": "stream",
          "name": "stdout",
          "text": [
            "Training RMSE: 1.323584415100453\n",
            "Training MAE: 1.0450259504588382\n",
            "========================================\n",
            "Test RMSE: 1.317197583268473\n",
            "Test MAE: 1.039886370711994\n"
          ]
        }
      ]
    },
    {
      "cell_type": "markdown",
      "source": [
        "Now we are going to simulate the scenario where we get a new item so add a new movie. TO do this we first need to add an empty movie with 0 ratings. And then we add individual ratings as entries. This is bnecause in a real scenario when we add a new movie we have 0 ratings for it because no one has rated it yet. Then we can ask users some  what they think of it and add those ratings individualy  "
      ],
      "metadata": {
        "id": "EugFEBQgfg8t"
      }
    },
    {
      "cell_type": "code",
      "source": [
        "# Simulate removing a movie column\n",
        "new_movie_index = len(train_data_matrix_0_fill[0])-1\n",
        "new_movie = train_data_matrix_0_fill[:, -1]  # Save the last column to a variable\n",
        "train_data_matrix_0_fill_less_one_movie = np.delete(train_data_matrix_0_fill, -1, axis=1)  # Remove the last column\n",
        "\n",
        "# Simulate adding a new movie item by adding a column of zeros to the end of the original array\n",
        "# Note: You'll want to ensure the number of rows matches for the zeros column you're adding\n",
        "num_users = train_data_matrix_0_fill_less_one_movie.shape[0]\n"
      ],
      "metadata": {
        "id": "5ur82pf6fU3O"
      },
      "execution_count": 76,
      "outputs": []
    },
    {
      "cell_type": "code",
      "source": [
        "knn_matrix_missing_movie, similarities_matrix_missing_movie = k_nearest_neighbors(train_data_matrix_0_fill_less_one_movie, 100)\n",
        "knn_matrix_original, similarities_matrix_original = k_nearest_neighbors(train_data_matrix_0_fill, 100)"
      ],
      "metadata": {
        "colab": {
          "base_uri": "https://localhost:8080/"
        },
        "id": "T8te2GUphGWZ",
        "outputId": "61cad581-4c50-4913-d64a-390161952765"
      },
      "execution_count": 77,
      "outputs": [
        {
          "output_type": "stream",
          "name": "stdout",
          "text": [
            "Processed user 1/671 in 0.15 seconds.\n",
            "Processed user 101/671 in 0.19 seconds.\n",
            "Processed user 201/671 in 0.21 seconds.\n",
            "Processed user 301/671 in 0.14 seconds.\n",
            "Processed user 401/671 in 0.14 seconds.\n",
            "Processed user 501/671 in 0.14 seconds.\n",
            "Processed user 601/671 in 0.15 seconds.\n",
            "Total time taken: 106.60 seconds.\n",
            "Processed user 1/671 in 0.09 seconds.\n",
            "Processed user 101/671 in 0.10 seconds.\n",
            "Processed user 201/671 in 0.14 seconds.\n",
            "Processed user 301/671 in 0.09 seconds.\n",
            "Processed user 401/671 in 0.09 seconds.\n",
            "Processed user 501/671 in 0.09 seconds.\n",
            "Processed user 601/671 in 0.09 seconds.\n",
            "Total time taken: 67.53 seconds.\n"
          ]
        }
      ]
    },
    {
      "cell_type": "markdown",
      "source": [
        "Now we want to split up the new_movie column into individual ratings to simulate each user rating the new movce when asked what they think about it. (This can also be thought as simulating new user ratings for any movie not necasaraly the new one added)"
      ],
      "metadata": {
        "id": "bFD4SSvTh11r"
      }
    },
    {
      "cell_type": "code",
      "source": [
        "individual_ratings = []\n",
        "\n",
        "# Iterate through the new_movie column to find non-zero ratings\n",
        "for user_index, rating in enumerate(new_movie):\n",
        "    if rating != 0:\n",
        "        # Append the user index and rating as a sublist\n",
        "        individual_ratings.append([user_index, new_movie_index, rating])\n",
        "\n",
        "print(individual_ratings)\n",
        "new_rating = individual_ratings[0]\n",
        "print(new_rating)"
      ],
      "metadata": {
        "colab": {
          "base_uri": "https://localhost:8080/"
        },
        "id": "A0eWqpkPhItP",
        "outputId": "770442ba-9f03-4057-fdac-3ad2e98336f2"
      },
      "execution_count": 78,
      "outputs": [
        {
          "output_type": "stream",
          "name": "stdout",
          "text": [
            "[[546, 9065, 5.0]]\n",
            "[546, 9065, 5.0]\n"
          ]
        }
      ]
    },
    {
      "cell_type": "markdown",
      "source": [
        "First let's see what happens when we try to predict."
      ],
      "metadata": {
        "id": "1il2cOGxh-p9"
      }
    },
    {
      "cell_type": "code",
      "source": [
        "predict_rating(new_rating[0], new_rating[1], knn_matrix_original, similarities_matrix_original, train_data_matrix_0_fill)"
      ],
      "metadata": {
        "colab": {
          "base_uri": "https://localhost:8080/"
        },
        "id": "ikrNMU2Mh3eG",
        "outputId": "75182fa5-6aab-439a-b5e4-21202a41371e"
      },
      "execution_count": 79,
      "outputs": [
        {
          "output_type": "execute_result",
          "data": {
            "text/plain": [
              "3.5327343659169888"
            ]
          },
          "metadata": {},
          "execution_count": 79
        }
      ]
    },
    {
      "cell_type": "code",
      "source": [
        "predict_rating(new_rating[0], new_rating[1], knn_matrix_missing_movie, similarities_matrix_missing_movie, train_data_matrix_0_fill_less_one_movie)"
      ],
      "metadata": {
        "colab": {
          "base_uri": "https://localhost:8080/",
          "height": 263
        },
        "id": "wK5V3_pkiAH1",
        "outputId": "ce96ac54-ae2c-485a-8141-952bdd972828"
      },
      "execution_count": 80,
      "outputs": [
        {
          "output_type": "error",
          "ename": "IndexError",
          "evalue": "index 9065 is out of bounds for axis 1 with size 9065",
          "traceback": [
            "\u001b[0;31m---------------------------------------------------------------------------\u001b[0m",
            "\u001b[0;31mIndexError\u001b[0m                                Traceback (most recent call last)",
            "\u001b[0;32m<ipython-input-80-49e5fce19748>\u001b[0m in \u001b[0;36m<cell line: 1>\u001b[0;34m()\u001b[0m\n\u001b[0;32m----> 1\u001b[0;31m \u001b[0mpredict_rating\u001b[0m\u001b[0;34m(\u001b[0m\u001b[0mnew_rating\u001b[0m\u001b[0;34m[\u001b[0m\u001b[0;36m0\u001b[0m\u001b[0;34m]\u001b[0m\u001b[0;34m,\u001b[0m \u001b[0mnew_rating\u001b[0m\u001b[0;34m[\u001b[0m\u001b[0;36m1\u001b[0m\u001b[0;34m]\u001b[0m\u001b[0;34m,\u001b[0m \u001b[0mknn_matrix_missing_movie\u001b[0m\u001b[0;34m,\u001b[0m \u001b[0msimilarities_matrix_missing_movie\u001b[0m\u001b[0;34m,\u001b[0m \u001b[0mtrain_data_matrix_0_fill_less_one_movie\u001b[0m\u001b[0;34m)\u001b[0m\u001b[0;34m\u001b[0m\u001b[0;34m\u001b[0m\u001b[0m\n\u001b[0m",
            "\u001b[0;32m<ipython-input-34-2ee5da13345c>\u001b[0m in \u001b[0;36mpredict_rating\u001b[0;34m(user_index, movie_index, knn_matrix, similarities_matrix, ratings_matrix, use_similarities_matrix)\u001b[0m\n\u001b[1;32m     10\u001b[0m        \u001b[0mmovie_index\u001b[0m \u001b[0;34m=\u001b[0m \u001b[0mprev_index\u001b[0m \u001b[0;34m+\u001b[0m \u001b[0;36m1\u001b[0m\u001b[0;34m\u001b[0m\u001b[0;34m\u001b[0m\u001b[0m\n\u001b[1;32m     11\u001b[0m \u001b[0;34m\u001b[0m\u001b[0m\n\u001b[0;32m---> 12\u001b[0;31m     \u001b[0mneighbor_ratings\u001b[0m \u001b[0;34m=\u001b[0m \u001b[0mratings_matrix\u001b[0m\u001b[0;34m[\u001b[0m\u001b[0mneighbors_indices\u001b[0m\u001b[0;34m,\u001b[0m \u001b[0mmovie_index\u001b[0m\u001b[0;34m]\u001b[0m\u001b[0;34m\u001b[0m\u001b[0;34m\u001b[0m\u001b[0m\n\u001b[0m\u001b[1;32m     13\u001b[0m \u001b[0;34m\u001b[0m\u001b[0m\n\u001b[1;32m     14\u001b[0m     \u001b[0;31m# Also, collect the similarities for weighting, if applicable\u001b[0m\u001b[0;34m\u001b[0m\u001b[0;34m\u001b[0m\u001b[0m\n",
            "\u001b[0;31mIndexError\u001b[0m: index 9065 is out of bounds for axis 1 with size 9065"
          ]
        }
      ]
    },
    {
      "cell_type": "markdown",
      "source": [
        "Now we need to add this rating to our Knn system similaraly to how we added a new user but just for a single rating this should also take O(n) time"
      ],
      "metadata": {
        "id": "WH4oVi5niGQD"
      }
    },
    {
      "cell_type": "code",
      "source": [
        "def alter_new_rating(dataset_matrix, knn_matrix, similarities_matrix, new_movie_ratring, similarity_type='euclidean'):\n",
        "    rating_user_index = new_movie_ratring[0]\n",
        "    rating_movie_index = new_movie_ratring[1]\n",
        "    rating = new_movie_ratring[2]\n",
        "    k = knn_matrix.shape[1]\n",
        "    altering_user = dataset_matrix[rating_user_index]\n",
        "    altering_user[rating_movie_index] = rating\n",
        "    num_users = dataset_matrix.shape[0]\n",
        "\n",
        "    new_best_similarities = np.full((k, 2), np.inf)\n",
        "    for i in range(num_users):\n",
        "\n",
        "        if i == rating_user_index: continue\n",
        "\n",
        "        similarity = calculate_similarity_between_users(dataset_matrix[i], altering_user, similarity_type)\n",
        "        best_similarities = similarities_matrix[i]\n",
        "        # Check if this similarity is better than the current stored similarities\n",
        "        for l in range(k-1, -1, -1):\n",
        "            if similarity < best_similarities[l]:\n",
        "                if l < k - 1:\n",
        "                    # Shift the later values down one position\n",
        "                    best_similarities[l+1] = best_similarities[l]\n",
        "                best_similarities[l] = similarity\n",
        "            else:\n",
        "                break\n",
        "        for l in range(k-1, -1, -1):\n",
        "            if similarity < new_best_similarities[l, 0]:\n",
        "                if l < k - 1:\n",
        "                    # Shift the later values down one position\n",
        "                    new_best_similarities[l+1] = new_best_similarities[l]\n",
        "                new_best_similarities[l] = [similarity, i]\n",
        "            else:\n",
        "                break\n",
        "        similarities_matrix[i] = best_similarities\n",
        "\n",
        "\n",
        "    # Prepare the arrays for the new user's nearest neighbors and their similarities\n",
        "    new_user_neighbors_indices = new_best_similarities[:, 1].astype(int)\n",
        "    new_user_similarities = new_best_similarities[:, 0]\n",
        "    # change the new user's nearest neighbors, their similarities and new_user to the dataset_matrix\n",
        "    knn_matrix[rating_user_index] = new_user_neighbors_indices\n",
        "    similarities_matrix[rating_user_index] = new_user_similarities\n",
        "\n",
        "    dataset_matrix[rating_user_index] = altering_user\n",
        "\n",
        "    return knn_matrix, similarities_matrix, dataset_matrix\n",
        "\n",
        ""
      ],
      "metadata": {
        "id": "Wpwrb7zqiCyF"
      },
      "execution_count": 81,
      "outputs": []
    },
    {
      "cell_type": "code",
      "source": [
        "new_rating"
      ],
      "metadata": {
        "colab": {
          "base_uri": "https://localhost:8080/"
        },
        "id": "TfHOC6GUiIrc",
        "outputId": "7ea20f3c-0919-47a4-a13a-953d25551325"
      },
      "execution_count": 82,
      "outputs": [
        {
          "output_type": "execute_result",
          "data": {
            "text/plain": [
              "[546, 9065, 5.0]"
            ]
          },
          "metadata": {},
          "execution_count": 82
        }
      ]
    },
    {
      "cell_type": "markdown",
      "source": [
        "First we add an empty column to simulate a new movie being addedwithout any ratings:"
      ],
      "metadata": {
        "id": "mqvarga_ivBt"
      }
    },
    {
      "cell_type": "code",
      "source": [
        "zeros_column = np.zeros((num_users, 1))\n",
        "train_data_matrix_0_fill_with_new_movie = np.hstack([train_data_matrix_0_fill_less_one_movie, zeros_column])"
      ],
      "metadata": {
        "id": "ffrjA9GEisxE"
      },
      "execution_count": 83,
      "outputs": []
    },
    {
      "cell_type": "code",
      "source": [
        "len(train_data_matrix_0_fill_less_one_movie[0])"
      ],
      "metadata": {
        "colab": {
          "base_uri": "https://localhost:8080/"
        },
        "id": "HKTkq9lSiwza",
        "outputId": "e894a922-7eca-44be-f1e2-34f809521355"
      },
      "execution_count": 84,
      "outputs": [
        {
          "output_type": "execute_result",
          "data": {
            "text/plain": [
              "9065"
            ]
          },
          "metadata": {},
          "execution_count": 84
        }
      ]
    },
    {
      "cell_type": "code",
      "source": [
        "len(train_data_matrix_0_fill_with_new_movie[0])"
      ],
      "metadata": {
        "colab": {
          "base_uri": "https://localhost:8080/"
        },
        "id": "VzMGQ21ri0IR",
        "outputId": "0a443d1a-a133-4552-f0f7-0e93a8632378"
      },
      "execution_count": 85,
      "outputs": [
        {
          "output_type": "execute_result",
          "data": {
            "text/plain": [
              "9066"
            ]
          },
          "metadata": {},
          "execution_count": 85
        }
      ]
    },
    {
      "cell_type": "markdown",
      "source": [
        "Now we add a rating a user made for the new movie"
      ],
      "metadata": {
        "id": "pPcvla_ajAO8"
      }
    },
    {
      "cell_type": "code",
      "source": [
        "updated_knn_matrix_movie, updated_similarities_matrix_movie, updated_matrix_0_fill_movie = alter_new_rating(\n",
        "    train_data_matrix_0_fill_with_new_movie,\n",
        "    knn_matrix_missing_movie,\n",
        "    similarities_matrix_missing_movie,\n",
        "    new_rating\n",
        "    )"
      ],
      "metadata": {
        "id": "nG8ngSfXi-fi"
      },
      "execution_count": 86,
      "outputs": []
    },
    {
      "cell_type": "code",
      "source": [
        "predict_rating(new_rating[0], new_rating[1], knn_matrix_original, similarities_matrix_original, train_data_matrix_0_fill)"
      ],
      "metadata": {
        "colab": {
          "base_uri": "https://localhost:8080/"
        },
        "id": "UHNaLAHTjBnM",
        "outputId": "c3df71f5-f9c0-4d18-b36b-062ecc1b71cf"
      },
      "execution_count": 87,
      "outputs": [
        {
          "output_type": "execute_result",
          "data": {
            "text/plain": [
              "3.5327343659169888"
            ]
          },
          "metadata": {},
          "execution_count": 87
        }
      ]
    },
    {
      "cell_type": "code",
      "source": [
        "predict_rating(new_rating[0], new_rating[1], updated_knn_matrix_movie, updated_similarities_matrix_movie, updated_matrix_0_fill_movie)"
      ],
      "metadata": {
        "colab": {
          "base_uri": "https://localhost:8080/"
        },
        "id": "jp5LAuCRjC7o",
        "outputId": "bde61c35-d2c5-4758-c972-7fc2b90cfad4"
      },
      "execution_count": 88,
      "outputs": [
        {
          "output_type": "execute_result",
          "data": {
            "text/plain": [
              "3.5327343659169888"
            ]
          },
          "metadata": {},
          "execution_count": 88
        }
      ]
    },
    {
      "cell_type": "markdown",
      "source": [
        "As we can see we we're able to implament adding a user and movie in O(n) time\n",
        "Also by using the alter_new_rating function we can simualte any user making a new rating and updating the system in O(n) time.\n",
        "But what if we could update a new rating in O(1)\n",
        "\n",
        "We can use a partial update and update just the knn values of the user who made the new rating so his predictions are on point but others aren't so we treat the others like the new user never made a new rating. Then we can update the whole system in O(n^2) time.\n",
        "\n",
        "This aproach is usefull when we have many new ratings by many users which is the case in real life examples so we update each user in O(1) time and then when we decide durring a low trafic time for our system we update the whole system in O(n^2)  time . (During the night  for example)"
      ],
      "metadata": {
        "id": "Edx-f3qRjGJa"
      }
    },
    {
      "cell_type": "code",
      "source": [
        "import numpy as np\n",
        "import random\n",
        "\n",
        "# Assuming train_data_matrix_0_fill_less_one_movie is your numpy matrix\n",
        "matrix = train_data_matrix_0_fill\n",
        "\n",
        "# Number of random non-zero ratings to select\n",
        "n = 10  # for example\n",
        "\n",
        "# Find all non-zero ratings along with their indices\n",
        "non_zero_indices = np.argwhere(matrix != 0)\n",
        "\n",
        "# Randomly select n entries from non_zero_indices\n",
        "random_selections = random.sample(list(non_zero_indices), n)\n",
        "\n",
        "# Create the list of [user_index, movie_index, rating] for the random selections\n",
        "random_ratings = [[user_index, movie_index, matrix[user_index, movie_index]] for user_index, movie_index in random_selections]\n",
        "\n",
        "print(random_ratings)"
      ],
      "metadata": {
        "colab": {
          "base_uri": "https://localhost:8080/"
        },
        "id": "26aXhDryjEl5",
        "outputId": "c6e3705a-284d-48fd-b14f-8d5d31da1e6e"
      },
      "execution_count": 89,
      "outputs": [
        {
          "output_type": "stream",
          "name": "stdout",
          "text": [
            "[[240, 196, 3.0], [211, 6278, 4.0], [606, 675, 4.0], [12, 2894, 3.0], [563, 1647, 4.0], [8, 1698, 4.0], [462, 48, 5.0], [620, 3668, 4.0], [511, 3845, 4.5], [194, 3047, 2.0]]\n"
          ]
        }
      ]
    },
    {
      "cell_type": "code",
      "source": [
        "missing_values_matrix_0_fill = train_data_matrix_0_fill.copy()\n",
        "\n",
        "for rating in random_ratings:\n",
        "    missing_values_matrix_0_fill[rating[0], rating[1]] = 0"
      ],
      "metadata": {
        "id": "RY_X6Dq5jl9h"
      },
      "execution_count": 90,
      "outputs": []
    },
    {
      "cell_type": "code",
      "source": [
        "knn_matrix_missing_values, similarities_matrix_missing_values = k_nearest_neighbors(missing_values_matrix_0_fill, 100)\n",
        "knn_matrix_original, similarities_matrix_original = k_nearest_neighbors(train_data_matrix_0_fill, 100)"
      ],
      "metadata": {
        "colab": {
          "base_uri": "https://localhost:8080/"
        },
        "id": "0-epWpVVj1M8",
        "outputId": "6b7f0733-7a31-4a4a-c22b-ca065689ed76"
      },
      "execution_count": 91,
      "outputs": [
        {
          "output_type": "stream",
          "name": "stdout",
          "text": [
            "Processed user 1/671 in 0.10 seconds.\n",
            "Processed user 101/671 in 0.05 seconds.\n",
            "Processed user 201/671 in 0.05 seconds.\n",
            "Processed user 301/671 in 0.10 seconds.\n",
            "Processed user 401/671 in 0.53 seconds.\n",
            "Processed user 501/671 in 0.05 seconds.\n",
            "Processed user 601/671 in 0.06 seconds.\n",
            "Total time taken: 49.00 seconds.\n",
            "Processed user 1/671 in 0.10 seconds.\n",
            "Processed user 101/671 in 0.16 seconds.\n",
            "Processed user 201/671 in 0.15 seconds.\n",
            "Processed user 301/671 in 0.14 seconds.\n",
            "Processed user 401/671 in 0.09 seconds.\n",
            "Processed user 501/671 in 0.10 seconds.\n",
            "Processed user 601/671 in 0.09 seconds.\n",
            "Total time taken: 84.65 seconds.\n"
          ]
        }
      ]
    },
    {
      "cell_type": "code",
      "source": [
        "for rating in random_ratings:\n",
        "    print(predict_rating(rating[0], rating[1], knn_matrix_original, similarities_matrix_original, train_data_matrix_0_fill))"
      ],
      "metadata": {
        "colab": {
          "base_uri": "https://localhost:8080/"
        },
        "id": "NANTlVDjj2pe",
        "outputId": "026f1f7d-ab77-4fdd-eb16-179aa1c6fff0"
      },
      "execution_count": 92,
      "outputs": [
        {
          "output_type": "stream",
          "name": "stdout",
          "text": [
            "3.9963621189419256\n",
            "4.067963734617265\n",
            "3.42508275240639\n",
            "3.290344472938223\n",
            "3.2792638437412003\n",
            "3.529297294017251\n",
            "4.220275335118865\n",
            "3.6121916403430756\n",
            "3.9827139032008003\n",
            "3.609358190798711\n"
          ]
        }
      ]
    },
    {
      "cell_type": "code",
      "source": [
        "for rating in random_ratings:\n",
        "    print(predict_rating(rating[0], rating[1], knn_matrix_missing_values, similarities_matrix_missing_values, missing_values_matrix_0_fill))"
      ],
      "metadata": {
        "colab": {
          "base_uri": "https://localhost:8080/"
        },
        "id": "KO-Ws9Wlj5a6",
        "outputId": "be9c77f7-5268-4819-cc1c-75dadae1a5ca"
      },
      "execution_count": 93,
      "outputs": [
        {
          "output_type": "stream",
          "name": "stdout",
          "text": [
            "3.995635517146827\n",
            "4.067816431825159\n",
            "3.424782384726903\n",
            "3.231232461313176\n",
            "3.2790903355967993\n",
            "3.5287980605182034\n",
            "4.2373994911731225\n",
            "3.612192958029144\n",
            "3.954884812871316\n",
            "3.609277830085633\n"
          ]
        }
      ]
    },
    {
      "cell_type": "markdown",
      "source": [
        "We now write the function that will only alter the knn and similarety values for the altering user so he has the correct recomendations but other users are the same as if nothing changed"
      ],
      "metadata": {
        "id": "X9K0tJT5j83U"
      }
    },
    {
      "cell_type": "code",
      "source": [
        "def partly_alter_new_rating(dataset_matrix, knn_matrix, similarities_matrix, new_movie_ratring, similarity_type='euclidean'):\n",
        "    rating_user_index = new_movie_ratring[0]\n",
        "    rating_movie_index = new_movie_ratring[1]\n",
        "    rating = new_movie_ratring[2]\n",
        "    k = knn_matrix.shape[1]\n",
        "    altering_user = dataset_matrix[rating_user_index]\n",
        "    altering_user[rating_movie_index] = rating\n",
        "\n",
        "    #new_best_similarities = similarities_matrix[rating_user_index]\n",
        "    num_users = dataset_matrix.shape[0]\n",
        "\n",
        "    new_best_similarities = np.full((k, 2), np.inf)\n",
        "    for i in range(num_users):\n",
        "        if i == rating_user_index: continue\n",
        "\n",
        "        similarity = calculate_similarity_between_users(dataset_matrix[i], altering_user, similarity_type)\n",
        "\n",
        "        for l in range(k-1, -1, -1):\n",
        "            if similarity < new_best_similarities[l, 0]:\n",
        "                if l < k - 1:\n",
        "                    # Shift the later values down one position\n",
        "                    new_best_similarities[l+1] = new_best_similarities[l]\n",
        "                new_best_similarities[l] = [similarity, i]\n",
        "            else:\n",
        "                break\n",
        "\n",
        "\n",
        "    # Prepare the arrays for the new user's nearest neighbors and their similarities\n",
        "    new_user_neighbors_indices = new_best_similarities[:, 1].astype(int)\n",
        "    new_user_similarities = new_best_similarities[:, 0]\n",
        "    # change the new user's nearest neighbors, their similarities and new_user to the dataset_matrix\n",
        "    knn_matrix[rating_user_index] = new_user_neighbors_indices\n",
        "    similarities_matrix[rating_user_index] = new_user_similarities\n",
        "\n",
        "    dataset_matrix[rating_user_index] = altering_user\n",
        "\n",
        "    return knn_matrix, similarities_matrix, dataset_matrix\n",
        "\n",
        ""
      ],
      "metadata": {
        "id": "iVoziKAqj6vH"
      },
      "execution_count": 94,
      "outputs": []
    },
    {
      "cell_type": "markdown",
      "source": [
        "I think we could easily optimize the abvoe function further\n",
        "\n",
        "We will now simulate many users doing this each without knowing about the other"
      ],
      "metadata": {
        "id": "1kmwV34SkD6v"
      }
    },
    {
      "cell_type": "code",
      "source": [
        "combined_partly_updated_knn = knn_matrix_missing_values.copy()\n",
        "combined_partly_updated_similarities = similarities_matrix_missing_values.copy()\n",
        "combined_partly_updated_0_fill = missing_values_matrix_0_fill.copy()\n",
        "\n",
        "all_partly_updated_knn = []\n",
        "all_partly_updated_similarities = []\n",
        "all_partly_updated_0_fill = []\n",
        "\n",
        "for rating in random_ratings:\n",
        "    updated_knn_matrix_movie, updated_similarities_matrix_movie, updated_matrix_0_fill_movie = partly_alter_new_rating(\n",
        "    combined_partly_updated_0_fill,\n",
        "    combined_partly_updated_knn,\n",
        "    combined_partly_updated_similarities,\n",
        "    rating\n",
        "    )\n",
        "\n",
        "    all_partly_updated_knn.append(updated_knn_matrix_movie)\n",
        "    all_partly_updated_similarities.append(updated_similarities_matrix_movie)\n",
        "    all_partly_updated_0_fill.append(updated_matrix_0_fill_movie)\n",
        "\n",
        "    combined_partly_updated_knn = updated_knn_matrix_movie\n",
        "    combined_partly_updated_similarities = updated_similarities_matrix_movie\n",
        "    combined_partly_updated_0_fill = updated_matrix_0_fill_movie"
      ],
      "metadata": {
        "id": "5LqhJYGLkCt8"
      },
      "execution_count": 95,
      "outputs": []
    },
    {
      "cell_type": "code",
      "source": [
        "for rating in random_ratings:\n",
        "    print(predict_rating(rating[0], rating[1], knn_matrix_original, similarities_matrix_original, train_data_matrix_0_fill))"
      ],
      "metadata": {
        "colab": {
          "base_uri": "https://localhost:8080/"
        },
        "id": "CYllSRSkkIBO",
        "outputId": "ff1cb19a-3e49-4a63-88b7-38365a1c33bc"
      },
      "execution_count": 96,
      "outputs": [
        {
          "output_type": "stream",
          "name": "stdout",
          "text": [
            "3.9963621189419256\n",
            "4.067963734617265\n",
            "3.42508275240639\n",
            "3.290344472938223\n",
            "3.2792638437412003\n",
            "3.529297294017251\n",
            "4.220275335118865\n",
            "3.6121916403430756\n",
            "3.9827139032008003\n",
            "3.609358190798711\n"
          ]
        }
      ]
    },
    {
      "cell_type": "code",
      "source": [
        "for rating in random_ratings:\n",
        "    print(predict_rating(rating[0], rating[1], all_partly_updated_knn[0], all_partly_updated_similarities[0], all_partly_updated_0_fill[0]))"
      ],
      "metadata": {
        "colab": {
          "base_uri": "https://localhost:8080/"
        },
        "id": "YU9ZT9O5kJRV",
        "outputId": "fe4c0e19-84ef-4484-e790-82c2b45bacb9"
      },
      "execution_count": 97,
      "outputs": [
        {
          "output_type": "stream",
          "name": "stdout",
          "text": [
            "3.99629630553757\n",
            "4.067963734617265\n",
            "3.425146479414679\n",
            "3.290344472938223\n",
            "3.2792638437412003\n",
            "3.529297294017251\n",
            "4.220275335118865\n",
            "3.6121916403430756\n",
            "3.9827139032008003\n",
            "3.609358190798711\n"
          ]
        }
      ]
    },
    {
      "cell_type": "code",
      "source": [
        "for rating in random_ratings:\n",
        "    print(predict_rating(rating[0], rating[1], combined_partly_updated_knn, combined_partly_updated_similarities, combined_partly_updated_0_fill))"
      ],
      "metadata": {
        "colab": {
          "base_uri": "https://localhost:8080/"
        },
        "id": "fqhx7aIHkNNQ",
        "outputId": "bbf0e651-b591-47be-c3a8-b06432c702ad"
      },
      "execution_count": 98,
      "outputs": [
        {
          "output_type": "stream",
          "name": "stdout",
          "text": [
            "3.99629630553757\n",
            "4.067963734617265\n",
            "3.425146479414679\n",
            "3.290344472938223\n",
            "3.2792638437412003\n",
            "3.529297294017251\n",
            "4.220275335118865\n",
            "3.6121916403430756\n",
            "3.9827139032008003\n",
            "3.609358190798711\n"
          ]
        }
      ]
    },
    {
      "cell_type": "markdown",
      "source": [
        "Now on a not so bussy up time we can update the whole matrix for all users"
      ],
      "metadata": {
        "id": "gpgvpDxQkPFT"
      }
    },
    {
      "cell_type": "code",
      "source": [
        "fully_updated_knn_matrix, fully_updated_similarities_matrix = k_nearest_neighbors(combined_partly_updated_0_fill, 100, 'euclidean')"
      ],
      "metadata": {
        "colab": {
          "base_uri": "https://localhost:8080/"
        },
        "id": "EcY4DlHGkNlZ",
        "outputId": "816bcd0c-e73c-4074-8f07-b382de515576"
      },
      "execution_count": 99,
      "outputs": [
        {
          "output_type": "stream",
          "name": "stdout",
          "text": [
            "Processed user 1/671 in 0.10 seconds.\n",
            "Processed user 101/671 in 0.05 seconds.\n",
            "Processed user 201/671 in 0.05 seconds.\n",
            "Processed user 301/671 in 0.09 seconds.\n",
            "Processed user 401/671 in 0.05 seconds.\n",
            "Processed user 501/671 in 0.05 seconds.\n",
            "Processed user 601/671 in 0.05 seconds.\n",
            "Total time taken: 43.86 seconds.\n"
          ]
        }
      ]
    },
    {
      "cell_type": "code",
      "source": [
        "train_rmse, train_mae = evaluate_model(knn_matrix_original, similarities_matrix_original, train_data_matrix_0_fill, train_data, print_=False)\n",
        "test_rmse, test_mae = evaluate_model(knn_matrix_original, similarities_matrix_original, train_data_matrix_0_fill, test_data, print_=False)\n",
        "print(f\"Training RMSE: {train_rmse}\")\n",
        "print(f\"Training MAE: {train_mae}\")\n",
        "print(\"=\" * 40)\n",
        "print(f\"Test RMSE: {test_rmse}\")\n",
        "print(f\"Test MAE: {test_mae}\")"
      ],
      "metadata": {
        "colab": {
          "base_uri": "https://localhost:8080/"
        },
        "id": "f3Xq4VSskRZj",
        "outputId": "d5fc8829-3450-4a45-ebd6-993bd951045a"
      },
      "execution_count": 100,
      "outputs": [
        {
          "output_type": "stream",
          "name": "stdout",
          "text": [
            "Training RMSE: 1.323584415100453\n",
            "Training MAE: 1.0450259504588382\n",
            "========================================\n",
            "Test RMSE: 1.317197583268473\n",
            "Test MAE: 1.039886370711994\n"
          ]
        }
      ]
    },
    {
      "cell_type": "code",
      "source": [
        "train_rmse, train_mae = evaluate_model(combined_partly_updated_knn, combined_partly_updated_similarities, combined_partly_updated_0_fill, train_data, print_=False)\n",
        "test_rmse, test_mae = evaluate_model(combined_partly_updated_knn, combined_partly_updated_similarities, combined_partly_updated_0_fill, test_data, print_=False)\n",
        "print(f\"Training RMSE: {train_rmse}\")\n",
        "print(f\"Training MAE: {train_mae}\")\n",
        "print(\"=\" * 40)\n",
        "print(f\"Test RMSE: {test_rmse}\")\n",
        "print(f\"Test MAE: {test_mae}\")"
      ],
      "metadata": {
        "colab": {
          "base_uri": "https://localhost:8080/"
        },
        "id": "H9NUvNXgkg1N",
        "outputId": "c1bbf3d5-29d8-4494-d473-efc4f71ac79b"
      },
      "execution_count": 101,
      "outputs": [
        {
          "output_type": "stream",
          "name": "stdout",
          "text": [
            "Training RMSE: 1.3235567119345608\n",
            "Training MAE: 1.0449750995923466\n",
            "========================================\n",
            "Test RMSE: 1.3170976393628866\n",
            "Test MAE: 1.0399033719938375\n"
          ]
        }
      ]
    },
    {
      "cell_type": "code",
      "source": [
        "train_rmse, train_mae = evaluate_model(fully_updated_knn_matrix, fully_updated_similarities_matrix, combined_partly_updated_0_fill, train_data, print_=False)\n",
        "test_rmse, test_mae = evaluate_model(fully_updated_knn_matrix, fully_updated_similarities_matrix, combined_partly_updated_0_fill, test_data, print_=False)\n",
        "print(f\"Training RMSE: {train_rmse}\")\n",
        "print(f\"Training MAE: {train_mae}\")\n",
        "print(\"=\" * 40)\n",
        "print(f\"Test RMSE: {test_rmse}\")\n",
        "print(f\"Test MAE: {test_mae}\")"
      ],
      "metadata": {
        "colab": {
          "base_uri": "https://localhost:8080/"
        },
        "id": "3wiqX8rokndK",
        "outputId": "0be99c01-62a8-4b6f-d091-0063fdf03452"
      },
      "execution_count": 102,
      "outputs": [
        {
          "output_type": "stream",
          "name": "stdout",
          "text": [
            "Training RMSE: 1.323584415100453\n",
            "Training MAE: 1.0450259504588382\n",
            "========================================\n",
            "Test RMSE: 1.317197583268473\n",
            "Test MAE: 1.039886370711994\n"
          ]
        }
      ]
    }
  ]
}